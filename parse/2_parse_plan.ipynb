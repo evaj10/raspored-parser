{
 "cells": [
  {
   "attachments": {},
   "cell_type": "markdown",
   "metadata": {},
   "source": [
    "### Parsiranje nastavnog plana\n",
    "\n",
    "#### Ulazni fajl:\n",
    "- ```Plan99.xls```\n",
    "\n",
    "#### Struktura ulaznog fajla\n",
    "- Informacije o svim **studijskim programima**, jedan studijski program je jedan sheet\n",
    "- Za svaki studijski program, informacije o svim **predmetima** koji se održavaju u određenom semestru (zimski ili letnji)\n",
    "- Za svaki predmet, informacije o **broju semestra, stepenu studija, šifri predmeta i fondu časova** (predavanja i vežbe)\n",
    "\n",
    "### Dostupni sheet-ovi ulaznog fajla\n",
    "\n",
    "![Plan sheet-ovi](../docs/plan_sheetovi.png)\n",
    "\n",
    "### Primer sheet-a ulaznog fajla\n",
    "\n",
    "![Primer plana](../docs/plan_primer.png)"
   ]
  },
  {
   "cell_type": "code",
   "execution_count": null,
   "metadata": {},
   "outputs": [],
   "source": [
    "import pandas as pd\n",
    "import uuid\n",
    "from model_parser import *"
   ]
  },
  {
   "attachments": {},
   "cell_type": "markdown",
   "metadata": {},
   "source": [
    "### Utility funkcije"
   ]
  },
  {
   "cell_type": "code",
   "execution_count": null,
   "metadata": {},
   "outputs": [],
   "source": [
    "import re\n",
    "from parser_utils import roman_to_arab, semestar_to_godina, semestar_to_oznaka, cyrilic_to_latin, sheet_name_to_raspored_name"
   ]
  },
  {
   "cell_type": "code",
   "execution_count": null,
   "metadata": {},
   "outputs": [],
   "source": [
    "def extract_plan_num(plan):\n",
    "    # find first numeric value in plan\n",
    "    plan_num = int(re.findall(r'\\d+', plan)[0])\n",
    "    return plan_num"
   ]
  },
  {
   "attachments": {},
   "cell_type": "markdown",
   "metadata": {},
   "source": [
    "#### Parsiranje studijskih programi\n",
    "\n",
    "- pronađeno **35** studijskih programa (rasporeda)\n",
    "- ukupno **184** oznake studijskih programa (sa grananjem i podsmerovima)\n",
    "- oznake koje nisu pronađene u realizaciji, ali postoje u planu:\n",
    "    - IM8, RUS, SP0, SL0"
   ]
  },
  {
   "cell_type": "code",
   "execution_count": null,
   "metadata": {},
   "outputs": [],
   "source": [
    "def parse_studijski_programi(\n",
    "        file_path: str = '../data/Plan99.xls'\n",
    ") -> list[StudijskiProgram]:\n",
    "    # read all sheets\n",
    "    plan = pd.read_excel(file_path, sheet_name=None)\n",
    "\n",
    "    # drop unused sheets\n",
    "    plan.pop('Podaci')\n",
    "    plan.pop('MAS (2)')\n",
    "\n",
    "    # name mappings\n",
    "    column_names = ['Struka', 'Nivo', 'Stepen', 'Oznaka SS']\n",
    "    attr_names = ['naziv', 'nivo', 'stepen', 'oznaka']\n",
    "    name_mapping = {key: value for (key, value) in zip(column_names, attr_names)}\n",
    "    \n",
    "    studijski_programi = []\n",
    "    for _, sheet in plan.items():\n",
    "        # preprocess\n",
    "        sheet = sheet[column_names]\n",
    "        sheet = sheet.rename(columns=name_mapping)\n",
    "        sheet = sheet.drop_duplicates()\n",
    "        sheet = sheet.dropna()\n",
    "        sheet = sheet.astype({'stepen': 'int32', 'nivo': 'int32'})\n",
    "        # create objects\n",
    "        for _, row in sheet.iterrows():\n",
    "            oznaka = cyrilic_to_latin(row.oznaka)\n",
    "            naziv = cyrilic_to_latin(row.naziv)\n",
    "            stud_program = StudijskiProgram(str(uuid.uuid4()), row.stepen, row.nivo, oznaka, naziv)\n",
    "            studijski_programi.append(stud_program)\n",
    "    \n",
    "    return studijski_programi"
   ]
  },
  {
   "attachments": {},
   "cell_type": "markdown",
   "metadata": {},
   "source": [
    "#### Parsiranje predmeta\n",
    "- pronađeno **1627** predmeta"
   ]
  },
  {
   "cell_type": "code",
   "execution_count": null,
   "metadata": {},
   "outputs": [],
   "source": [
    "def parse_predmeti(\n",
    "        studijski_programi: list[StudijskiProgram],\n",
    "        file_path: str = '../data/Plan99.xls'\n",
    ") -> list[Predmet]:\n",
    "    # read all sheets\n",
    "    plan = pd.read_excel(file_path, sheet_name=None)\n",
    "\n",
    "    # drop unused sheets\n",
    "    plan.pop('Podaci')\n",
    "    plan.pop('MAS (2)')\n",
    "\n",
    "    # name mappings\n",
    "    column_names = ['Nastavni plan', 'Šifra Struke', 'Katedra', 'Semestar', 'Šifra predmeta', 'Naziv predmeta', 'Fond pred.', 'Fond aud. v.', 'Nivo', 'Stepen', 'Oznaka SS']\n",
    "    attr_names = ['plan', 'sifra_struke', 'katedra', 'semestar', 'sifra', 'naziv', 'fond_pred', 'fond_vezbe', 'nivo', 'stepen', 'oznaka_sp']\n",
    "    name_mapping = {key: value for (key, value) in zip(column_names, attr_names)}\n",
    "    \n",
    "    predmeti  = []\n",
    "    for _, sheet in plan.items():\n",
    "        # preprocess\n",
    "        sheet = sheet[column_names]\n",
    "        sheet = sheet.rename(columns=name_mapping)\n",
    "        sheet = sheet.drop_duplicates()\n",
    "        sheet = sheet.dropna()\n",
    "        for _, row in sheet.iterrows():\n",
    "            # find studijski program that predmet belongs to\n",
    "            stud_program = next((x for x in studijski_programi if x.stepen == row.stepen and x.nivo == row.nivo and x.oznaka == row.oznaka_sp), None)\n",
    "            sifra = cyrilic_to_latin(row.sifra)\n",
    "            naziv = cyrilic_to_latin(row.naziv)\n",
    "            semestar_arapski = roman_to_arab(row.semestar)\n",
    "            godina = semestar_to_godina(semestar_arapski)\n",
    "            semestar = semestar_to_oznaka(semestar_arapski)\n",
    "            plan = extract_plan_num(row.plan)\n",
    "            predmet = Predmet(str(uuid.uuid4()), sifra, plan, naziv, godina, semestar, row.fond_pred, stud_program.id, row.fond_vezbe, row.sifra_struke)\n",
    "            predmeti.append(predmet)\n",
    "    return predmeti"
   ]
  },
  {
   "attachments": {},
   "cell_type": "markdown",
   "metadata": {},
   "source": [
    "### Izmena imena studijskih programa\n",
    "\n",
    "- tačna imena se nalaze u ```Realizacija```\n",
    "- netačna imena u ```Plan```"
   ]
  },
  {
   "cell_type": "code",
   "execution_count": null,
   "metadata": {},
   "outputs": [],
   "source": [
    "def rename_studijski_programi(\n",
    "        stud_programi_plan: list[StudijskiProgram],\n",
    "        stud_programi_realizacija: list[StudijskiProgram]\n",
    ") -> list[StudijskiProgram]:\n",
    "    for stud_program_plan in stud_programi_plan:\n",
    "        stud_program = next((x for x in stud_programi_realizacija \\\n",
    "                            if x.oznaka == stud_program_plan.oznaka and \\\n",
    "                                x.stepen == stud_program_plan.stepen and \\\n",
    "                                x.nivo == stud_program_plan.nivo), None)\n",
    "        if stud_program:\n",
    "            stud_program_plan.naziv = stud_program.naziv\n",
    "    return stud_programi_plan"
   ]
  },
  {
   "attachments": {},
   "cell_type": "markdown",
   "metadata": {},
   "source": [
    "### Parsiranje informacija o kombinovanju rasporeda\n",
    "\n",
    "- Kreiranje struktura za kombinovanje više studijskih programa u jedan \"štampani\" raspored\n",
    "- E2 se deli na više studijskih programa posle 2. godine, ali se svi nalaze u jednom rasporedu\n",
    "- ```Plan99.xls``` ima spisak studijskih programa koji pripadaju istom rasporedu\n",
    "    - 1 sheet = 1 raspored, svi studijski programi u sheet-u se \"štampaju\" na istom rasporedu\n",
    "\n",
    "```Struktura:\n",
    "RasporedPrikaz\n",
    "{\n",
    "  \"nazivRasporeda\": \"Racunarstvo i automatika\", -> uzima se za ime fajla\n",
    "  \"studProgrami\": [studProgram_id, studProgram_id, studProgram_id]\n",
    "}\n",
    "```"
   ]
  },
  {
   "cell_type": "code",
   "execution_count": null,
   "metadata": {},
   "outputs": [],
   "source": [
    "# DOPUNE\n",
    "# CRUD\n",
    "# dodavanje novog rasporeda => dodavanje novog entiteta\n",
    "# dodavanje novog studijskog programa u raspored => dodavanje id-a u listu\n",
    "# studijski programi postoje u sistemu => izmena rasporeda je CRUD (samo (od)linkovanje novog entiteta)"
   ]
  },
  {
   "cell_type": "code",
   "execution_count": null,
   "metadata": {},
   "outputs": [],
   "source": [
    "def create_raspored_spajanje(\n",
    "        studijski_programi: list[StudijskiProgram],\n",
    "        file_path: str = '../data/Plan99.xls'\n",
    "):\n",
    "    # read all sheets\n",
    "    plan = pd.read_excel(file_path, sheet_name=None)\n",
    "\n",
    "    # drop unused sheets\n",
    "    plan.pop('Podaci')\n",
    "    plan.pop('MAS (2)')\n",
    "\n",
    "\n",
    "    # ne postoji pojedinacan raspored na sajtu na koji se mapiraju\n",
    "    plan.pop('OSSET')\n",
    "    plan.pop('OSSEET')\n",
    "\n",
    "    # name mappings\n",
    "    column_names = ['Nivo', 'Stepen', 'Oznaka SS']\n",
    "    attr_names = ['nivo', 'stepen', 'oznaka_sp']\n",
    "    name_mapping = {key: value for (key, value) in zip(column_names, attr_names)}\n",
    "    \n",
    "    rasporedi = []\n",
    "    for sheet_name, sheet in plan.items():\n",
    "        # preprocess\n",
    "        sheet = sheet[column_names]\n",
    "        sheet = sheet.rename(columns=name_mapping)\n",
    "        sheet = sheet.drop_duplicates()\n",
    "        sheet = sheet.dropna()\n",
    "        stud_programi_for_raspored = []\n",
    "        for _, row in sheet.iterrows():\n",
    "            # find studijski program with given oznaka\n",
    "            stud_program_id = next((x.id for x in studijski_programi if x.stepen == row.stepen and x.nivo == row.nivo and x.oznaka == row.oznaka_sp), None)\n",
    "            stud_programi_for_raspored.append(stud_program_id)\n",
    "        rasporedi.append(RasporedPrikaz(sheet_name_to_raspored_name(sheet_name), stud_programi_for_raspored))\n",
    "    return rasporedi"
   ]
  },
  {
   "attachments": {},
   "cell_type": "markdown",
   "metadata": {},
   "source": [
    "### Ponovno generisanje Studentskih grupa sa novim id-evima studijskih programa\n",
    "\n",
    "- studijski programi dolaze iz ```Plan```\n",
    "- studentske grupe imaju id-eve iz ```Realizacija```\n",
    "- ponovno generisanje kako bi bili dobri id-evi"
   ]
  },
  {
   "attachments": {},
   "cell_type": "markdown",
   "metadata": {},
   "source": [
    "#### (E) Ekstrakcija podataka o **studentskim grupama**\n",
    "\n",
    "##### Primer ulaznih podataka\n",
    "- Studentske grupe - trenutni broj\n",
    "    - Excel\n",
    "    - postoji header red\n",
    "    - ```data/Grupe_Stud_sluzba_2022Z_OSP_proba.xlsx```\n",
    "    - raznovrsni zapisi broja studenata po grupi, podržani sledeći:\n",
    "        - 15\n",
    "        - gr 15 sa 12st\n",
    "        - Gr. 1 po 32 st.\n",
    "        - po 15st., Maket. gr.1,2,3,4 i Principi.  Gr.5,6,7,8\n",
    "        - Grupe 31,32  po 15 studenata\n",
    "        - gr 1,2,3,4 po 16st i gr 5,6 po 8st\n",
    "        - Gr. od 1 do 5  po 14 st.,\n",
    "        - Grupe 11- 8 st\n",
    "        - Grupe 21 do 28 po 11 st.\n",
    "\n",
    "![Studentske grupe](../docs/studentske_grupe.png)\n"
   ]
  },
  {
   "attachments": {},
   "cell_type": "markdown",
   "metadata": {},
   "source": [
    "##### Pomoćne funkcije za transformaciju podataka\n",
    "\n",
    "- Transformacija rimskih u arapske brojeve\n",
    "- Transformacija broja semestra (6) u godinu (3) i oznaku (L/Z) \n",
    "- Transformacija broja studenata po grupi"
   ]
  },
  {
   "cell_type": "code",
   "execution_count": null,
   "metadata": {},
   "outputs": [],
   "source": [
    "import re\n",
    "from parser_utils import roman_to_arab, semestar_to_godina, semestar_to_oznaka"
   ]
  },
  {
   "cell_type": "code",
   "execution_count": null,
   "metadata": {},
   "outputs": [],
   "source": [
    "def broj_stud_po_gr(text: str) -> int|str:\n",
    "    if type(text) == int:\n",
    "        return text\n",
    "    # ex. \"14 st\"\n",
    "    br = re.findall(r\"(\\d+)\\s?st\", text)\n",
    "    if len(br) == 1:\n",
    "        return int(br[0])\n",
    "    # ex. \"po 15st., Maket. gr.1,2,3,4 i Principi.  Gr.5,6,7,8\"\n",
    "    grupe_broj = []\n",
    "    grupe = text.split('i')\n",
    "    for i in range(len(br)):\n",
    "        br_grupa = len(grupe[i].split(','))\n",
    "        grupe_broj.append(str(br_grupa) + ' po ' + br[i])\n",
    "    # return format: broj_grupa,broj_studenata|broj_grupa,broj_studenata\n",
    "    return ('|').join(grupe_broj)"
   ]
  },
  {
   "cell_type": "code",
   "execution_count": null,
   "metadata": {},
   "outputs": [],
   "source": [
    "def extract_studentske_grupe(\n",
    "        studijski_programi_list: list[StudijskiProgram],\n",
    "        file_path: str = '../data/Grupe_Stud_sluzba_2022Z_OSP_proba.xlsx',\n",
    "        sheet_name: str = 'Trenutno - letnji'\n",
    ") -> list[StudentskaGrupa]:\n",
    "    # relevant columns\n",
    "    columns = 'C:I'\n",
    "    column_names = ['semestar_rimski', 'stepen', 'nivo', 'oznaka_sp', 'br_stud', 'br_gr', 'br_stud_po_gr_str']\n",
    "\n",
    "    stud_grupe = pd.read_excel(file_path, sheet_name=sheet_name, names=column_names, usecols=columns)\n",
    "\n",
    "    # transform broj semsestra\n",
    "    stud_grupe['semestar_arapski'] = stud_grupe.apply(lambda row: roman_to_arab(row.semestar_rimski), axis=1)\n",
    "    stud_grupe['godina'] = stud_grupe.apply(lambda row: semestar_to_godina(row.semestar_arapski), axis=1)\n",
    "    stud_grupe['semestar'] = stud_grupe.apply(lambda row: semestar_to_oznaka(row.semestar_arapski), axis=1)\n",
    "    stud_grupe.drop(['semestar_rimski', 'semestar_arapski'], axis=1, inplace=True)\n",
    "    # transform broj studenata po grupi\n",
    "    stud_grupe['br_stud_po_gr'] = stud_grupe.apply(lambda row: broj_stud_po_gr(row.br_stud_po_gr_str), axis=1)\n",
    "\n",
    "    studentska_grupa_list = []\n",
    "    for _, row in stud_grupe.iterrows():\n",
    "        stud_prog = next((x for x in studijski_programi_list if x.stepen == row.stepen and x.nivo == row.nivo and x.oznaka == row.oznaka_sp), None)\n",
    "\n",
    "        if row.br_gr == 0 or row.br_stud == 0:\n",
    "            continue\n",
    "        if stud_prog is not None:\n",
    "            if type(row.br_stud_po_gr) != int:\n",
    "                # ex. \"4 po 16|2 po 8\"\n",
    "                grupe = row.br_stud_po_gr.split('|')\n",
    "                j = 0\n",
    "                for grupa in grupe:\n",
    "                    broj_studenata_grupa = grupa.split(' po ')\n",
    "                    broj_grupa = int(broj_studenata_grupa[0])\n",
    "                    broj_studenata_po_grupi = int(broj_studenata_grupa[1])\n",
    "                    for _ in range(broj_grupa):\n",
    "                        studentska_grupa_list.append(StudentskaGrupa(str(uuid.uuid4()), j+1, row.godina, row.semestar, broj_studenata_po_grupi, stud_prog.id))\n",
    "                        j += 1\n",
    "            else:\n",
    "                for i in range(row.br_gr):\n",
    "                    studentska_grupa_list.append(StudentskaGrupa(str(uuid.uuid4()), i+1, row.godina, row.semestar, row.br_stud_po_gr, stud_prog.id))\n",
    "        else:\n",
    "            print('nepoznati studijski programi')\n",
    "            print(row.oznaka_sp)\n",
    "    return studentska_grupa_list"
   ]
  },
  {
   "attachments": {},
   "cell_type": "markdown",
   "metadata": {},
   "source": [
    "#### Izvršavanje"
   ]
  },
  {
   "cell_type": "code",
   "execution_count": null,
   "metadata": {},
   "outputs": [],
   "source": [
    "studijski_programi = parse_studijski_programi()\n",
    "predmeti = parse_predmeti(studijski_programi)\n",
    "\n",
    "schedule = MeetingSchedule.read_entity_from_file('1_svi_fajlovi')\n",
    "\n",
    "studijski_programi = rename_studijski_programi(studijski_programi, schedule.studProgramList)\n",
    "studentske_grupe = extract_studentske_grupe(studijski_programi)\n",
    "\n",
    "schedule.studProgramList = studijski_programi\n",
    "schedule.predmetList = predmeti\n",
    "schedule.studentskaGrupaList = studentske_grupe\n",
    "ReadWrite.write_to_file(schedule, '2_svi_fajlovi_plan')\n",
    "\n",
    "rasporedi = create_raspored_spajanje(schedule.studProgramList)\n",
    "ReadWrite.write_to_file(rasporedi, '2_rasporedi_spajanje_plan')\n",
    "\n",
    "# mapiranje novih predmeta\n",
    "print(studijski_programi[0])\n",
    "print(predmeti[0])\n",
    "print(studentske_grupe[0])\n",
    "print(len(studijski_programi))\n",
    "print(len(predmeti))\n",
    "print(len(studentske_grupe))"
   ]
  },
  {
   "cell_type": "code",
   "execution_count": null,
   "metadata": {},
   "outputs": [],
   "source": [
    "# Ljubisa: nepronadjeni studijski programi koji se nalaze u planu, a ne nalaze se u realizaciji"
   ]
  }
 ],
 "metadata": {
  "kernelspec": {
   "display_name": "venv",
   "language": "python",
   "name": "python3"
  },
  "language_info": {
   "codemirror_mode": {
    "name": "ipython",
    "version": 3
   },
   "file_extension": ".py",
   "mimetype": "text/x-python",
   "name": "python",
   "nbconvert_exporter": "python",
   "pygments_lexer": "ipython3",
   "version": "3.11.2"
  },
  "orig_nbformat": 4
 },
 "nbformat": 4,
 "nbformat_minor": 2
}
