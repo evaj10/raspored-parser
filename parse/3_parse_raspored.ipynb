{
 "cells": [
  {
   "attachments": {},
   "cell_type": "markdown",
   "metadata": {},
   "source": [
    "## Parsiranje rasporeda\n",
    "\n",
    "### Ulazni fajlovi:\n",
    "- ```Ponedeljak.xls```\n",
    "- ```Utorak.xls```\n",
    "- ```Sreda.xls```\n",
    "- ```Cetvrtak.xls```\n",
    "- ```Petak.xls```\n",
    "- ```Subota.xls```\n",
    "\n",
    "### Dostupni sheet-ovi ulaznih fajlova\n",
    "\n",
    "![Raspored sheet-ovi](../docs/raspored_sheetovi.png)\n",
    "\n",
    "### Primer sheet-a ulaznog fajla\n",
    "\n",
    "![Primer rasporeda](../docs/raspored_primer.png)\n"
   ]
  },
  {
   "attachments": {},
   "cell_type": "markdown",
   "metadata": {},
   "source": [
    "### Klasa ```RasporedTermin```\n",
    "\n",
    "Sadrži informacije o terminima koji se održavaju po najnovijem rasporedu nastave\n",
    "- trajanje termina\n",
    "- naziv predmeta\n",
    "- ime, prezime i titula svih predavača\n",
    "- oznaka semestra\n",
    "- oznake studentskih grupa\n",
    "- tip nastave (predavanje, auditorne, računarske, laboratorijske vežbe)\n",
    "- oznaka katedre\n",
    "- ukupan broj studenata\n",
    "- šifra struke"
   ]
  },
  {
   "cell_type": "code",
   "execution_count": 10,
   "metadata": {},
   "outputs": [],
   "source": [
    "from model_parser import RasporedTermin, ReadWrite"
   ]
  },
  {
   "cell_type": "code",
   "execution_count": 11,
   "metadata": {},
   "outputs": [],
   "source": [
    "# kreiranje liste objekata klase RasporedTermin na osnovu parsiranog reda\n",
    "def create_termin_list(\n",
    "        parsed_row: list\n",
    ") -> list[RasporedTermin]:\n",
    "    attr_names = ['sifraStruke', 'semestar', 'predmet', 'tipNastave', 'studGrupa', 'predavac', 'oznakaKatedre', 'ukupnoStud']\n",
    "    termin_num = len(parsed_row[0])\n",
    "    termini = []\n",
    "\n",
    "    for i in range(termin_num):\n",
    "        termin = RasporedTermin()\n",
    "        for j, attr in enumerate(attr_names):\n",
    "            setattr(termin, attr, parsed_row[j][i][0])\n",
    "        termin.trajanje = parsed_row[0][0][1]\n",
    "        termini.append(termin)\n",
    "    return termini"
   ]
  },
  {
   "attachments": {},
   "cell_type": "markdown",
   "metadata": {},
   "source": [
    "## Pretprocesiranje tekstualnog sadržaja"
   ]
  },
  {
   "cell_type": "code",
   "execution_count": 12,
   "metadata": {},
   "outputs": [],
   "source": [
    "from parser_utils import remove_new_line, remove_extra_whitespace, title_to_lowercase"
   ]
  },
  {
   "cell_type": "code",
   "execution_count": 13,
   "metadata": {},
   "outputs": [],
   "source": [
    "def preprocess(text):\n",
    "    # 1) remove all new line and tab characters\n",
    "    text = remove_new_line(text)\n",
    "    # 2) remove additional whitespaces\n",
    "    text = remove_extra_whitespace(text)\n",
    "    # 3) title to lower\n",
    "    text = title_to_lowercase(text)\n",
    "    return text"
   ]
  },
  {
   "attachments": {},
   "cell_type": "markdown",
   "metadata": {},
   "source": [
    "### Parser"
   ]
  },
  {
   "cell_type": "code",
   "execution_count": 14,
   "metadata": {},
   "outputs": [],
   "source": [
    "import numpy as np\n",
    "import pandas as pd"
   ]
  },
  {
   "cell_type": "code",
   "execution_count": 15,
   "metadata": {},
   "outputs": [],
   "source": [
    "# read each sheet given in list from excel file\n",
    "# skip the 'Ucionica' column\n",
    "# read all values as string\n",
    "def read_sheets(\n",
    "        file_name: str,\n",
    "        dir_path: str = '../data/', \n",
    "        prostorija_column: str = 'Učionica',\n",
    "        sheet_list: list[str] = ['Sifra struke', 'Semest', 'Naziv pred.', 'Vrsta nastave', 'Br grupe', 'Nastavnik', 'Katedra', 'BrStud']\n",
    ")-> list[pd.DataFrame]:\n",
    "    file_path = dir_path + file_name + '.xls'\n",
    "    \n",
    "    sheets = []\n",
    "    for sheet_name in sheet_list:\n",
    "        sheet = pd.read_excel(file_path, sheet_name=sheet_name, usecols=lambda x: prostorija_column not in x, dtype=str)\n",
    "        sheets.append(sheet)\n",
    "    \n",
    "    return sheets"
   ]
  },
  {
   "cell_type": "code",
   "execution_count": 16,
   "metadata": {},
   "outputs": [],
   "source": [
    "def sheet_row_parser(\n",
    "        row: np.ndarray\n",
    "):\n",
    "    termini = []\n",
    "    count = 0\n",
    "    current = np.nan\n",
    "\n",
    "    i = 0\n",
    "    while i < len(row):\n",
    "        x = row[i]\n",
    "        reset = yield termini\n",
    "\n",
    "        # breaks\n",
    "        # break termin (reset counter and add parsed termin)\n",
    "        # break was found in earlier sheet so break normaln for following\n",
    "        if reset == 1:\n",
    "            termini.append((current, count))\n",
    "            current = x\n",
    "            count = 0\n",
    "        # hard break termin (reset counter and add parsed termin)\n",
    "        # because break was found in later sheet\n",
    "        if reset == -1:\n",
    "            termini.append((current, count-1))\n",
    "            current = x\n",
    "            count = 1\n",
    "            continue\n",
    "\n",
    "        # cheks if changes occur\n",
    "        # nan found\n",
    "        if not isinstance(x, str):\n",
    "            # if previous was not nan, break termin\n",
    "            if isinstance(current, str):\n",
    "                termini.append((current, count))\n",
    "            # if previous was nan, continue\n",
    "            count = 0\n",
    "            current = np.nan\n",
    "            i += 1\n",
    "            continue\n",
    "        # value changed\n",
    "        if x != current:\n",
    "            # if previous value was not nan, break termin\n",
    "            if isinstance(current, str):\n",
    "                termini.append((current, count))\n",
    "            # if previous was nan, start counting\n",
    "            count = 0\n",
    "            current = x\n",
    "        # no change, increase counter\n",
    "        if current == x:\n",
    "            count += 1\n",
    "        \n",
    "        # iterate forward\n",
    "        i += 1"
   ]
  },
  {
   "cell_type": "code",
   "execution_count": 17,
   "metadata": {},
   "outputs": [],
   "source": [
    "# controlles sheet parser communication\n",
    "# if one sheets breaks termin, others are notified\n",
    "def sheet_controller(\n",
    "        sheets_row: list[np.ndarray]\n",
    ") -> list[list[tuple]]:\n",
    "    # create sheet_row_parser for each sheet row\n",
    "    generators = [sheet_row_parser(row) for row in sheets_row]\n",
    "    sheet_num = len(sheets_row)\n",
    "    parsed_rows = [{} for i in range(sheet_num)]\n",
    "\n",
    "    # invoke each generator\n",
    "    for gen in generators:\n",
    "        next(gen)\n",
    "    \n",
    "    count = 0\n",
    "    reset = 0\n",
    "    try:\n",
    "        while True:\n",
    "            if reset == 1:\n",
    "                # find maximum number of termini found in all sheets\n",
    "                max_length = max(len(x) for x in parsed_rows)\n",
    "                reset = -1\n",
    "                # for each sheet row parser generator\n",
    "                for idx, gen in enumerate(generators):\n",
    "                    # send reset if sheet row termin should be split\n",
    "                    # eg. [P1, P1, P1], [G1, G1, G2]\n",
    "                    # Predmet 1 has 2 15-min slots for Group 1, then a 15-min slot for Group 2\n",
    "                    # Group generator will break termin and signal will be sent to Predmet generator\n",
    "                    # Because Predmet is before Group generator, a hard reset has to be sent (reset backward)\n",
    "                    if max_length > len(parsed_rows[idx]):\n",
    "                        parsed_rows[idx] = gen.send(reset)\n",
    "            reset = 0\n",
    "            for idx, gen in enumerate(generators):\n",
    "                # parse forward\n",
    "                parsed_rows[idx] = gen.send(reset)\n",
    "                # check if new termin found\n",
    "                if len(parsed_rows[idx]) > count:\n",
    "                    # update termin count\n",
    "                    count = len(parsed_rows[idx])\n",
    "                    # set reset to break termin in following generators\n",
    "                    # (break termin in gen 3 of 8 -> send reset to 4,5,6,7,8)\n",
    "                    reset = 1\n",
    "    except StopIteration:\n",
    "        # print(\"sheet row finished\")\n",
    "        pass\n",
    "    \n",
    "    return parsed_rows"
   ]
  },
  {
   "cell_type": "code",
   "execution_count": 18,
   "metadata": {},
   "outputs": [],
   "source": [
    "def file_controller(\n",
    "        file_name: str,\n",
    "        dir_path: str = '../data/', \n",
    "        prostorija_column: str = 'Učionica',\n",
    "        sheet_list: list[str] = ['Sifra struke', 'Semest', 'Naziv pred.', 'Vrsta nastave', 'Br grupe', 'Nastavnik', 'Katedra', 'BrStud']\n",
    ") -> list[RasporedTermin]:\n",
    "    # reads all sheets for specific file_name (Ponedeljak, Utorak,...)\n",
    "    sheets = read_sheets(file_name, dir_path, prostorija_column, sheet_list)\n",
    "\n",
    "    prostorije_raspored = []\n",
    "    row_num = len(sheets[0].index)\n",
    "\n",
    "    # combine each coresponding row from every sheet into a list\n",
    "    for i in range(row_num):\n",
    "        sheets_row = []\n",
    "        for sheet in sheets:\n",
    "            row = sheet.iloc[i].values\n",
    "            sheets_row.append(row)\n",
    "\n",
    "        # parse the rows\n",
    "        parsed_row = sheet_controller(sheets_row)\n",
    "\n",
    "        # create RasporedTermin list for row\n",
    "        raspored_red_list = create_termin_list(parsed_row)\n",
    "        prostorije_raspored += raspored_red_list\n",
    "    \n",
    "    return prostorije_raspored"
   ]
  },
  {
   "attachments": {},
   "cell_type": "markdown",
   "metadata": {},
   "source": [
    "### Parsiranje svih rasporeda"
   ]
  },
  {
   "cell_type": "code",
   "execution_count": 19,
   "metadata": {},
   "outputs": [],
   "source": [
    "def parse_data(\n",
    "        file_names: list[str] = ['Ponedeljak', 'Utorak', 'Sreda', 'Cetvrtak', 'Petak', 'Subota']\n",
    "):\n",
    "    data = []\n",
    "    for file_name in file_names:\n",
    "        data += file_controller(file_name)\n",
    "    return data"
   ]
  },
  {
   "attachments": {},
   "cell_type": "markdown",
   "metadata": {},
   "source": [
    "### Sređivanje podataka (pretprocesiranje)"
   ]
  },
  {
   "cell_type": "code",
   "execution_count": 20,
   "metadata": {},
   "outputs": [],
   "source": [
    "def data_preprocess(\n",
    "        data: list[RasporedTermin]\n",
    ") -> list[RasporedTermin]:\n",
    "    for termin in data:\n",
    "        termin.predmet = preprocess(termin.predmet)\n",
    "        termin.predavac = preprocess(termin.predavac)\n",
    "        termin.studGrupa = preprocess(termin.studGrupa)\n",
    "    return data"
   ]
  },
  {
   "attachments": {},
   "cell_type": "markdown",
   "metadata": {},
   "source": [
    "### Izvršavanje"
   ]
  },
  {
   "cell_type": "code",
   "execution_count": 21,
   "metadata": {},
   "outputs": [],
   "source": [
    "data = parse_data()\n",
    "data = data_preprocess(data)\n",
    "ReadWrite.write_to_file(data, '3_raspored')"
   ]
  },
  {
   "cell_type": "code",
   "execution_count": null,
   "metadata": {},
   "outputs": [],
   "source": []
  }
 ],
 "metadata": {
  "kernelspec": {
   "display_name": "venv",
   "language": "python",
   "name": "python3"
  },
  "language_info": {
   "codemirror_mode": {
    "name": "ipython",
    "version": 3
   },
   "file_extension": ".py",
   "mimetype": "text/x-python",
   "name": "python",
   "nbconvert_exporter": "python",
   "pygments_lexer": "ipython3",
   "version": "3.11.2"
  },
  "orig_nbformat": 4
 },
 "nbformat": 4,
 "nbformat_minor": 2
}
