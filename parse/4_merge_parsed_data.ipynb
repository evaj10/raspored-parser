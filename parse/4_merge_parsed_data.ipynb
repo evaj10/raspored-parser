{
 "cells": [
  {
   "attachments": {},
   "cell_type": "markdown",
   "metadata": {},
   "source": [
    "### Spajanje podataka\n",
    "\n",
    "#### Ulazni podaci:\n",
    "- ```Rasporedi (Ponedeljak.xlsx, Utorak.xlsx,...)```\n",
    "- ```Plan99.xls```\n",
    "- ```Realizacija.xlsx```\n",
    "\n",
    "#### Proces spajanja\n",
    "1. prolaziti kroz sve pročitane termine iza rasporeda\n",
    "2. pronalaziti odgovarajuće entitete koji su ranije parsirani iz plana i realizacije\n",
    "    1. pronađen, dodeli ga\n",
    "    2. nije pronađen, kreiraj ga"
   ]
  },
  {
   "cell_type": "code",
   "execution_count": 1,
   "metadata": {},
   "outputs": [],
   "source": [
    "from model_parser import *\n",
    "from parser_utils import map_class_lengths\n",
    "from collections import defaultdict"
   ]
  },
  {
   "attachments": {},
   "cell_type": "markdown",
   "metadata": {},
   "source": [
    "#### Učitavanje svih fajlova"
   ]
  },
  {
   "cell_type": "code",
   "execution_count": 2,
   "metadata": {},
   "outputs": [],
   "source": [
    "# ucitano na osnovu rasporeda\n",
    "raspored = RasporedTermin.read_list_from_file('3_raspored')\n",
    "raspored_izmene = raspored.copy()\n",
    "# ucitano na osnovu realizacije i dodatnih fajlova + prosireno planom\n",
    "schedule = MeetingSchedule.read_entity_from_file('2_svi_fajlovi_plan')\n",
    "schedule_izmene = MeetingSchedule.read_entity_from_file('2_svi_fajlovi_plan')"
   ]
  },
  {
   "attachments": {},
   "cell_type": "markdown",
   "metadata": {},
   "source": [
    "### Dopunjavanje pročitanog rasporeda\n",
    "\n",
    "- raspored pročitan iz ```Ponedeljak.xlsx, Utorak.xlsx,...``` dopunjavati podacima pročitanih iz ```Plan99.xls```"
   ]
  },
  {
   "attachments": {},
   "cell_type": "markdown",
   "metadata": {},
   "source": [
    "#### Izbacivanje termina koji su vezani za predavanja Japanskog\n",
    "\n",
    "- Japanski jezik"
   ]
  },
  {
   "cell_type": "code",
   "execution_count": 3,
   "metadata": {},
   "outputs": [],
   "source": [
    "def remove_japanski(\n",
    "        raspored: list[RasporedTermin]\n",
    ") -> list[RasporedTermin]:\n",
    "    raspored = [termin for termin in raspored if termin.predmet != 'Japanski jezik']\n",
    "    return raspored"
   ]
  },
  {
   "cell_type": "code",
   "execution_count": 4,
   "metadata": {},
   "outputs": [],
   "source": [
    "raspored_izmene = remove_japanski(raspored)"
   ]
  },
  {
   "attachments": {},
   "cell_type": "markdown",
   "metadata": {},
   "source": [
    "#### Pronalaženje katedre\n",
    "- **nepostojeće oznake katedri**: {162, 100, 211, 212, 213}\n",
    "    - 100 je Japanski jezik, biće izbačen\n",
    "    - 162 je greška u unosu, treba da bude **192**\n",
    "    - 211 je Odsek za automatiku, geomatiku i upravljanje sistemima\n",
    "        - mapiraćemo na katedru za automatiku: **2111**\n",
    "    - 212 je Odsek za primenjene računarske nauke i informatiku\n",
    "        - mapiraćemo na katedru za informatiku: **216**\n",
    "    - 213 je Odsek za računarsku tehniku i računarske komunikacije\n",
    "        - mapiraćemo na katedru za računarsku tehniku: **2131**"
   ]
  },
  {
   "cell_type": "code",
   "execution_count": 5,
   "metadata": {},
   "outputs": [],
   "source": [
    "def extract_predavac_names(\n",
    "        raspored: list[RasporedTermin]\n",
    ") -> list[RasporedTermin]:\n",
    "    for termin in raspored:\n",
    "        predavaci = []\n",
    "        multiple_names = termin.predavac.split(',')\n",
    "        multiple_names = [name.split() for name in multiple_names]\n",
    "        for name in multiple_names:\n",
    "            predavaci.append(tuple(name))\n",
    "        termin.predavaci_imena = predavaci\n",
    "    return raspored"
   ]
  },
  {
   "cell_type": "code",
   "execution_count": 6,
   "metadata": {},
   "outputs": [],
   "source": [
    "def find_predavac(\n",
    "        name: tuple[str],\n",
    "        predavaci: list[Predavac]\n",
    ") -> Predavac:\n",
    "    # da li je predavac nov, ako je nov -> missing je\n",
    "    if name[0] == 'Nov' or name[0] == 'Novi' or name[0] == 'Predavač':\n",
    "        return None\n",
    "    \n",
    "    # prezime ime\n",
    "    if len(name) == 2:\n",
    "        prezime = name[0]\n",
    "        ime = name[1]\n",
    "        predavac = next((x for x in predavaci if x.ime == ime and x.prezime == prezime), None)\n",
    "        if predavac:\n",
    "            return predavac\n",
    "        return None\n",
    "    # vise prezimena vise imena\n",
    "    # ako postoji bar jedno prezime plus to ime\n",
    "    if len(name) == 3 and name[1] not in ['mr', 'dr']:\n",
    "        prezime = name[0]\n",
    "        ime = name[-1]\n",
    "        predavac = next((x for x in predavaci if ime in x.ime and prezime in x.prezime), None)\n",
    "        if predavac:\n",
    "            return predavac\n",
    "        return None\n",
    "    \n",
    "    # prezime titula ime\n",
    "    if len(name) == 3 or (len(name) == 4 and name[1] in ['mr', 'dr']):\n",
    "        prezime = name[0]\n",
    "        ime = name[2]\n",
    "        predavac = next((x for x in predavaci if x.ime == ime and x.prezime == prezime), None)\n",
    "        if predavac:\n",
    "            # kad ga vratis, setuj mu titulu\n",
    "            return predavac\n",
    "        return None\n",
    "    # vise prezimena titula ime\n",
    "    if len(name) >= 4:\n",
    "        prezime = ' '.join(name[:-2])\n",
    "        ime = name[-1]\n",
    "        predavac = next((x for x in predavaci if x.ime == ime and x.prezime == prezime), None)\n",
    "        if predavac:\n",
    "            # kad ga vratis, setuj mu titulu\n",
    "            return predavac\n",
    "        # vise prezimena sa crticom\n",
    "        else:\n",
    "            prezime = name[0] + '-' + name[1]\n",
    "            predavac = next((x for x in predavaci if x.ime == ime and x.prezime == prezime), None)\n",
    "            if predavac:\n",
    "                # kad ga vratis, setuj mu titulu\n",
    "                return predavac\n",
    "            return None"
   ]
  },
  {
   "cell_type": "code",
   "execution_count": 7,
   "metadata": {},
   "outputs": [],
   "source": [
    "def find_missing_katedre(\n",
    "        raspored: list[RasporedTermin], \n",
    "        katedre: list[Katedra],\n",
    "        predavaci: list[Predavac]\n",
    ") -> set[int]:\n",
    "    missing = set()\n",
    "    for termin in raspored:\n",
    "        oznaka = int(termin.oznakaKatedre)\n",
    "        katedra = next((x for x in katedre if x.oznaka == oznaka), None)\n",
    "        if katedra is None:\n",
    "            missing.add(oznaka)\n",
    "    return missing"
   ]
  },
  {
   "cell_type": "code",
   "execution_count": 8,
   "metadata": {},
   "outputs": [],
   "source": [
    "def find_similar_katedra(\n",
    "        oznaka: int,\n",
    "        katedre: list[Katedra]\n",
    ") -> Katedra:\n",
    "    katedra = None\n",
    "    if oznaka == 162:\n",
    "        katedra = next(x for x in katedre if x.oznaka == 192)\n",
    "    elif oznaka == 211:\n",
    "        katedra = next(x for x in katedre if x.oznaka == 2111)\n",
    "    elif oznaka == 212:\n",
    "        katedra = next(x for x in katedre if x.oznaka == 216)\n",
    "    elif oznaka == 213:\n",
    "        katedra = next(x for x in katedre if x.oznaka == 2131)\n",
    "    return katedra"
   ]
  },
  {
   "cell_type": "code",
   "execution_count": 9,
   "metadata": {},
   "outputs": [],
   "source": [
    "def map_katedre(\n",
    "        raspored: list[RasporedTermin], \n",
    "        katedre: list[Katedra],\n",
    "        predavaci: list[Predavac]\n",
    ") -> list[RasporedTermin]:\n",
    "    raspored = extract_predavac_names(raspored)\n",
    "    for termin in raspored:\n",
    "        oznaka = int(termin.oznakaKatedre)\n",
    "        katedra = next((x for x in katedre if x.oznaka == oznaka), None)\n",
    "        if katedra is not None:\n",
    "            termin.oznakaKatedre_id = katedra.id\n",
    "        else:\n",
    "            found_predavac = False\n",
    "            for idx, predavac_name in enumerate(termin.predavaci_imena):\n",
    "                predavac = find_predavac(predavac_name, predavaci)\n",
    "                # ako postoji predavac, namapiraj njegovu katedru\n",
    "                if predavac is not None:\n",
    "                    found_predavac = True\n",
    "                    termin.oznakaKatedre_id = predavac.orgJedinica\n",
    "                    break\n",
    "            if not found_predavac:\n",
    "                # ne postoji predavac u sistemu, niti katedra\n",
    "                # namapiraj slicnu katedru\n",
    "                katedra = find_similar_katedra(oznaka, katedre)\n",
    "                termin.oznakaKatedre_id = katedra.id\n",
    "    return raspored"
   ]
  },
  {
   "cell_type": "code",
   "execution_count": 10,
   "metadata": {},
   "outputs": [],
   "source": [
    "raspored_izmene = map_katedre(raspored_izmene, schedule.katedraList, schedule.predavacList)"
   ]
  },
  {
   "attachments": {},
   "cell_type": "markdown",
   "metadata": {},
   "source": [
    "#### Pronalaženje predmeta i studijskog programa\n",
    "\n",
    "- ukupno **41** termin čiji naziv ne postoji u planu \n",
    "- ukupno **6** termina čiji predmeti čija je šifra struke potpuno različita, ali ime postoji:\n",
    "    - 1.\n",
    "        - raspored: 20MSSEMS1030\n",
    "        - plan:     20EMS1030\n",
    "        - naziv predmeta: Softver za FN sisteme u realnim uslovima rada\n",
    "    - 2.\n",
    "        - raspored: 20MSSEMS1030\n",
    "        - plan:     20EMS1030\n",
    "        - naziv predmeta: Specijalne električne instalacije\n",
    "    - 3.\n",
    "        - raspored: 99E2191\n",
    "        - plan:     21E21690\n",
    "        - naziv predmeta: Metodologija brzog razvoja softvera\n",
    "    - 4.\n",
    "        - raspored: 99E2277\n",
    "        - plan:     13E22570\n",
    "        - naziv predmeta: Web bazirani merno-akvizicaioni sistemi\n"
   ]
  },
  {
   "cell_type": "code",
   "execution_count": 11,
   "metadata": {},
   "outputs": [],
   "source": [
    "def map_predmeti_stud_programi(\n",
    "        raspored: list[RasporedTermin], \n",
    "        predmeti: list[Predmet]\n",
    ") -> list[RasporedTermin]:\n",
    "    for termin in raspored:\n",
    "        predmet = next((x for x in predmeti if (x.naziv == termin.predmet and x.sifraStruke == termin.sifraStruke)), None)\n",
    "        if predmet is None:\n",
    "            # u rasporedu postoje oznake tipa 99E2151\n",
    "            # dok se u planu sve oznake zavrsavaju 0\n",
    "            predmet_slican = next((x for x in predmeti if (x.naziv == termin.predmet and termin.sifraStruke[:-1] in x.sifraStruke)), None)\n",
    "            if predmet_slican is not None:\n",
    "                predmet = predmet_slican\n",
    "                termin.sifraStruke = predmet_slican.sifraStruke\n",
    "            else:\n",
    "                predmet_naziv = next((x for x in predmeti if x.naziv == termin.predmet), None)\n",
    "                if predmet_naziv is not None:\n",
    "                    predmet = predmet_naziv\n",
    "                    termin.sifraStruke = predmet_naziv.sifraStruke\n",
    "                else:\n",
    "                    continue\n",
    "        termin.predmet_id = predmet.id\n",
    "        termin.studProgram_id = predmet.studijskiProgram\n",
    "    return raspored"
   ]
  },
  {
   "cell_type": "code",
   "execution_count": 12,
   "metadata": {},
   "outputs": [],
   "source": [
    "raspored_izmene = map_predmeti_stud_programi(raspored_izmene, schedule.predmetList)"
   ]
  },
  {
   "cell_type": "code",
   "execution_count": 13,
   "metadata": {},
   "outputs": [
    {
     "data": {
      "text/plain": [
       "RasporedTermin(oznakaKatedre_id='c19f3ca3-2319-4653-b531-8fdbf3a9d640', predmet_id='56a3c084-c1a1-48a6-bf29-696a76c58f14', studProgram_id='66c36462-e5f4-4440-b425-8b7d277eb4a7', predavac_id=None, ostaliPredavaci=None, sifraStruke='99E2110', semestar='I', predmet='Matematička analiza 1', tipNastave='Pred.', studGrupa='SVI', predavac='Ralević dr Nebojša', oznakaKatedre='531', ukupnoStud='240', trajanje=8, predavaci_imena=[('Ralević', 'dr', 'Nebojša')])"
      ]
     },
     "execution_count": 13,
     "metadata": {},
     "output_type": "execute_result"
    }
   ],
   "source": [
    "raspored_izmene[1]"
   ]
  },
  {
   "attachments": {},
   "cell_type": "markdown",
   "metadata": {},
   "source": [
    "### Dopunjavanje informacija o predmetu iz realizacije informacijama iz rasporeda\n",
    "\n",
    "- ```Realizacija``` **nema** dobre informacije o tipovima vežbi i broju časova\n",
    "- ```Plan``` **nema** dobre informaciju o tipovima vežbi i broju časova\n",
    "- ```Raspored``` **ima** dobre informacije o tipovima vežbi i broju časova\n",
    "- => dopunjavamo parsirane podatke podacima iz rasporeda"
   ]
  },
  {
   "cell_type": "code",
   "execution_count": 14,
   "metadata": {},
   "outputs": [],
   "source": [
    "def extract_tipovi_vezbi_for_predmet(\n",
    "        raspored: list[RasporedTermin],\n",
    ") -> dict[set]:\n",
    "    predmet_tipovi = defaultdict(lambda: set())\n",
    "    for termin in raspored:\n",
    "        if termin.tipNastave == 'Pred.':\n",
    "            continue\n",
    "        predmet_tipovi[termin.predmet_id].add(termin.tipNastave)\n",
    "    return predmet_tipovi"
   ]
  },
  {
   "cell_type": "code",
   "execution_count": 15,
   "metadata": {},
   "outputs": [],
   "source": [
    "def count_termini_for_tip_vezbi(\n",
    "        raspored: list[RasporedTermin]\n",
    ") -> dict[list[int]]:\n",
    "    # koliko puta jedna grupa ima jedan tip vezbi iz jednog predmeta u toku nedelje i koliko taj termin traje\n",
    "    # (stud_program_id, predmet_id, tip_vezbi, grupa) -> [broj_pojavljivanja, trajanje]\n",
    "    broj_termina_za_tip_vezbi = defaultdict(lambda: [0, 0])\n",
    "    for termin in raspored:\n",
    "        if termin.tipNastave == 'Pred.':\n",
    "            continue\n",
    "        # ne brojimo ako nismo prethodno pronasli predmet ni u planu ni u realizaciji\n",
    "        if termin.predmet_id is None:\n",
    "            continue\n",
    "        broj_termina_za_tip_vezbi[(termin.studProgram_id, termin.predmet_id, termin.tipNastave, termin.studGrupa)][0] += 1\n",
    "        broj_termina_za_tip_vezbi[(termin.studProgram_id, termin.predmet_id, termin.tipNastave, termin.studGrupa)][1] = termin.trajanje\n",
    "    return broj_termina_za_tip_vezbi"
   ]
  },
  {
   "cell_type": "code",
   "execution_count": 16,
   "metadata": {},
   "outputs": [],
   "source": [
    "def map_casovi_for_tip_vezbi(\n",
    "        grupa: str,\n",
    "        broj_termina: int,\n",
    "        trajanje_termina_15: int\n",
    "):\n",
    "    # ako je 3, poseban slucaj dvoje vezanih vezbi od 45 minuta bez pauze\n",
    "    if trajanje_termina_15 != 3:\n",
    "        # ostale, umanji za 1 (broj podeoka od 15 minuta)\n",
    "        trajanje_termina_15 -= 1\n",
    "    trajanje_termina_casovi = map_class_lengths(trajanje_termina_15)\n",
    "    # vezbe se odrzavaju svake druge nedelje => broj_casova_vezbi / 2\n",
    "    if '(' in grupa and '-' not in grupa:\n",
    "        trajanje_termina_casovi = int(trajanje_termina_casovi / 2)\n",
    "    # ukupan broj casova vezbi je: trajanje jednog termina * broj termina\n",
    "    if trajanje_termina_casovi is None:\n",
    "        print(trajanje_termina_15)\n",
    "        trajanje_termina_casovi = 3\n",
    "    broj_casova_vezbi = trajanje_termina_casovi * broj_termina\n",
    "    return broj_casova_vezbi"
   ]
  },
  {
   "cell_type": "code",
   "execution_count": 17,
   "metadata": {},
   "outputs": [],
   "source": [
    "def map_tipovi_vezbi_for_predmet(\n",
    "        raspored: list[RasporedTermin],\n",
    "        predmeti: list[Predmet]\n",
    "):\n",
    "    broj_termina_za_tip_vezbi = count_termini_for_tip_vezbi(raspored)\n",
    "    for oznake, termini in broj_termina_za_tip_vezbi.items():\n",
    "        predmet_id = oznake[1]\n",
    "        tip_vezbi = oznake[2]\n",
    "        grupa = oznake[3]\n",
    "        broj_termina = termini[0]\n",
    "        trajanje_termina_15 = termini[1]\n",
    "        # izracunaj broj casova vezbi\n",
    "        broj_casova_vezbi = map_casovi_for_tip_vezbi(grupa, broj_termina, trajanje_termina_15)\n",
    "        # predmetu dodaj informaciju o broju casova vezbi\n",
    "        predmet = next(x for x in predmeti if x.id == predmet_id)\n",
    "        if tip_vezbi == 'aud.vežbe':\n",
    "            predmet.brojCasovaAud = broj_casova_vezbi\n",
    "        if tip_vezbi == 'rač.vežbe':\n",
    "            predmet.brojCasovaRac = broj_casova_vezbi\n",
    "        if tip_vezbi == 'lab.vežbe':\n",
    "            predmet.brojCasovaLab = broj_casova_vezbi\n",
    "    return predmeti"
   ]
  },
  {
   "cell_type": "code",
   "execution_count": 18,
   "metadata": {},
   "outputs": [],
   "source": [
    "schedule_izmene.predmetList = map_tipovi_vezbi_for_predmet(raspored_izmene, schedule_izmene.predmetList)"
   ]
  },
  {
   "attachments": {},
   "cell_type": "markdown",
   "metadata": {},
   "source": [
    "### Pronalaženje predavača\n",
    "\n",
    "- Dodavanje predavačima titula\n",
    "- Kreiranje nedostajućih predavača (novi saradnici i osobe koje su menjale zvanje)"
   ]
  },
  {
   "cell_type": "code",
   "execution_count": 19,
   "metadata": {},
   "outputs": [],
   "source": [
    "import uuid"
   ]
  },
  {
   "cell_type": "code",
   "execution_count": 20,
   "metadata": {},
   "outputs": [],
   "source": [
    "def map_predavac_titula(\n",
    "        name: tuple[str],\n",
    "        predavac: Predavac\n",
    ") -> Predavac:\n",
    "    if 'mr' in name:\n",
    "        predavac.titula = 'mr'\n",
    "    elif 'dr' in name:\n",
    "        predavac.titula = 'dr'\n",
    "    return predavac"
   ]
  },
  {
   "cell_type": "code",
   "execution_count": 21,
   "metadata": {},
   "outputs": [],
   "source": [
    "def create_predavac(\n",
    "        name: tuple[str],\n",
    "        oznaka: int,\n",
    "        katedra_id: str\n",
    ") -> Predavac:\n",
    "    # novi\n",
    "    titula = ''\n",
    "    if name[0] == 'Nov' or name[0] == 'Novi' or name[0] == 'Predavač':\n",
    "        prezime = 'Saradnik'\n",
    "        ime = 'Nov'\n",
    "    # prezime ime\n",
    "    elif len(name) == 2:\n",
    "        prezime = name[0]\n",
    "        ime = name[1]\n",
    "    # vise prezimena titula ime\n",
    "    elif len(name) >= 3 and ('mr' in name or 'dr' in name):\n",
    "        prezime = ' '.join(name[:-2])\n",
    "        titula = name[-2]\n",
    "        ime = name[-1]\n",
    "    # vise prezimena\n",
    "    elif len(name) >= 3:\n",
    "        prezime = name[0] + ' ' + name[1]\n",
    "        ime = name[2]\n",
    "    return Predavac(str(uuid.uuid4()), oznaka, ime, prezime, False, False, katedra_id, titula)"
   ]
  },
  {
   "cell_type": "code",
   "execution_count": 22,
   "metadata": {},
   "outputs": [],
   "source": [
    "def map_predavaci(\n",
    "        raspored: list[RasporedTermin],\n",
    "        predavaci: list[Predavac]\n",
    ") -> tuple[list[RasporedTermin], list[Predavac]]:\n",
    "    # oznaka novih predavaca\n",
    "    oznaka = 9999\n",
    "    raspored = extract_predavac_names(raspored)\n",
    "    # za svaki termin\n",
    "    for termin in raspored:\n",
    "        # prodji svakog predavaca\n",
    "        for idx, predavac_name in enumerate(termin.predavaci_imena):\n",
    "            # pronadji predavaca\n",
    "            predavac = find_predavac(predavac_name, predavaci)\n",
    "            if predavac:\n",
    "                # dodaj titulu predavacu\n",
    "                predavac = map_predavac_titula(predavac_name, predavac)\n",
    "            else:\n",
    "                # napravi novog\n",
    "                predavac = create_predavac(predavac_name, oznaka, termin.oznakaKatedre_id)\n",
    "                predavaci.append(predavac)\n",
    "                oznaka -= 1\n",
    "            if idx == 0:\n",
    "                # ako je prvi, postavi kao glavnog\n",
    "                termin.predavac_id = predavac.id\n",
    "            else:\n",
    "                # ako nije, postavi u ostale\n",
    "                if not termin.ostaliPredavaci:\n",
    "                    termin.ostaliPredavaci = []\n",
    "                termin.ostaliPredavaci.append(predavac.id)\n",
    "    return raspored, predavaci"
   ]
  },
  {
   "cell_type": "code",
   "execution_count": 23,
   "metadata": {},
   "outputs": [],
   "source": [
    "raspored_izmene, schedule_izmene.predavacList = map_predavaci(raspored_izmene, schedule_izmene.predavacList)"
   ]
  },
  {
   "cell_type": "code",
   "execution_count": 24,
   "metadata": {},
   "outputs": [
    {
     "name": "stdout",
     "output_type": "stream",
     "text": [
      "RasporedTermin(oznakaKatedre_id='c19f3ca3-2319-4653-b531-8fdbf3a9d640', predmet_id='56a3c084-c1a1-48a6-bf29-696a76c58f14', studProgram_id='66c36462-e5f4-4440-b425-8b7d277eb4a7', predavac_id='4b230fe2-d150-4450-a06f-f56e5f92c863', ostaliPredavaci=None, sifraStruke='99E2110', semestar='I', predmet='Matematička analiza 1', tipNastave='Pred.', studGrupa='SVI', predavac='Ralević dr Nebojša', oznakaKatedre='531', ukupnoStud='240', trajanje=8, predavaci_imena=[('Ralević', 'dr', 'Nebojša')])\n",
      "Predmet(id='438af07c-ab2b-441c-a0b9-3a07800adb68', oznaka='RG018', plan=20, naziv='Osnovi informacionih tehnologija za računarsku animaciju', godina=1, semestar='Z', brojCasovaPred=2, studijskiProgram='294a1492-8fb7-4737-abfd-13b096e560f9', brojCasovaVezbe=2, sifraStruke='99C5310', tipoviNastave='', brojCasovaAud=-1, brojCasovaLab=-1, brojCasovaRac=3)\n"
     ]
    }
   ],
   "source": [
    "print(raspored_izmene[1])\n",
    "print(schedule_izmene.predmetList[1])"
   ]
  },
  {
   "attachments": {},
   "cell_type": "markdown",
   "metadata": {},
   "source": [
    "### Dodavanje predmeta prostorijama posebne namene\n",
    "\n",
    "- neke prostorije imaju posebnu namenu\n",
    "- samo određeni predmeti mogu u njima da se održavaju\n",
    "- zapisivanje koji predmeti smeju da se održavaju u tim prostorijama"
   ]
  },
  {
   "cell_type": "code",
   "execution_count": 25,
   "metadata": {},
   "outputs": [],
   "source": [
    "def hemija_posebni_predmeti(\n",
    "        predmeti: list[Predmet]\n",
    ") -> list[str]:\n",
    "    posebni_predmeti_ids = []\n",
    "    predmet = next(x for x in predmeti if x.oznaka == 'Z600' and x.naziv == 'Hemijski fenomeni u inženjerstvu')\n",
    "    posebni_predmeti_ids.append(predmet.id)\n",
    "    predmet = next(x for x in predmeti if x.oznaka == 'Z102' and x.naziv == 'Hemijski fenomeni u inženjerstvu zaštite životne sredine')\n",
    "    posebni_predmeti_ids.append(predmet.id)\n",
    "    predmet = next(x for x in predmeti if x.oznaka == 'Z151' and x.naziv == 'Hemijski fenomeni u mašinstvu')\n",
    "    posebni_predmeti_ids.append(predmet.id)\n",
    "    predmet = next(x for x in predmeti if x.oznaka == 'F103' and x.naziv == 'Hemija u grafičkom inženjerstvu')\n",
    "    posebni_predmeti_ids.append(predmet.id)\n",
    "    predmet = next(x for x in predmeti if x.oznaka == 'ZR222' and x.naziv == 'Fizički i hemijski parametri radne sredine')\n",
    "    posebni_predmeti_ids.append(predmet.id)\n",
    "    predmet = next(x for x in predmeti if x.oznaka == 'Z153' and x.naziv == 'Hemijski fenomeni u inženjerstvu zaštite na radu')\n",
    "    posebni_predmeti_ids.append(predmet.id)\n",
    "    predmet = next(x for x in predmeti if x.oznaka == 'Z507' and x.naziv == 'Fizičko hemijski principi')\n",
    "    posebni_predmeti_ids.append(predmet.id)\n",
    "    return posebni_predmeti_ids"
   ]
  },
  {
   "cell_type": "code",
   "execution_count": 26,
   "metadata": {},
   "outputs": [],
   "source": [
    "def deformisanje_posebni_predmeti(\n",
    "        predmeti: list[Predmet]\n",
    ") -> list[str]:\n",
    "    posebni_predmeti_ids = []\n",
    "    predmet = next(x for x in predmeti if x.oznaka == 'P2401' and x.naziv == 'Napredne metode tehnologije plastičnog deformisanja')\n",
    "    posebni_predmeti_ids.append(predmet.id)\n",
    "    predmet = next(x for x in predmeti if x.oznaka == 'P3501' and x.naziv == 'Projektovanje alata za plastiku')\n",
    "    posebni_predmeti_ids.append(predmet.id)\n",
    "    predmet = next(x for x in predmeti if x.oznaka == 'P3503A' and x.naziv == 'Savremeni obradni sitemi za preradu plastike')\n",
    "    posebni_predmeti_ids.append(predmet.id)\n",
    "    predmet = next(x for x in predmeti if x.oznaka == 'P3402' and x.naziv == 'Fizička i fazna stanja polimera')\n",
    "    posebni_predmeti_ids.append(predmet.id)\n",
    "    predmet = next(x for x in predmeti if x.oznaka == 'M3203' and x.naziv == 'Tehnologija mašinogradnje')\n",
    "    posebni_predmeti_ids.append(predmet.id)\n",
    "    predmet = next(x for x in predmeti if x.oznaka == 'P207' and x.naziv == 'Tehnologija plastičnog deformisanja')\n",
    "    posebni_predmeti_ids.append(predmet.id)\n",
    "    predmet = next(x for x in predmeti if x.oznaka == 'P3403' and x.naziv == 'Tehnologija oblikovanja plastike')\n",
    "    posebni_predmeti_ids.append(predmet.id)\n",
    "    predmet = next(x for x in predmeti if x.oznaka == 'P2413K' and x.naziv == 'Projektovanje alata za deformisanje')\n",
    "    posebni_predmeti_ids.append(predmet.id)\n",
    "    predmet = next(x for x in predmeti if x.oznaka == 'F504I0' and x.naziv == '3D štampa')\n",
    "    posebni_predmeti_ids.append(predmet.id)\n",
    "    predmet = next(x for x in predmeti if x.oznaka == 'P2407K' and x.naziv == 'Aditivne tehnologije')\n",
    "    posebni_predmeti_ids.append(predmet.id)\n",
    "    predmet = next(x for x in predmeti if x.oznaka == 'BMIM4B' and x.naziv == 'Tehnologije oblikovanja biomedicinskih materijala')\n",
    "    posebni_predmeti_ids.append(predmet.id)\n",
    "    return posebni_predmeti_ids"
   ]
  },
  {
   "cell_type": "code",
   "execution_count": 27,
   "metadata": {},
   "outputs": [],
   "source": [
    "def prostorije_posebne_namene(\n",
    "        prostorije: list[Prostorija],\n",
    "        predmeti: list[Predmet]\n",
    ") -> list[Prostorija]:\n",
    "    hemija = next(x for x in prostorije if x.oznaka == 'Hemija')\n",
    "    hemija2 = next(x for x in prostorije if x.oznaka == 'Hemija 2')\n",
    "    hemija_predmeti = hemija_posebni_predmeti(predmeti)\n",
    "    hemija.odobreniPredmeti = hemija_predmeti\n",
    "    hemija2.odobreniPredmeti = hemija_predmeti\n",
    "\n",
    "    mi_d4 = next(x for x in prostorije if x.oznaka == 'MI D4')\n",
    "    mi_d4d = next(x for x in prostorije if x.oznaka == 'MI D4-D')\n",
    "    deformisanje_predmeti = deformisanje_posebni_predmeti(predmeti)\n",
    "    mi_d4.odobreniPredmeti = deformisanje_predmeti\n",
    "    mi_d4d.odobreniPredmeti = deformisanje_predmeti\n",
    "\n",
    "    return prostorije"
   ]
  },
  {
   "cell_type": "code",
   "execution_count": 28,
   "metadata": {},
   "outputs": [],
   "source": [
    "schedule_izmene.prostorijaList = prostorije_posebne_namene(schedule_izmene.prostorijaList, schedule_izmene.predmetList)"
   ]
  },
  {
   "attachments": {},
   "cell_type": "markdown",
   "metadata": {},
   "source": [
    "### Usklađivanje informacija o predmetima\n",
    "\n",
    "- svi predmeti sa istim planom i istom oznakom predmeta treba da imaju isti broj časova vežbi i predavanja"
   ]
  },
  {
   "cell_type": "code",
   "execution_count": 29,
   "metadata": {},
   "outputs": [],
   "source": [
    "def match_predmet_broj_vezbi(\n",
    "        predmeti: list[Predmet]\n",
    ") -> list[Predmet]:\n",
    "    predmeti_group = defaultdict(list[Predmet])\n",
    "    for predmet in predmeti:\n",
    "        predmeti_group[(predmet.oznaka, predmet.plan)].append(predmet)\n",
    "    \n",
    "    for _, predmet_lista in predmeti_group.items():\n",
    "        max_aud = max(predmet.brojCasovaAud for predmet in predmet_lista)\n",
    "        max_lab = max(predmet.brojCasovaLab for predmet in predmet_lista)\n",
    "        max_rac = max(predmet.brojCasovaRac for predmet in predmet_lista)\n",
    "        for predmet in predmet_lista:\n",
    "            predmet.brojCasovaAud = max_aud\n",
    "            predmet.brojCasovaLab = max_lab\n",
    "            predmet.brojCasovaRac = max_rac\n",
    "    predmeti = [predmet for predmet_lista in predmeti_group.values() for predmet in predmet_lista]\n",
    "    return predmeti"
   ]
  },
  {
   "cell_type": "code",
   "execution_count": 30,
   "metadata": {},
   "outputs": [],
   "source": [
    "schedule_izmene.predmetList = match_predmet_broj_vezbi(schedule_izmene.predmetList)"
   ]
  },
  {
   "attachments": {},
   "cell_type": "markdown",
   "metadata": {},
   "source": [
    "### Zapisivanje svih izmena i uvezivanja u fajl\n",
    "\n",
    "- zapisivanje rasporada\n",
    "- zapisivanje svih izvučenih informacija\n",
    "- zapisivanje pojedinačno svake liste podataka"
   ]
  },
  {
   "cell_type": "code",
   "execution_count": 31,
   "metadata": {},
   "outputs": [],
   "source": [
    "ReadWrite.write_to_file(raspored_izmene, '4_raspored_spojen')\n",
    "ReadWrite.write_to_file(schedule_izmene, '4_svi_fajlovi_spojeni')"
   ]
  },
  {
   "cell_type": "code",
   "execution_count": 32,
   "metadata": {},
   "outputs": [],
   "source": [
    "empty = ['semestar', 'meetingList', 'meetingAssignmentList']\n",
    "attrs = [a for a in vars(schedule_izmene) if a not in empty]\n",
    "\n",
    "for attr in attrs:\n",
    "    list = getattr(schedule_izmene, attr)\n",
    "    ReadWrite.write_to_file(list, '4_' + attr, '../out_data/pojedinacno/')"
   ]
  },
  {
   "cell_type": "code",
   "execution_count": null,
   "metadata": {},
   "outputs": [],
   "source": []
  }
 ],
 "metadata": {
  "kernelspec": {
   "display_name": "venv",
   "language": "python",
   "name": "python3"
  },
  "language_info": {
   "codemirror_mode": {
    "name": "ipython",
    "version": 3
   },
   "file_extension": ".py",
   "mimetype": "text/x-python",
   "name": "python",
   "nbconvert_exporter": "python",
   "pygments_lexer": "ipython3",
   "version": "3.11.2"
  },
  "orig_nbformat": 4
 },
 "nbformat": 4,
 "nbformat_minor": 2
}
