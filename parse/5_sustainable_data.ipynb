{
 "cells": [
  {
   "attachments": {},
   "cell_type": "markdown",
   "metadata": {},
   "source": [
    "### Kreiranje održive strukture\n",
    "\n",
    "- model podataka koji će omogućiti kreiranje termin za raspored\n",
    "- **model realizacije**"
   ]
  },
  {
   "attachments": {},
   "cell_type": "markdown",
   "metadata": {},
   "source": [
    "### Parsiranje zauzeća predavača\n",
    "\n",
    "- na osnovu ```Rasporeda (Ponedeljak.xlsx, Utorak.xlsx,...)```\n",
    "- prebrojavamo koliko termina ima svaki predavač\n",
    "    - nedeljno zauzeće - ukupan broj časova koje drži"
   ]
  },
  {
   "cell_type": "code",
   "execution_count": 14,
   "metadata": {},
   "outputs": [],
   "source": [
    "from model_parser import *\n",
    "from realizacija_linked_model import *\n",
    "from collections import defaultdict"
   ]
  },
  {
   "cell_type": "code",
   "execution_count": 15,
   "metadata": {},
   "outputs": [],
   "source": [
    "raspored = RasporedTermin.read_list_from_file('4_raspored_spojen', dir_path='../out_data_2023_letnji/')\n",
    "raspored_izmene = RasporedTermin.read_list_from_file('4_raspored_spojen', dir_path='../out_data_2023_letnji/')\n",
    "\n",
    "schedule = MeetingSchedule.read_entity_from_file('4_svi_fajlovi_spojeni', dir_path='../out_data_2023_letnji/')\n",
    "schedule_izmene = MeetingSchedule.read_entity_from_file('4_svi_fajlovi_spojeni', dir_path='../out_data_2023_letnji/')"
   ]
  },
  {
   "cell_type": "code",
   "execution_count": 16,
   "metadata": {},
   "outputs": [],
   "source": [
    "def count_unknown_termini(\n",
    "        raspored: list[RasporedTermin]\n",
    ") -> list[RasporedTermin]:\n",
    "    # 41 termin nemaju pronadjen predmet i studijski program za koji su vezani\n",
    "    unknown = [x for x in raspored if x.studProgram_id == None and x.predmet_id == None]\n",
    "    return unknown"
   ]
  },
  {
   "cell_type": "code",
   "execution_count": 17,
   "metadata": {},
   "outputs": [],
   "source": [
    "def remove_unkown_termini(\n",
    "        raspored: list[RasporedTermin]\n",
    ") -> list[RasporedTermin]:\n",
    "    # izbacujemo 41 termin\n",
    "    return [x for x in raspored if x.studProgram_id != None and x.predmet_id != None]"
   ]
  },
  {
   "cell_type": "code",
   "execution_count": 18,
   "metadata": {},
   "outputs": [],
   "source": [
    "def count_asistent_zauzeca(\n",
    "        raspored: list[RasporedTermin]\n",
    ") -> dict[tuple[str, str], dict[str, int]]:\n",
    "    # povratna struktura: mapira id studentskog programa i predmeta na mapu svih asistenata koji drze taj predmet\n",
    "    # {\n",
    "    #     (stud_program_id, predmet_id): {\n",
    "    #         asistent_id_1: 4,\n",
    "    #         asistent_id_2: 3,\n",
    "    #         asistent_id_3: 1\n",
    "    #     },\n",
    "    #     (stud_program_id, predmet_id_1): {...}\n",
    "    # }\n",
    "    zauzeca = defaultdict(lambda: defaultdict(lambda: 0))\n",
    "    for termin in raspored:\n",
    "        # brojimo samo vezbe, racunamo da predavanja drzi jedan profesor sva\n",
    "        if 'vežbe' not in termin.tipNastave:\n",
    "            continue\n",
    "        zauzeca[(termin.studProgram_id, termin.predmet_id)][termin.predavac_id] += 1\n",
    "    return zauzeca\n"
   ]
  },
  {
   "cell_type": "code",
   "execution_count": 19,
   "metadata": {},
   "outputs": [],
   "source": [
    "def create_predmet_predavac(\n",
    "        termin: RasporedTermin,\n",
    "        zauzeca: dict[tuple[str, str], dict[str, int]],\n",
    "        stud_program_id: str,\n",
    "        predmet: Predmet,\n",
    "        predavaci: list[Predavac]\n",
    ") -> PredmetPredavac:\n",
    "    # profesor\n",
    "    profesor = next(x for x in predavaci if x.id == termin.predavac_id)\n",
    "    # ostali profesori\n",
    "    ostali_profesori = []\n",
    "    if termin.ostaliPredavaci:\n",
    "        for prof_id in termin.ostaliPredavaci:\n",
    "            prof = next(x for x in predavaci if x.id == prof_id)\n",
    "            ostali_profesori.append(prof.id)\n",
    "    # asistenti\n",
    "    # nadji sve iz seta koji imaju taj studijski program i taj predmet\n",
    "    asistenti_zauzeca = zauzeca[(stud_program_id, predmet.id)]\n",
    "    asistenti = []\n",
    "    for asistent_id, broj_termina in asistenti_zauzeca.items():\n",
    "        asistenti.append(AsistentZauzeca(asistent_id, broj_termina))\n",
    "    predmet_predavac = PredmetPredavac(predmet.id, predmet.oznaka, predmet.godina, predmet.plan, profesor.id, ostali_profesori, asistenti)\n",
    "    return predmet_predavac"
   ]
  },
  {
   "cell_type": "code",
   "execution_count": 20,
   "metadata": {},
   "outputs": [],
   "source": [
    "def create_studijski_program_predmeti(\n",
    "        realizacija: Realizacija,\n",
    "        stud_program_id: str\n",
    ") -> StudijskiProgramPredmeti:\n",
    "    # ako postoji studijski program u okviru realizacije, dobavi ga\n",
    "    studijski_program_predmeti = next((x for x in realizacija.studijskiProgramPredmeti if x.studijskiProgramId == stud_program_id), None)\n",
    "    # ako ne postoji, kreiraj novi sa praznom listom predmet-predavaca\n",
    "    if studijski_program_predmeti is None:\n",
    "        studijski_program_predmeti = StudijskiProgramPredmeti(stud_program_id, stud_program_id, [])\n",
    "        # dodavanje novog studijskog program u realizaciju samo ako vec ne postoji\n",
    "        realizacija.studijskiProgramPredmeti.append(studijski_program_predmeti)\n",
    "    return studijski_program_predmeti"
   ]
  },
  {
   "cell_type": "code",
   "execution_count": 21,
   "metadata": {},
   "outputs": [],
   "source": [
    "def create_realizacija(\n",
    "        godina: str,\n",
    "        semestar: str,\n",
    "        raspored: list[RasporedTermin],\n",
    "        zauzeca: dict[tuple[str, str], dict[str, int]],\n",
    "        stud_programi: list[StudijskiProgram],\n",
    "        predmeti: list[Predmet],\n",
    "        predavaci: list[Predavac]\n",
    ") -> Realizacija:\n",
    "    # kreiranje prazne realizacije\n",
    "    realizacija = Realizacija(godina, semestar, [])\n",
    "\n",
    "    # studProgram_id + ' ' + predmet_id\n",
    "    seen_predmeti = set()\n",
    "\n",
    "    for termin in raspored:\n",
    "        # sastavljamo listu svih predmeta na studijskom programu u realizaciji\n",
    "        # pronalazimo predmete po predavanjima\n",
    "        if termin.tipNastave != 'Pred.':\n",
    "            continue\n",
    "        # ako smo vec videli taj predmet na tom studijskom programu, ne dodajemo ga\n",
    "        if (termin.studProgram_id + ' ' + termin.predmet_id) in seen_predmeti:\n",
    "            continue\n",
    "\n",
    "        # studijski program\n",
    "        stud_program = next(x for x in stud_programi if x.id == termin.studProgram_id)\n",
    "        # predmet\n",
    "        predmet = next(x for x in predmeti if x.id == termin.predmet_id)\n",
    "\n",
    "        predmet_predavac = create_predmet_predavac(termin, zauzeca, stud_program.id, predmet, predavaci)\n",
    "        studijski_program_predmeti = create_studijski_program_predmeti(realizacija, stud_program.id)\n",
    "        studijski_program_predmeti.predmetPredavaci.append(predmet_predavac)\n",
    "\n",
    "        # dodavanje vidjenog para stud_program-predmet (da ne bismo dodali vise puta)\n",
    "        seen_predmeti.add(stud_program.id + ' ' + predmet.id)\n",
    "    \n",
    "    return realizacija"
   ]
  },
  {
   "attachments": {},
   "cell_type": "markdown",
   "metadata": {},
   "source": [
    "#### Dodavanje spojenih predmeta u realizaciju"
   ]
  },
  {
   "cell_type": "code",
   "execution_count": 22,
   "metadata": {},
   "outputs": [],
   "source": [
    "def find_joined_termini(\n",
    "    raspored: list[RasporedTermin]\n",
    ") -> dict[str, list[RasporedTermin]]:\n",
    "    # { predmet_id: [termin1, termin2] }\n",
    "    joined_termini = defaultdict(lambda: [])\n",
    "    for termin in raspored:\n",
    "        ukupno_studenata = termin.ukupnoStud.lower()\n",
    "        if 'd' in ukupno_studenata and termin.tipNastave == 'Pred.':\n",
    "            joined_termini[termin.predmet_id].append(termin)\n",
    "    return joined_termini"
   ]
  },
  {
   "cell_type": "code",
   "execution_count": 23,
   "metadata": {},
   "outputs": [],
   "source": [
    "def add_joined_predmeti(\n",
    "        realizacija: Realizacija,\n",
    "        raspored: list[RasporedTermin],\n",
    "        zauzeca: dict[tuple[str, str], dict[str, int]],\n",
    "        predmeti: list[Predmet],\n",
    "        predavaci: list[Predavac]\n",
    ") -> Realizacija:\n",
    "    joined_termini = find_joined_termini(raspored)\n",
    "    # za svaki spojeni predmet\n",
    "    for predmet_id, termini in joined_termini.items():\n",
    "        # pronaci glavni predmet (po idu) i sporedne spojene po oznaci predmeta\n",
    "        predmet_glavni = next(x for x in predmeti if x.id == predmet_id)\n",
    "        predmeti_ostali = [x for x in predmeti if x.oznaka == predmet_glavni.oznaka and x.plan == predmet_glavni.plan and x.id != predmet_glavni.id]\n",
    "        # proci kroz sve termine koji su spojeni\n",
    "        termin = termini[0]\n",
    "        for predmet in predmeti_ostali:\n",
    "            stud_program_predmeti = create_studijski_program_predmeti(realizacija, predmet.studijskiProgram)\n",
    "            existing_predmet = next((x for x in stud_program_predmeti.predmetPredavaci if x.predmetId == predmet.id), None)\n",
    "            if not existing_predmet:\n",
    "                new_predmet = create_predmet_predavac(termin, zauzeca, predmet.studijskiProgram, predmet, predavaci)\n",
    "                stud_program_predmeti.predmetPredavaci.append(new_predmet)\n",
    "    return realizacija"
   ]
  },
  {
   "cell_type": "code",
   "execution_count": 24,
   "metadata": {},
   "outputs": [],
   "source": [
    "raspored_izmene = remove_unkown_termini(raspored_izmene)\n",
    "zauzeca = count_asistent_zauzeca(raspored_izmene)\n",
    "realizacija = create_realizacija('2023', 'Z', raspored_izmene, zauzeca, schedule_izmene.studProgramList, schedule_izmene.predmetList, schedule_izmene.predavacList)\n",
    "realizacija = add_joined_predmeti(realizacija, raspored_izmene, zauzeca, schedule_izmene.predmetList, schedule_izmene.predavacList)\n",
    "ReadWrite.write_to_file(realizacija, '5_realizacija', dir_path='../out_data_2023_letnji/')"
   ]
  },
  {
   "cell_type": "code",
   "execution_count": null,
   "metadata": {},
   "outputs": [],
   "source": []
  }
 ],
 "metadata": {
  "kernelspec": {
   "display_name": "venv",
   "language": "python",
   "name": "python3"
  },
  "language_info": {
   "codemirror_mode": {
    "name": "ipython",
    "version": 3
   },
   "file_extension": ".py",
   "mimetype": "text/x-python",
   "name": "python",
   "nbconvert_exporter": "python",
   "pygments_lexer": "ipython3",
   "version": "3.11.2"
  },
  "orig_nbformat": 4
 },
 "nbformat": 4,
 "nbformat_minor": 2
}
