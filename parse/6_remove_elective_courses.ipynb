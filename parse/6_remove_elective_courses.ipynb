{
 "cells": [
  {
   "attachments": {},
   "cell_type": "markdown",
   "metadata": {},
   "source": [
    "### Izbacivanje izbornih predmeta iz realizacije"
   ]
  },
  {
   "cell_type": "code",
   "execution_count": 1,
   "metadata": {},
   "outputs": [],
   "source": [
    "from model_parser import *\n",
    "from realizacija_linked_model import *\n",
    "from collections import defaultdict"
   ]
  },
  {
   "cell_type": "code",
   "execution_count": 2,
   "metadata": {},
   "outputs": [],
   "source": [
    "raspored = RasporedTermin.read_list_from_file('4_raspored_spojen')\n",
    "raspored_izmene = RasporedTermin.read_list_from_file('4_raspored_spojen')\n",
    "\n",
    "schedule = MeetingSchedule.read_entity_from_file('4_svi_fajlovi_spojeni')\n",
    "schedule_izmene = MeetingSchedule.read_entity_from_file('4_svi_fajlovi_spojeni')\n",
    "\n",
    "realizacija = Realizacija.read_entity_from_file('5_realizacija')\n",
    "realizacija_izmene = Realizacija.read_entity_from_file('5_realizacija')"
   ]
  },
  {
   "cell_type": "code",
   "execution_count": 3,
   "metadata": {},
   "outputs": [],
   "source": [
    "def find_elective_courses(\n",
    "        raspored: list[RasporedTermin]\n",
    ") -> set[str]:\n",
    "    electives = set()\n",
    "    for termin in raspored:\n",
    "        grupa = termin.studGrupa.lower()\n",
    "        if 'prij' in grupa or 'opred' in grupa:\n",
    "            electives.add(termin.predmet_id)\n",
    "    return electives"
   ]
  },
  {
   "cell_type": "code",
   "execution_count": 4,
   "metadata": {},
   "outputs": [],
   "source": [
    "def store_elective_courses(\n",
    "        electives: list[str],\n",
    "        predmeti: list[Predmet],\n",
    "        stud_programi: list[StudijskiProgram],\n",
    "        file_name: str = 'izborni_predmeti',\n",
    "        dir_path: str = '../out_data/'\n",
    "):\n",
    "    elective_courses = defaultdict(lambda: [])\n",
    "    for elective_id in electives:\n",
    "        predmet = next(x for x in predmeti if x.id == elective_id)\n",
    "        stud_program = next(x for x in stud_programi if x.id == predmet.studijskiProgram)\n",
    "        elective_courses[stud_program.naziv].append('    ' + predmet.oznaka + ', ' + predmet.naziv)\n",
    "    \n",
    "    with open(dir_path + file_name + '.txt', 'w', encoding='utf-8') as out_file:\n",
    "        for stud_program_name, elective_names in elective_courses.items():\n",
    "            out_file.write(stud_program_name)\n",
    "            out_file.write('\\n')\n",
    "            for elective in elective_names:\n",
    "                out_file.write(elective)\n",
    "                out_file.write('\\n')\n",
    "            out_file.write('\\n')"
   ]
  },
  {
   "cell_type": "code",
   "execution_count": 5,
   "metadata": {},
   "outputs": [],
   "source": [
    "def remove_elective_courses(\n",
    "        electives: list[str],\n",
    "        realizacija: Realizacija\n",
    ") -> Realizacija:\n",
    "    for stud_program in realizacija.studijskiProgramPredmeti:\n",
    "        without_electives = [x for x in stud_program.predmetPredavaci if x.predmetId not in electives]\n",
    "        stud_program.predmetPredavaci = without_electives\n",
    "    return realizacija"
   ]
  },
  {
   "cell_type": "code",
   "execution_count": 6,
   "metadata": {},
   "outputs": [],
   "source": [
    "electives = find_elective_courses(raspored_izmene)\n",
    "store_elective_courses(electives, schedule_izmene.predmetList, schedule_izmene.studProgramList)\n",
    "realizacija_izmene = remove_elective_courses(electives, realizacija_izmene)"
   ]
  },
  {
   "attachments": {},
   "cell_type": "markdown",
   "metadata": {},
   "source": [
    "### Izbacivanje podsmer izbornih predmeta iz realizacije"
   ]
  },
  {
   "cell_type": "code",
   "execution_count": 7,
   "metadata": {},
   "outputs": [],
   "source": [
    "def find_podsmer_elective_courses(\n",
    "        predmeti: list[Predmet]\n",
    ") -> list[str]:\n",
    "    # dobavi id-eve svih podmser izbornih predmeta\n",
    "    izborni_podsmer_predmeti_ids = set()\n",
    "\n",
    "    predmet = next(x for x in predmeti if x.oznaka == 'A332' and x.naziv == 'Maketarstvo')\n",
    "    izborni_podsmer_predmeti_ids.add(predmet.id)\n",
    "\n",
    "    predmet = next(x for x in predmeti if x.oznaka == 'A315' and x.naziv == 'Principi i proces umetničkog stvaranja')\n",
    "    izborni_podsmer_predmeti_ids.add(predmet.id)\n",
    "\n",
    "    predmet = next(x for x in predmeti if x.oznaka == 'A01ASP' and x.naziv == 'Studio projekat 01A')\n",
    "    izborni_podsmer_predmeti_ids.add(predmet.id)\n",
    "\n",
    "    predmet = next(x for x in predmeti if x.oznaka == 'A01ESP' and x.naziv == 'Studio projekat 01E')\n",
    "    izborni_podsmer_predmeti_ids.add(predmet.id)\n",
    "\n",
    "    predmet = next(x for x in predmeti if x.oznaka == 'A377' and x.naziv == 'Arhitektonske reprezentacije 3')\n",
    "    izborni_podsmer_predmeti_ids.add(predmet.id)\n",
    "\n",
    "    predmet = next(x for x in predmeti if x.oznaka == 'A354' and x.naziv == 'Posebni programi stanovanja')\n",
    "    izborni_podsmer_predmeti_ids.add(predmet.id)\n",
    "\n",
    "    predmet = next(x for x in predmeti if x.oznaka == 'F211I1' and x.naziv == 'Projektovanje grafičkih proizvoda')\n",
    "    izborni_podsmer_predmeti_ids.add(predmet.id)\n",
    "\n",
    "    predmet = next(x for x in predmeti if x.oznaka == 'F311I2' and x.naziv == 'Virtuelna i proširena stvarnost')\n",
    "    izborni_podsmer_predmeti_ids.add(predmet.id)\n",
    "\n",
    "    predmet = next(x for x in predmeti if x.oznaka == 'SE239A' and x.naziv == 'Veb programiranje')\n",
    "    izborni_podsmer_predmeti_ids.add(predmet.id)\n",
    "\n",
    "    predmet = next(x for x in predmeti if x.oznaka == 'P1406' and x.naziv == 'Teorija obradnih procesa')\n",
    "    izborni_podsmer_predmeti_ids.add(predmet.id)\n",
    "\n",
    "    predmet = next(x for x in predmeti if x.oznaka == 'P3401' and x.naziv == 'Svojstva i primena plastičnih materijala')\n",
    "    izborni_podsmer_predmeti_ids.add(predmet.id)\n",
    "\n",
    "    predmet = next(x for x in predmeti if x.oznaka == 'S002A' and x.naziv == 'Ekonomija')\n",
    "    izborni_podsmer_predmeti_ids.add(predmet.id)\n",
    "\n",
    "    predmet = next(x for x in predmeti if x.oznaka == 'E251' and x.naziv == 'Sociološki aspekti tehničkog razvoja')\n",
    "    izborni_podsmer_predmeti_ids.add(predmet.id)\n",
    "\n",
    "    predmet = next(x for x in predmeti if x.oznaka == 'IAM004' and x.naziv == 'Geometrija diskretnih prostora')\n",
    "    izborni_podsmer_predmeti_ids.add(predmet.id)\n",
    "\n",
    "    predmet = next(x for x in predmeti if x.oznaka == 'IAM006' and x.naziv == 'Snimanje i analiza kretanja')\n",
    "    izborni_podsmer_predmeti_ids.add(predmet.id)\n",
    "\n",
    "    return izborni_podsmer_predmeti_ids"
   ]
  },
  {
   "cell_type": "code",
   "execution_count": 8,
   "metadata": {},
   "outputs": [],
   "source": [
    "podsmer_electives = find_podsmer_elective_courses(schedule_izmene.predmetList)\n",
    "realizacija_izmene = remove_elective_courses(podsmer_electives, realizacija_izmene)"
   ]
  },
  {
   "attachments": {},
   "cell_type": "markdown",
   "metadata": {},
   "source": [
    "### Zapisivanje izmena"
   ]
  },
  {
   "cell_type": "code",
   "execution_count": 9,
   "metadata": {},
   "outputs": [],
   "source": [
    "ReadWrite.write_to_file(realizacija_izmene, '6_realizacija_bez_izbornih')"
   ]
  },
  {
   "cell_type": "code",
   "execution_count": null,
   "metadata": {},
   "outputs": [],
   "source": []
  }
 ],
 "metadata": {
  "kernelspec": {
   "display_name": "venv",
   "language": "python",
   "name": "python3"
  },
  "language_info": {
   "codemirror_mode": {
    "name": "ipython",
    "version": 3
   },
   "file_extension": ".py",
   "mimetype": "text/x-python",
   "name": "python",
   "nbconvert_exporter": "python",
   "pygments_lexer": "ipython3",
   "version": "3.11.2"
  },
  "orig_nbformat": 4
 },
 "nbformat": 4,
 "nbformat_minor": 2
}
