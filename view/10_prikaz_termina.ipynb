{
 "cells": [
  {
   "attachments": {},
   "cell_type": "markdown",
   "metadata": {},
   "source": [
    "### Kreiranje prikaza (HTML i PDF fajlova)\n",
    "\n",
    "# TODO: ceo tok isprobati sa cistim podacima kada wrapper ceo bude gotov"
   ]
  },
  {
   "cell_type": "code",
   "execution_count": 1,
   "metadata": {},
   "outputs": [],
   "source": [
    "from model_parser import RasporedPrikaz\n",
    "from model_prikaz import *"
   ]
  },
  {
   "attachments": {},
   "cell_type": "markdown",
   "metadata": {},
   "source": [
    "#### Rad sa fajlovima\n",
    "\n",
    "- zapisivanje tekstualnog sadržaja u fajl\n",
    "- čitanje tekstualnog sadržaja iz fajla"
   ]
  },
  {
   "cell_type": "code",
   "execution_count": 2,
   "metadata": {},
   "outputs": [],
   "source": [
    "def write_to_file(\n",
    "        content: str,\n",
    "        file_name: str,\n",
    "        extension: str = 'html',\n",
    "        dir_path: str = '../out_data/'\n",
    ") -> None:\n",
    "    with open(dir_path + file_name + '.' + extension, 'w', encoding='utf-8') as out_file:\n",
    "        out_file.write(content)"
   ]
  },
  {
   "attachments": {},
   "cell_type": "markdown",
   "metadata": {},
   "source": [
    "#### Stilizovanje rasporeda\n",
    "- ```styles.css```"
   ]
  },
  {
   "attachments": {},
   "cell_type": "markdown",
   "metadata": {},
   "source": [
    "#### HTML to PDF"
   ]
  },
  {
   "cell_type": "code",
   "execution_count": 3,
   "metadata": {},
   "outputs": [],
   "source": [
    "import pdfkit\n",
    "from unidecode import unidecode"
   ]
  },
  {
   "cell_type": "code",
   "execution_count": 4,
   "metadata": {},
   "outputs": [],
   "source": [
    "def write_pdf_from_html(\n",
    "        file_name: str,\n",
    "        css_path: str,\n",
    "        dir_path: str = '../out_data/',\n",
    "        lib_path: str = r'C:\\Program Files\\wkhtmltopdf\\bin\\wkhtmltopdf.exe'\n",
    ") -> None:\n",
    "    file_path = dir_path + file_name + '.html'\n",
    "    out_path = dir_path + file_name + '.pdf'\n",
    "    config = pdfkit.configuration(wkhtmltopdf=lib_path)\n",
    "    options = {\n",
    "        \"enable-local-file-access\": \"\", \n",
    "        \"encoding\": \"UTF-8\",\n",
    "        \"page-size\": \"A4\", \n",
    "        \"title\": \"Raspored\",\n",
    "        \"margin-top\": \"10mm\", \n",
    "        \"margin-bottom\": \"10mm\",\n",
    "        \"margin-right\": \"10mm\",\n",
    "        \"margin-left\": \"10mm\"\n",
    "    }\n",
    "    pdfkit.from_file(file_path, options=options, css=css_path, output_path=out_path, configuration=config)"
   ]
  },
  {
   "attachments": {},
   "cell_type": "markdown",
   "metadata": {},
   "source": [
    "### HTML raspored"
   ]
  },
  {
   "cell_type": "code",
   "execution_count": 5,
   "metadata": {},
   "outputs": [],
   "source": [
    "def dan_num_to_dan(\n",
    "        dan_num: int\n",
    ") -> str:\n",
    "    dani = {\n",
    "        0: \"ponedeljak\", \n",
    "        1: \"utorak\", \n",
    "        2: \"sreda\",\n",
    "        3: \"četvrtak\",\n",
    "        4: \"petak\",\n",
    "        5: \"subota\"\n",
    "    }\n",
    "    return dani[dan_num]"
   ]
  },
  {
   "cell_type": "code",
   "execution_count": 6,
   "metadata": {},
   "outputs": [],
   "source": [
    "def semestar_num_to_semestar(\n",
    "        semestar_num: int\n",
    ") -> str:\n",
    "    return str(semestar_num) + '. semestar'"
   ]
  },
  {
   "cell_type": "code",
   "execution_count": 7,
   "metadata": {},
   "outputs": [],
   "source": [
    "def oznaka_stepena_to_stepen_studija(\n",
    "        oznaka_stepena: str\n",
    ") -> str:\n",
    "    stepeni = {\n",
    "        \"oss\": \"osnovne strukovne studije\",\n",
    "        \"mss\": \"master strukovne studije\",\n",
    "        \"oas\": \"osnovne akademske studije\",\n",
    "        \"mas\": \"master akademske studije\"\n",
    "    }\n",
    "    return stepeni[oznaka_stepena]"
   ]
  },
  {
   "cell_type": "code",
   "execution_count": 8,
   "metadata": {},
   "outputs": [],
   "source": [
    "def vrsta_nastave_to_naziv_nastave(\n",
    "        vrsta_nastave: str\n",
    ") -> str:\n",
    "    vrste_nastave = {\n",
    "        \"PRED\": \"Pred.\",\n",
    "        \"AUD\": \"aud.vežbe\",\n",
    "        \"RAC\": \"rač.vežbe\",\n",
    "        \"LAB\": \"lab.vežbe\"\n",
    "    }\n",
    "    return vrste_nastave[vrsta_nastave]"
   ]
  },
  {
   "cell_type": "code",
   "execution_count": 9,
   "metadata": {},
   "outputs": [],
   "source": [
    "# Grupa-e\tOd\tDo\tUčionica\tVrsta nast.\tNaziv predmeta\tIzvođač\n",
    "def raspored_red_to_ispis(\n",
    "        red: RasporedRed\n",
    ") -> list[str]:\n",
    "    return [red.studGrupa, red.vremePocetka, red.vremeKraja, \\\n",
    "        red.prostorija, vrsta_nastave_to_naziv_nastave(red.vrstaNastave), \\\n",
    "        red.nazivPred, red.predavac]"
   ]
  },
  {
   "cell_type": "code",
   "execution_count": 10,
   "metadata": {},
   "outputs": [],
   "source": [
    "# Grupa-e\tOd\tDo\tOdsek\tSem.\tVrsta nast.\tNaziv Predmeta\tIzvođač\n",
    "def prostorija_red_to_ispis(\n",
    "        red: ProstorijaRed\n",
    ") -> list[str]:\n",
    "    return [red.studGrupa, red.vremePocetka, red.vremeKraja, \\\n",
    "        red.odsek, red.semestar, vrsta_nastave_to_naziv_nastave(red.vrstaNastave), \\\n",
    "        red.nazivPred, red.predavac]"
   ]
  },
  {
   "cell_type": "code",
   "execution_count": 11,
   "metadata": {},
   "outputs": [],
   "source": [
    "# Grupa-e\tOd\tDo\tUčionica\tOdsek\tSem.\tVrsta nast.\tNaziv Predmeta\n",
    "def predavac_red_to_ispis(\n",
    "        red: PredavacRed\n",
    ") -> list[str]:\n",
    "    return [red.studGrupa, red.vremePocetka, red.vremeKraja, \\\n",
    "        red.prostorija, red.odsek, red.semestar, \\\n",
    "        vrsta_nastave_to_naziv_nastave(red.vrstaNastave), red.nazivPred]"
   ]
  },
  {
   "cell_type": "code",
   "execution_count": 12,
   "metadata": {},
   "outputs": [],
   "source": [
    "def stud_program_header(\n",
    "        cols: int, \n",
    "        day: str\n",
    ") -> str:\n",
    "    # head\n",
    "    table = '  <thead>\\n'\n",
    "    # title\n",
    "    table += '    <tr><th colspan=\"' + str(cols) + '\" class=\"day\">' + day + '</th></tr>\\n'\n",
    "    # header\n",
    "    table += '    <tr><th>Grupa-e</th><th>Od</th><th>Do</th>' + \\\n",
    "            '<th>Učionica</th><th>Vrsta nast.</th>' + \\\n",
    "            '<th>Naziv predmeta</th><th>Izvođač</th></tr>\\n'\n",
    "    table += '  </thead>\\n'\n",
    "    return table"
   ]
  },
  {
   "cell_type": "code",
   "execution_count": 13,
   "metadata": {},
   "outputs": [],
   "source": [
    "def prostorija_header(\n",
    "        cols: int, \n",
    "        day: str\n",
    ") -> str:\n",
    "    # head\n",
    "    table = '  <thead>\\n'\n",
    "    # title\n",
    "    table += '    <tr><th colspan=\"' + str(cols) + '\" class=\"day\">' + day + '</th></tr>\\n'\n",
    "    # header\n",
    "    table += '    <tr><th>Grupa-e</th><th>Od</th><th>Do</th>' + \\\n",
    "            '<th>Odsek</th><th>Sem.</th><th>Vrsta nast.</th>' + \\\n",
    "            '<th>Naziv predmeta</th><th>Izvođač</th></tr>\\n'\n",
    "    table += '  </thead>\\n'\n",
    "    return table"
   ]
  },
  {
   "cell_type": "code",
   "execution_count": 14,
   "metadata": {},
   "outputs": [],
   "source": [
    "def predavac_header(\n",
    "        cols: int, \n",
    "        day: str\n",
    ") -> str:\n",
    "    # head\n",
    "    table = '  <thead>\\n'\n",
    "    # title\n",
    "    table += '    <tr><th colspan=\"' + str(cols) + '\" class=\"day\">' + day + '</th></tr>\\n'\n",
    "    # header\n",
    "    table += '    <tr><th>Grupa-e</th><th>Od</th><th>Do</th>' + \\\n",
    "            '<th>Učionica</th><th>Odsek</th><th>Sem.</th><th>Vrsta nast.</th>' + \\\n",
    "            '<th>Naziv predmeta</th></tr>\\n'\n",
    "    table += '  </thead>\\n'\n",
    "    return table"
   ]
  },
  {
   "cell_type": "code",
   "execution_count": 15,
   "metadata": {},
   "outputs": [],
   "source": [
    "def stud_program_colgroup() -> str:\n",
    "    # colgroup\n",
    "    table = '<colgroup>'\n",
    "    table += '<col class=\"eleven\" />'\n",
    "    table += '<col class=\"seven\" />'\n",
    "    table += '<col class=\"seven\" />'\n",
    "    table += '<col class=\"ten\" />'\n",
    "    table += '<col class=\"ten\" />'\n",
    "    table += '<col class=\"thirty\" />'\n",
    "    table += '<col class=\"twenty-five\" />'\n",
    "    table += '</colgroup>'\n",
    "    return table"
   ]
  },
  {
   "cell_type": "code",
   "execution_count": 16,
   "metadata": {},
   "outputs": [],
   "source": [
    "def prostorija_colgroup() -> str:\n",
    "    # colgroup\n",
    "    table = '<colgroup>'\n",
    "    table += '<col class=\"eleven\" />'\n",
    "    table += '<col class=\"seven\" />'\n",
    "    table += '<col class=\"seven\" />'\n",
    "    table += '<col class=\"fifteen\" />'\n",
    "    table += '<col class=\"five\" />'\n",
    "    table += '<col class=\"ten\" />'\n",
    "    table += '<col class=\"twenty-five\" />'\n",
    "    table += '<col class=\"twenty\" />'\n",
    "    table += '</colgroup>'\n",
    "    return table"
   ]
  },
  {
   "cell_type": "code",
   "execution_count": 17,
   "metadata": {},
   "outputs": [],
   "source": [
    "def predavac_colgroup() -> str:\n",
    "    # colgroup\n",
    "    table = '<colgroup>'\n",
    "    table += '<col class=\"eleven\" />'\n",
    "    table += '<col class=\"seven\" />'\n",
    "    table += '<col class=\"seven\" />'\n",
    "    table += '<col class=\"ten\" />'\n",
    "    table += '<col class=\"twenty\" />'\n",
    "    table += '<col class=\"five\" />'\n",
    "    table += '<col class=\"ten\" />'\n",
    "    table += '<col class=\"thirty\" />'\n",
    "    table += '</colgroup>'\n",
    "    return table"
   ]
  },
  {
   "cell_type": "code",
   "execution_count": 18,
   "metadata": {},
   "outputs": [],
   "source": [
    "def table_head(\n",
    "        day: int, \n",
    "        type: str\n",
    ") -> str:\n",
    "    if type == 'studProgram':\n",
    "        colgroup = stud_program_colgroup()\n",
    "        head = stud_program_header(7, day)\n",
    "    if type == 'prostorija':\n",
    "        colgroup = prostorija_colgroup()\n",
    "        head = prostorija_header(8, day)\n",
    "    if type == 'predavac':\n",
    "        colgroup = predavac_colgroup()\n",
    "        head = predavac_header(8, day)\n",
    "    return colgroup + head"
   ]
  },
  {
   "cell_type": "code",
   "execution_count": 19,
   "metadata": {},
   "outputs": [],
   "source": [
    "def html_table(\n",
    "        rows: list[str],\n",
    "        day: str,\n",
    "        type: str\n",
    ") -> str:\n",
    "    table = '<table>'\n",
    "    table += table_head(day, type)\n",
    "    # body\n",
    "    table += '  <tbody>\\n'\n",
    "    for row in rows:\n",
    "        table += '    <tr><td>'\n",
    "        table += '</td><td>'.join(row)\n",
    "        table += '</td></tr>\\n'\n",
    "    table += '  </tbody>\\n'\n",
    "    table += '</table>\\n'\n",
    "    return table"
   ]
  },
  {
   "cell_type": "code",
   "execution_count": 20,
   "metadata": {},
   "outputs": [],
   "source": [
    "def html_head() -> str:\n",
    "    html = '<html>'\n",
    "    # head\n",
    "    html += '<head>'\n",
    "    # utf-8\n",
    "    html += '<meta http-equiv=\"Content-type\" content=\"text/html; charset=utf-8\" />'\n",
    "    # stylesheet\n",
    "    html += '<link rel=\"stylesheet\" href=\"styles.css\">'\n",
    "    html += '</head>'\n",
    "    return html"
   ]
  },
  {
   "cell_type": "code",
   "execution_count": 21,
   "metadata": {},
   "outputs": [],
   "source": [
    "def stud_program_tables(\n",
    "        raspored: StudProgramiRaspored\n",
    ") -> str:\n",
    "    stud_program_tables = {}\n",
    "    for stud_program_id, stud_program in raspored.studProgrami.items():\n",
    "        html = ''\n",
    "        stud_program_naziv = stud_program.studProgramNaziv\n",
    "        stepen_studija = stud_program.studProgramStepenStudija\n",
    "        html += '<h1>Raspored predavanja - ' + oznaka_stepena_to_stepen_studija(stepen_studija)\n",
    "        html += '<h1>' + stud_program_naziv + '</h1>'\n",
    "        for semestar in stud_program.semestri.values():\n",
    "            semestar_num = semestar.semestarNum\n",
    "            semestar_html = ''\n",
    "            for dan in semestar.dani.values():\n",
    "                dani_html = ''\n",
    "                if len(dan.redovi) != 0:\n",
    "                    rows_list = [raspored_red_to_ispis(dan) for dan in dan.redovi]\n",
    "                    dani_html += html_table(rows_list, dan_num_to_dan(dan.danNum), 'studProgram')\n",
    "                    dani_html += '<br/>'\n",
    "                semestar_html += dani_html\n",
    "            if semestar_html:\n",
    "                semestar_html = '<div class=\"page\">' + semestar_html\n",
    "                semestar_html = '<h2 class=\"right\">' + semestar_num_to_semestar(semestar_num) + '</h2>' + semestar_html\n",
    "                semestar_html += '</div>'\n",
    "                semestar_html += '<br/>'\n",
    "            html += semestar_html\n",
    "        html += '<br/>'\n",
    "        stud_program_tables[stud_program_id] = html\n",
    "    return stud_program_tables"
   ]
  },
  {
   "cell_type": "code",
   "execution_count": 22,
   "metadata": {},
   "outputs": [],
   "source": [
    "def prostorija_table(\n",
    "        raspored: ProstorijaRaspored\n",
    ") -> str:\n",
    "    html = html_head()\n",
    "    prostorija_oznaka = raspored.prostorijaOznaka\n",
    "    html += '<h1>Zauzeće prostorije - ' + str(prostorija_oznaka) + '</h1>'\n",
    "    for dan in raspored.dani.values():\n",
    "        dani_html = ''\n",
    "        if len(dan.redovi) != 0:\n",
    "            rows_list = [prostorija_red_to_ispis(dan) for dan in dan.redovi]\n",
    "            dani_html += html_table(rows_list, dan_num_to_dan(dan.danNum), 'prostorija')\n",
    "            dani_html += '<br/>'\n",
    "        html += dani_html\n",
    "    html += '</body></html>'\n",
    "    return html"
   ]
  },
  {
   "cell_type": "code",
   "execution_count": 23,
   "metadata": {},
   "outputs": [],
   "source": [
    "def predavac_table(\n",
    "        raspored: PredavacRaspored\n",
    ") -> str:\n",
    "    html = html_head()\n",
    "    predavac_ime = raspored.predavacIme\n",
    "    html += '<h1>Raspored predavača - ' + predavac_ime + '</h1>'\n",
    "    for dan in raspored.dani.values():\n",
    "        dani_html = ''\n",
    "        if len(dan.redovi) != 0:\n",
    "            rowsList = [predavac_red_to_ispis(dan) for dan in dan.redovi]\n",
    "            dani_html += html_table(rowsList, dan_num_to_dan(dan.danNum), 'predavac')\n",
    "            dani_html += '<br/>'\n",
    "        html += dani_html\n",
    "    html += '</body></html>'\n",
    "    return html"
   ]
  },
  {
   "attachments": {},
   "cell_type": "markdown",
   "metadata": {},
   "source": [
    "### Mapiranje rasporeda studijskih programa"
   ]
  },
  {
   "cell_type": "code",
   "execution_count": 24,
   "metadata": {},
   "outputs": [],
   "source": [
    "def html_generator(\n",
    "        stud_program_ids: list[str],\n",
    "        raspored: StudProgramiRaspored\n",
    ") -> str:\n",
    "    html = html_head()\n",
    "    # body\n",
    "    html += '<body>'\n",
    "    # studProgramId: htmlTabele\n",
    "    stud_program_tables_map = stud_program_tables(raspored)\n",
    "    # [studProgamId1, studProgramId2]\n",
    "    for stud_program_id in stud_program_ids:\n",
    "        # nadji u mapi po id-u i konkateniraj\n",
    "        if stud_program_id in stud_program_tables_map.keys():\n",
    "            html += stud_program_tables_map.get(stud_program_id)\n",
    "    html += '</body></html>'\n",
    "    return html"
   ]
  },
  {
   "cell_type": "code",
   "execution_count": 25,
   "metadata": {},
   "outputs": [],
   "source": [
    "def generate_all_rasporedi(\n",
    "        raspored: StudProgramiRaspored,\n",
    "        raspored_combinations: list[RasporedPrikaz],\n",
    "        dir_path: str = '../out_data/rasporedi/studenti/',\n",
    "        css: str = 'styles.css'\n",
    ") -> None:\n",
    "    css_file = dir_path + css\n",
    "\n",
    "    for combination in raspored_combinations:\n",
    "        html = html_generator(combination.studProgrami, raspored)\n",
    "        file_name = unidecode(combination.nazivRasporeda)\n",
    "        html_file = 'html'\n",
    "        write_to_file(html, file_name, html_file, dir_path)\n",
    "        write_pdf_from_html(file_name, css_file, dir_path)\n",
    "        print(combination.nazivRasporeda + ' DONE')"
   ]
  },
  {
   "attachments": {},
   "cell_type": "markdown",
   "metadata": {},
   "source": [
    "### Mapiranje svih prostorija rasporeda"
   ]
  },
  {
   "cell_type": "code",
   "execution_count": 26,
   "metadata": {},
   "outputs": [],
   "source": [
    "def generate_all_prostorija_rasporedi(\n",
    "        raspored: ProstorijeRaspored,\n",
    "        dir_path: str = '../out_data/rasporedi/prostorije',\n",
    "        css: str = 'styles.css'\n",
    "):\n",
    "    css_file = dir_path + css\n",
    "\n",
    "    for prostorija in raspored.prostorije.values():\n",
    "        oznaka = str(prostorija.prostorijaOznaka)\n",
    "        oznaka_clean = oznaka.replace('.', ' ').replace('/', ' ')\n",
    "        file_name = unidecode(oznaka_clean)\n",
    "        html = prostorija_table(prostorija)\n",
    "        html_file = 'html'\n",
    "        write_to_file(html, file_name, html_file, dir_path)\n",
    "        write_pdf_from_html(file_name, css_file, dir_path)\n",
    "        print(oznaka + ' DONE')\n",
    "    "
   ]
  },
  {
   "attachments": {},
   "cell_type": "markdown",
   "metadata": {},
   "source": [
    "### Mapiranje svih predavac rasporeda"
   ]
  },
  {
   "cell_type": "code",
   "execution_count": 27,
   "metadata": {},
   "outputs": [],
   "source": [
    "def generate_all_predavac_rasporedi(\n",
    "        raspored: PredavaciRaspored,\n",
    "        dir_path: str = '../out_data/rasporedi/predavaci',\n",
    "        css: str = 'styles.css'\n",
    "):\n",
    "    css_file = dir_path + css\n",
    "\n",
    "    for predavac in raspored.predavaci.values():\n",
    "        ime = predavac.predavacIme\n",
    "        file_name = unidecode(ime)\n",
    "        html = predavac_table(predavac)\n",
    "        html_file = 'html'\n",
    "        write_to_file(html, file_name, html_file, dir_path)\n",
    "        write_pdf_from_html(file_name, css_file, dir_path)\n",
    "        print(ime + ' DONE')\n",
    "    "
   ]
  },
  {
   "cell_type": "code",
   "execution_count": 30,
   "metadata": {},
   "outputs": [],
   "source": [
    "raspored = StudProgramiRaspored.read_entity_from_file('STARI_OPTIMIZOVAN_RASPORED_TEST')\n",
    "raspored_combinations = RasporedPrikaz.read_list_from_file('STARI_RASPOREDI_SPAJANJE_TEST')"
   ]
  },
  {
   "cell_type": "code",
   "execution_count": 29,
   "metadata": {},
   "outputs": [
    {
     "name": "stdout",
     "output_type": "stream",
     "text": [
      "Animacija u inzenjerstvu DONE\n",
      "Arhitektura DONE\n",
      "Biomedicinsko inzenjerstvo DONE\n",
      "Ciste energetske tehnologije DONE\n",
      "Digitalne tehnike, dizajn i produkcija u arhitekturi DONE\n",
      "OSS Elektrotehnika DONE\n",
      "OSS Softverske informacione tehnologije DONE\n",
      "MSS Proizvodno masinstvo DONE\n",
      "MSS Elektrotehnika DONE\n",
      "MSS Inzenjerski menadzment MBA DONE\n",
      "Energetika, elektronika i telekomunikacije DONE\n",
      "Primenjeno softversko inzenjerstvo DONE\n",
      "Geodezija i geoinformatika DONE\n",
      "Merenje i regulacija DONE\n",
      "Scenska arhitektura DONE\n",
      "Inzenjerstvo tretmana i zastite voda DONE\n",
      "Softversko inzenjerstvo i informacione tehnologije DONE\n",
      "Graficko inzenjerstvo i dizajn DONE\n",
      "Gradjevinarstvo DONE\n",
      "Industrijsko inzenjerstvo DONE\n",
      "Inzenjerstvo inovacija DONE\n",
      "Informaciono inženjerstvo i menadžment DONE\n",
      "Inzenjerstvo informacionih sistema DONE\n",
      "Informacioni inzenjering DONE\n",
      "Inzenjerstvo zastite zivotne sredine i zastite na radu DONE\n",
      "Upravljanje rizikom od katastrofalnih dogadjaja i pozara DONE\n",
      "Masinstvo DONE\n",
      "Matematika u tehnici DONE\n",
      "Mehatronika DONE\n",
      "Planiranje i upravljanje regionalnim razvojem DONE\n",
      "Racunarstvo i automatika DONE\n",
      "Saobracaj DONE\n",
      "Informaciona bezbednost DONE\n",
      "Vestacka inteligencija i masinsko ucenje DONE\n"
     ]
    }
   ],
   "source": [
    "generate_all_rasporedi(raspored, raspored_combinations)"
   ]
  },
  {
   "cell_type": "code",
   "execution_count": null,
   "metadata": {},
   "outputs": [],
   "source": []
  }
 ],
 "metadata": {
  "kernelspec": {
   "display_name": "venv",
   "language": "python",
   "name": "python3"
  },
  "language_info": {
   "codemirror_mode": {
    "name": "ipython",
    "version": 3
   },
   "file_extension": ".py",
   "mimetype": "text/x-python",
   "name": "python",
   "nbconvert_exporter": "python",
   "pygments_lexer": "ipython3",
   "version": "3.11.2"
  },
  "orig_nbformat": 4
 },
 "nbformat": 4,
 "nbformat_minor": 2
}
