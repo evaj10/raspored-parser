{
 "cells": [
  {
   "cell_type": "markdown",
   "metadata": {},
   "source": [
    "# Glavna skripta komponente za izvoze podataka"
   ]
  },
  {
   "attachments": {},
   "cell_type": "markdown",
   "metadata": {},
   "source": [
    " #### Formatiranje termina\n",
    " - 9_format_termini.ipynb"
   ]
  },
  {
   "attachments": {},
   "cell_type": "markdown",
   "metadata": {},
   "source": [
    " ### Formatiranje termina u model za prikazivanje"
   ]
  },
  {
   "attachments": {},
   "cell_type": "markdown",
   "metadata": {},
   "source": [
    " #### Metode za mapiranje"
   ]
  },
  {
   "cell_type": "code",
   "execution_count": 1,
   "metadata": {},
   "outputs": [],
   "source": [
    "from model_parser import ReadWrite, MeetingSchedule, RasporedPrikaz\n",
    "from model_joined import *\n",
    "from model_prikaz import *\n",
    "from parser_utils import *\n"
   ]
  },
  {
   "cell_type": "code",
   "execution_count": 2,
   "metadata": {},
   "outputs": [],
   "source": [
    "from collections import defaultdict\n"
   ]
  },
  {
   "cell_type": "code",
   "execution_count": 3,
   "metadata": {},
   "outputs": [],
   "source": [
    "import numpy as np\n",
    "import pandas as pd"
   ]
  },
  {
   "cell_type": "code",
   "execution_count": 4,
   "metadata": {},
   "outputs": [],
   "source": [
    "def time_grain_index_to_time(\n",
    "        grain_index: int,\n",
    "        grains_per_day: int, \n",
    "        start_hour: int\n",
    ") -> str:\n",
    "    while grain_index > grains_per_day:\n",
    "        grain_index -= (grains_per_day + 1)\n",
    "    start_time = start_hour * 60\n",
    "    time = start_time + grain_index * 15\n",
    "    hour = time // 60\n",
    "    minute = time % 60\n",
    "    return f'{hour:02d}:{minute:02d}'\n"
   ]
  },
  {
   "cell_type": "code",
   "execution_count": 5,
   "metadata": {},
   "outputs": [],
   "source": [
    "def minute_to_time(\n",
    "        minutes: int\n",
    ") -> str:\n",
    "    hour = minutes // 60\n",
    "    minute = minutes % 60\n",
    "    return f'{hour:02d}:{minute:02d}'\n"
   ]
  },
  {
   "cell_type": "code",
   "execution_count": 6,
   "metadata": {},
   "outputs": [],
   "source": [
    "def predavac_to_ispis(\n",
    "        predavac: Predavac\n",
    ") -> str:\n",
    "    if predavac.titula:\n",
    "        return f'{predavac.prezime} {predavac.titula} {predavac.ime}'\n",
    "    return f'{predavac.prezime} {predavac.ime}'\n"
   ]
  },
  {
   "cell_type": "code",
   "execution_count": 7,
   "metadata": {},
   "outputs": [],
   "source": [
    "def predavac_to_oznaka(\n",
    "        predavac: Predavac\n",
    ") -> str:\n",
    "    return str(predavac.oznaka)\n"
   ]
  },
  {
   "cell_type": "code",
   "execution_count": 8,
   "metadata": {},
   "outputs": [],
   "source": [
    "def stud_grupe_to_ispis(\n",
    "        stud_grupe: list[StudentskaGrupa],\n",
    "        bi_weekly: bool,\n",
    "        tip_nastave: str\n",
    ") -> str:\n",
    "    # TODO: preuzmi sve grupe za taj studijski program i tu godinu\n",
    "    # ako su iste duzine, vrati 'SVI', inace vrati spojen ispis grupa\n",
    "    # bitno da li je svake druge nedelje\n",
    "    # za sada vraca sve ako je predavanje jer nemamo izborne predmete\n",
    "    if tip_nastave == 'PRED':\n",
    "        return 'SVI'\n",
    "    oznake = [grupa.oznaka for grupa in stud_grupe]\n",
    "    if bi_weekly:\n",
    "        first_week = oznake[:len(oznake)//2]\n",
    "        second_week = oznake[len(oznake)//2:]\n",
    "        first_week = ', '.join(first_week)\n",
    "        second_week = ', '.join(second_week)\n",
    "        return f'{first_week}({second_week})'\n",
    "    else:\n",
    "        return ', '.join(oznake)\n"
   ]
  },
  {
   "cell_type": "code",
   "execution_count": 9,
   "metadata": {},
   "outputs": [],
   "source": [
    "def meeting_assignment_to_dan(\n",
    "        ma: MeetingAssignmentJoined\n",
    ") -> str:\n",
    "    return ma.startingTimeGrain.dan.danUNedelji\n"
   ]
  },
  {
   "cell_type": "code",
   "execution_count": 10,
   "metadata": {},
   "outputs": [],
   "source": [
    "def meeting_assignment_to_prostorija_id(\n",
    "        ma: MeetingAssignmentJoined\n",
    ") -> str:\n",
    "    return ma.prostorija.id\n"
   ]
  },
  {
   "cell_type": "code",
   "execution_count": 11,
   "metadata": {},
   "outputs": [],
   "source": [
    "def meeting_assignment_to_prostorija_zauzece(\n",
    "        ma: MeetingAssignmentJoined,\n",
    ") -> ProstorijaZauzece:\n",
    "    prostorija_oznaka = ma.prostorija.oznaka\n",
    "    first_time_grain = ma.startingTimeGrain.grainIndex\n",
    "    duration_in_grains = ma.meeting.durationInGrains\n",
    "    last_time_grain = first_time_grain + duration_in_grains\n",
    "    return ProstorijaZauzece(prostorija_oznaka, first_time_grain, last_time_grain)"
   ]
  },
  {
   "cell_type": "code",
   "execution_count": 12,
   "metadata": {},
   "outputs": [],
   "source": [
    "def meeting_assignment_to_stud_grupe(\n",
    "        ma: MeetingAssignmentJoined\n",
    ") -> list[tuple[str, int]]:\n",
    "    # lista tuplova => [(studProgramId, godina)]\n",
    "    stud_program_godine = []\n",
    "    stud_grupe = ma.meeting.studentskeGrupe\n",
    "    stud_program_ids = set()\n",
    "    for grupa in stud_grupe:\n",
    "        stud_program_id = grupa.studijskiProgram.id\n",
    "        godina = grupa.godina\n",
    "        # samo jednom dodajemo informacije o studijskom programu i godini\n",
    "        if stud_program_id in stud_program_ids:\n",
    "            continue\n",
    "        stud_program_ids.add(stud_program_id)\n",
    "        stud_program_godine.append((stud_program_id, godina))\n",
    "    return stud_program_godine\n"
   ]
  },
  {
   "cell_type": "code",
   "execution_count": 13,
   "metadata": {},
   "outputs": [],
   "source": [
    "def meeting_assignment_to_predavaci_ids(\n",
    "        ma: MeetingAssignmentJoined\n",
    ") -> list[str]:\n",
    "    predavac_id = ma.meeting.predavac.id\n",
    "    ostali_predavaci = ma.meeting.ostaliPredavaci\n",
    "    predavaci_ids = [pred.id for pred in ostali_predavaci]\n",
    "    predavaci_ids.append(predavac_id)\n",
    "    return predavaci_ids\n"
   ]
  },
  {
   "cell_type": "code",
   "execution_count": 14,
   "metadata": {},
   "outputs": [],
   "source": [
    "def meeting_assignment_to_red(\n",
    "        ma: MeetingAssignmentJoined,\n",
    "        grains_per_day: int,\n",
    "        start_hour: int\n",
    ") -> Red:\n",
    "    start_time_grain = ma.startingTimeGrain\n",
    "    # ako optimizator nije uspeo da dodeli vreme\n",
    "    if start_time_grain is None:\n",
    "        return None\n",
    "    start_time_grain = start_time_grain.grainIndex\n",
    "    duration_in_grains = ma.meeting.durationInGrains\n",
    "    end_time_grain = start_time_grain + duration_in_grains - 1\n",
    "    tip_nastave = ma.meeting.meetingTip\n",
    "    predmet_naziv = ma.meeting.predmet.naziv\n",
    "\n",
    "    stud_grupa = stud_grupe_to_ispis(ma.meeting.studentskeGrupe, ma.meeting.biWeekly, tip_nastave)\n",
    "    vreme_pocetka = time_grain_index_to_time(start_time_grain, grains_per_day, start_hour)\n",
    "    vreme_kraja = time_grain_index_to_time(end_time_grain, grains_per_day, start_hour)\n",
    "    \n",
    "    return Red(stud_grupa, vreme_pocetka, vreme_kraja, tip_nastave, predmet_naziv)\n"
   ]
  },
  {
   "cell_type": "code",
   "execution_count": 15,
   "metadata": {},
   "outputs": [],
   "source": [
    "def meeting_assignment_to_prostorija_red(\n",
    "        ma: MeetingAssignmentJoined,\n",
    "        grains_per_day: int,\n",
    "        start_hour: int\n",
    ") -> ProstorijaRed:\n",
    "    red = meeting_assignment_to_red(ma, grains_per_day, start_hour)\n",
    "    if red is None:\n",
    "        return None\n",
    "    \n",
    "    stud_grupe = ma.meeting.studentskeGrupe\n",
    "    # moze za vezbe, za predavanja imamo spojene stud programe - ALI TO NIKOME NIJE BITNO\n",
    "    odsek = stud_grupe[0].studijskiProgram.naziv\n",
    "    godina = stud_grupe[0].godina\n",
    "    semestar_oznaka = stud_grupe[0].semestar\n",
    "    semestar = arabic_to_roman(godina * 2 - 1 if semestar_oznaka == 'Z' else godina * 2)\n",
    "    predavac = predavac_to_ispis(ma.meeting.predavac)\n",
    "    ostali_predavaci = [predavac_to_ispis(predavac) for predavac in ma.meeting.ostaliPredavaci]\n",
    "    if len(ostali_predavaci):\n",
    "        predavaci = f'{predavac}, ' + ', '.join(ostali_predavaci)\n",
    "    else:\n",
    "        predavaci = predavac\n",
    "    \n",
    "    red.odsek = odsek\n",
    "    red.semestar = semestar\n",
    "    red.predavac = predavaci\n",
    "    return ProstorijaRed(**vars(red))\n"
   ]
  },
  {
   "cell_type": "code",
   "execution_count": 16,
   "metadata": {},
   "outputs": [],
   "source": [
    "def meeting_assignment_to_predavac_red(\n",
    "        ma: MeetingAssignmentJoined,\n",
    "        grains_per_day: int,\n",
    "        start_hour: int\n",
    ") -> PredavacRed:\n",
    "    red = meeting_assignment_to_red(ma, grains_per_day, start_hour)\n",
    "    if red is None:\n",
    "        return None\n",
    "\n",
    "    prostorija = ma.prostorija.oznaka\n",
    "    stud_grupe = ma.meeting.studentskeGrupe\n",
    "    # moze za vezbe, za predavanja imamo spojene stud programe - ALI TO NIKOME NIJE BITNO\n",
    "    odsek = stud_grupe[0].studijskiProgram.naziv\n",
    "    godina = stud_grupe[0].godina\n",
    "    semestar_oznaka = stud_grupe[0].semestar\n",
    "    semestar = arabic_to_roman(godina * 2 - 1 if semestar_oznaka == 'Z' else godina * 2)\n",
    "    \n",
    "    red.prostorija = prostorija\n",
    "    red.odsek = odsek\n",
    "    red.semestar = semestar\n",
    "    return PredavacRed(**vars(red))\n"
   ]
  },
  {
   "cell_type": "code",
   "execution_count": 17,
   "metadata": {},
   "outputs": [],
   "source": [
    "def meeting_assignment_to_raspored_red(\n",
    "        ma: MeetingAssignmentJoined,\n",
    "        grains_per_day: int,\n",
    "        start_hour: int\n",
    ") -> RasporedRed:\n",
    "    red = meeting_assignment_to_red(ma, grains_per_day, start_hour)\n",
    "    if red is None:\n",
    "        return None\n",
    "\n",
    "    prostorija = ma.prostorija.oznaka\n",
    "    predavac = predavac_to_ispis(ma.meeting.predavac)\n",
    "    ostali_predavaci = [predavac_to_ispis(predavac) for predavac in ma.meeting.ostaliPredavaci]\n",
    "    if len(ostali_predavaci):\n",
    "        predavaci = f'{predavac}, ' + ', '.join(ostali_predavaci)\n",
    "    else:\n",
    "        predavaci = predavac\n",
    "    \n",
    "    red.prostorija = prostorija\n",
    "    red.predavac = predavaci\n",
    "    return RasporedRed(**vars(red))\n"
   ]
  },
  {
   "cell_type": "code",
   "execution_count": 18,
   "metadata": {},
   "outputs": [],
   "source": [
    "def meeting_assignment_to_edit_prikaz(\n",
    "        ma: MeetingAssignmentJoined\n",
    ") -> EditPrikaz:\n",
    "    meeting_id = ma.id\n",
    "\n",
    "    prostorija_kapacitet = ma.prostorija.kapacitet\n",
    "    potreban_kapacitet = ma.meeting.requiredCapacity\n",
    "    prekoracen_kapacitet = 0\n",
    "    if potreban_kapacitet > prostorija_kapacitet:\n",
    "        prekoracen_kapacitet = potreban_kapacitet - prostorija_kapacitet\n",
    "    \n",
    "    nastava_tip = ma.meeting.meetingTip\n",
    "    \n",
    "    predmet = ma.meeting.predmet\n",
    "    predmet_prikaz = PredmetPrikaz(predmet.id, predmet.oznaka, predmet.plan, predmet.naziv)\n",
    "    \n",
    "    predavac_fullname = predavac_to_ispis(ma.meeting.predavac)\n",
    "    predavac_prikaz = PredavacPrikaz(ma.meeting.predavac.id, predavac_fullname)\n",
    "\n",
    "    stud_grupe = ma.meeting.studentskeGrupe\n",
    "    stud_programi = set()\n",
    "    stud_grupe_list = []\n",
    "    for grupa in stud_grupe:\n",
    "        stud_program = grupa.studijskiProgram\n",
    "        stud_programi.add(StudProgram(stud_program.oznaka, stud_program.stepen, stud_program.nivo, grupa.godina))\n",
    "        stud_grupe_list.append(StudGrupa(grupa.id, grupa.oznaka))\n",
    "    \n",
    "    return EditPrikaz(meeting_id, nastava_tip, predmet_prikaz, predavac_prikaz, list(stud_programi), \n",
    "                        stud_grupe_list, potreban_kapacitet, prekoracen_kapacitet)\n"
   ]
  },
  {
   "cell_type": "code",
   "execution_count": 84,
   "metadata": {},
   "outputs": [],
   "source": [
    "def unassigned_meeting_assignment_to_edit_prikaz(\n",
    "        ma: MeetingAssignmentJoined\n",
    ") -> EditPrikaz:\n",
    "    meeting_id = ma.id\n",
    "\n",
    "    potreban_kapacitet = ma.meeting.requiredCapacity\n",
    "\n",
    "    trajanje_termina = ma.meeting.durationInGrains\n",
    "\n",
    "    nastava_tip = ma.meeting.meetingTip\n",
    "    \n",
    "    predmet = ma.meeting.predmet\n",
    "    predmet_prikaz = PredmetPrikaz(predmet.id, predmet.oznaka, predmet.plan, predmet.naziv)\n",
    "    \n",
    "    predavac_fullname = predavac_to_ispis(ma.meeting.predavac)\n",
    "    predavac_prikaz = PredavacPrikaz(ma.meeting.predavac.id, predavac_fullname)\n",
    "\n",
    "    stud_grupe = ma.meeting.studentskeGrupe\n",
    "    stud_programi = set()\n",
    "    stud_grupe_list = []\n",
    "    for grupa in stud_grupe:\n",
    "        stud_program = grupa.studijskiProgram\n",
    "        stud_programi.add(StudProgram(stud_program.oznaka, stud_program.stepen, stud_program.nivo, grupa.godina))\n",
    "        stud_grupe_list.append(StudGrupa(grupa.id, grupa.oznaka))\n",
    "    # staviti max int umesto -1 da se ne bi bojila polja\n",
    "    return EditPrikaz(meeting_id, nastava_tip, predmet_prikaz, predavac_prikaz, list(stud_programi), \n",
    "                        stud_grupe_list, potreban_kapacitet, -1, trajanje_termina)\n"
   ]
  },
  {
   "attachments": {},
   "cell_type": "markdown",
   "metadata": {},
   "source": [
    " ### Kreiranje **Raspored prikaza**\n",
    "\n",
    " - transformacija ```MeetingAssignment``` u ```StudProgramiRaspored```"
   ]
  },
  {
   "cell_type": "code",
   "execution_count": 20,
   "metadata": {},
   "outputs": [],
   "source": [
    "def stepen_nivo_to_stud_program_stepen_studija(\n",
    "        stepen: int, \n",
    "        nivo: int\n",
    ") -> str:\n",
    "    if stepen == 1 and nivo == 1:\n",
    "        stepen_studija = \"oas\"\n",
    "    if stepen == 1 and nivo == 2:\n",
    "        stepen_studija = \"oss\"\n",
    "    if stepen == 2 and nivo == 1:\n",
    "        stepen_studija = \"mas\"\n",
    "    if stepen == 2 and nivo == 5:\n",
    "        stepen_studija = \"mss\"\n",
    "    return stepen_studija\n"
   ]
  },
  {
   "cell_type": "code",
   "execution_count": 21,
   "metadata": {},
   "outputs": [],
   "source": [
    "# u slucaju novih 2-godisnjih master stud programa, dodati ga u listu\n",
    "# TODO: (izmena da informacija o tome da li je stud program cuva u samom programu)\n",
    "def is_dvogodisnji_master(\n",
    "        oznaka: str\n",
    ") -> bool:\n",
    "    return oznaka in [\"AI1\", \"AI2\", \"AI3\", \"AI4\", \"AI5\", \"AI6\", \"AI7\", \"AI8\"]\n"
   ]
  },
  {
   "cell_type": "code",
   "execution_count": 22,
   "metadata": {},
   "outputs": [],
   "source": [
    "def create_dani_dict():\n",
    "    dani = {}\n",
    "    for i in range(0, 6):\n",
    "        dani[i] = RasporedDan(i, [])\n",
    "    return dani\n"
   ]
  },
  {
   "cell_type": "code",
   "execution_count": 23,
   "metadata": {},
   "outputs": [],
   "source": [
    "def create_semestar(\n",
    "        semestar_num: int,\n",
    "        start_semestar: int\n",
    ") -> Semestar:\n",
    "    semestar = Semestar(start_semestar + (semestar_num - 1) *2, dict())\n",
    "    semestar.dani = create_dani_dict()\n",
    "    return semestar\n"
   ]
  },
  {
   "cell_type": "code",
   "execution_count": 24,
   "metadata": {},
   "outputs": [],
   "source": [
    "def create_semestri(\n",
    "        stud_program_raspored: StudProgramRaspored, \n",
    "        oznaka: str, \n",
    "        stepen: int, \n",
    "        nivo: int, \n",
    "        start_semestar: int\n",
    ") -> StudProgramRaspored:\n",
    "    # oas i oss\n",
    "    if stepen == 1:\n",
    "        # 4 semestra za oas, 3 za oss\n",
    "        for i in range(1, 5):\n",
    "            semestar = create_semestar(i, start_semestar)\n",
    "            # semestri[godina] = semestar\n",
    "            stud_program_raspored.semestri[i] = semestar\n",
    "            if nivo == 2 and i == 3:\n",
    "                break\n",
    "    # mas i mss\n",
    "    if stepen == 2:\n",
    "        # 1 semestar za jednogodisnje, 2 za dvogodisnje\n",
    "        for i in range(1, 3):\n",
    "            semestar = create_semestar(i, start_semestar)\n",
    "            # semestri[4+godina] = semestar jer su studentske grupe na masteru 5. i 6. godina\n",
    "            stud_program_raspored.semestri[4+i] = semestar\n",
    "            if nivo == 1 and i == 1 and not is_dvogodisnji_master(oznaka):\n",
    "                break\n",
    "    return stud_program_raspored\n"
   ]
  },
  {
   "cell_type": "code",
   "execution_count": 88,
   "metadata": {},
   "outputs": [],
   "source": [
    "def meeting_assignments_to_stud_programi_raspored(\n",
    "        semestar_oznaka: str, \n",
    "        stud_programi: list[StudijskiProgram], \n",
    "        meeting_assignments: list[MeetingAssignmentJoined],\n",
    "        grains_per_day: int, \n",
    "        start_hour: int, \n",
    "        unassigned_file_path: str,\n",
    "        dir_path: str = '../out_data/'\n",
    ") -> StudProgramiRaspored:\n",
    "    start_semestar = 1 if semestar_oznaka == \"Z\" else 2\n",
    "\n",
    "    # kreiranje strukture\n",
    "    raspored = StudProgramiRaspored(semestar_oznaka, dict())\n",
    "    for stud_program in stud_programi:\n",
    "        stepen_studija = stepen_nivo_to_stud_program_stepen_studija(stud_program.stepen, stud_program.nivo)\n",
    "        # kreiranje rasporeda za studijski program\n",
    "        stud_program_raspored = StudProgramRaspored(stud_program.naziv, stepen_studija, dict())\n",
    "        # dodavanje rasporeda za studijski program u sve rasporede\n",
    "        raspored.studProgrami[stud_program.id] = stud_program_raspored\n",
    "        # kreiranje semestara za studijski program\n",
    "        stud_program_raspored = create_semestri(stud_program_raspored, stud_program.oznaka, stud_program.stepen, stud_program.nivo, start_semestar)\n",
    "        \n",
    "    # dodavanje MeetingAssignment-a u dane\n",
    "    ma_unassigned = []\n",
    "    for ma in meeting_assignments:\n",
    "        raspored_red = meeting_assignment_to_raspored_red(ma, grains_per_day, start_hour)\n",
    "        if raspored_red is None:\n",
    "            ma_unassigned.append(ma)\n",
    "            continue\n",
    "        # neophodno naci u koje sve studijske programe treba dodati red\n",
    "        # (posto studentske grupe mogu biti iz vise studijskih programa)\n",
    "        dan_num = meeting_assignment_to_dan(ma)\n",
    "        stud_program_godine = meeting_assignment_to_stud_grupe(ma)\n",
    "        # programGodina => (studProgramId, godina)\n",
    "        for program_godina in stud_program_godine:\n",
    "            # dodavanje redova\n",
    "            stud_program_id = program_godina[0]\n",
    "            godina = program_godina[1]\n",
    "            stud_program_raspored = raspored.studProgrami[stud_program_id]\n",
    "            semestar = stud_program_raspored.semestri[godina]\n",
    "            semestar.dani[dan_num].redovi.append(raspored_red)\n",
    "    \n",
    "    # sortiranje po vremenu (9:00-20:00)\n",
    "    for stud_program_raspored in raspored.studProgrami.values():\n",
    "        for semestar in stud_program_raspored.semestri.values():\n",
    "            for dan in semestar.dani.values():\n",
    "                dan.redovi.sort(key=lambda red: red.vremePocetka)\n",
    "    \n",
    "    # zapisivanje nedodeljenih ma za rucnu dodelu\n",
    "    # ReadWrite.write_to_file(ma_unassigned, unassigned_file_path, dir_path)\n",
    "\n",
    "    return raspored\n"
   ]
  },
  {
   "attachments": {},
   "cell_type": "markdown",
   "metadata": {},
   "source": [
    " ### Kreiranje **Prostorije raspored prikaza**\n",
    "\n",
    " - transformacija ```MeetingAssignment``` u ```ProstorijeRaspored```"
   ]
  },
  {
   "cell_type": "code",
   "execution_count": 89,
   "metadata": {},
   "outputs": [],
   "source": [
    "def meeting_assignments_to_prostorije_raspored(\n",
    "        semestar: int, \n",
    "        prostorije: list[Prostorija], \n",
    "        meeting_assignments: list[MeetingAssignmentJoined], \n",
    "        grains_per_day: int, \n",
    "        start_hour: int, \n",
    "        unassigned_file_path: str,\n",
    "        dir_path: str = '../out_data/'\n",
    ") -> ProstorijeRaspored:\n",
    "    # kreiranje strukture\n",
    "    raspored = ProstorijeRaspored(semestar, dict())\n",
    "    for prostorija in prostorije:\n",
    "        prostorija_raspored = ProstorijaRaspored(prostorija.oznaka, create_dani_dict())\n",
    "        raspored.prostorije[prostorija.id] = prostorija_raspored\n",
    "\n",
    "    # dodavanje MeetingAssignment-a u dane\n",
    "    ma_unassigned = []\n",
    "    for ma in meeting_assignments:\n",
    "        prostorija_red = meeting_assignment_to_prostorija_red(ma, grains_per_day, start_hour)\n",
    "        if prostorija_red is None:\n",
    "            ma_unassigned.append(ma)\n",
    "            continue\n",
    "        # dodati red u odgovarajucu prostoriju za odgovarajuci dan\n",
    "        dan_num = meeting_assignment_to_dan(ma)\n",
    "        prostorija_id = meeting_assignment_to_prostorija_id(ma)\n",
    "        prostorija = raspored.prostorije[prostorija_id]\n",
    "        prostorija.dani[dan_num].redovi.append(prostorija_red)\n",
    "\n",
    "    # sortiranje po vremenu (9:00-20:00)\n",
    "    for prosotrija_raspored in raspored.prostorije.values():\n",
    "        for dan in prosotrija_raspored.dani.values():\n",
    "            dan.redovi.sort(key=lambda red: red.vremePocetka)\n",
    "    \n",
    "    # zapisivanje nedodeljenih ma za rucnu dodelu\n",
    "    # ReadWrite.write_to_file(ma_unassigned, unassigned_file_path, dir_path)\n",
    "\n",
    "    return raspored\n"
   ]
  },
  {
   "attachments": {},
   "cell_type": "markdown",
   "metadata": {},
   "source": [
    " ### Kreiranje **Predavaci raspored prikaza**\n",
    "\n",
    " - transformacija ```MeetingAssignment``` u ```PredavaciRaspored```"
   ]
  },
  {
   "cell_type": "code",
   "execution_count": 87,
   "metadata": {},
   "outputs": [],
   "source": [
    "def meeting_assignments_to_predavaci_raspored(\n",
    "        semestar: int, \n",
    "        predavaci: list[Predavac], \n",
    "        meeting_assignments: list[MeetingAssignmentJoined], \n",
    "        grains_per_day: int, \n",
    "        start_hour: int, \n",
    "        unassigned_file_path: str,\n",
    "        dir_path: str = '../out_data/'\n",
    ") -> PredavaciRaspored:\n",
    "    # kreiranje strukture\n",
    "    raspored = PredavaciRaspored(semestar, dict())\n",
    "    for predavac in predavaci:\n",
    "        predavac_raspored = PredavacRaspored(predavac_to_ispis(predavac), create_dani_dict())\n",
    "        raspored.predavaci[predavac.id] = predavac_raspored\n",
    "\n",
    "    # dodavanje MeetingAssignment-a u dane\n",
    "    ma_unassigned = []\n",
    "    for ma in meeting_assignments:\n",
    "        predavac_red = meeting_assignment_to_predavac_red(ma, grains_per_day, start_hour)\n",
    "        if predavac_red is None:\n",
    "            ma_unassigned.append(ma)\n",
    "            continue\n",
    "        # dodati red svim predavacima za odgovarajuci dan\n",
    "        dan_num = meeting_assignment_to_dan(ma)\n",
    "        predavac_ids = meeting_assignment_to_predavaci_ids(ma)\n",
    "        for predavac_id in predavac_ids:\n",
    "            predavac = raspored.predavaci[predavac_id]\n",
    "            predavac.dani[dan_num].redovi.append(predavac_red)\n",
    "\n",
    "    # sortiranje po vremenu (9:00-20:00)\n",
    "    for predavacRaspored in raspored.predavaci.values():\n",
    "        for dan in predavacRaspored.dani.values():\n",
    "            dan.redovi.sort(key=lambda red: red.vremePocetka)\n",
    "    \n",
    "    # zapisivanje nedodeljenih ma za rucnu dodelu\n",
    "    # ReadWrite.write_to_file(ma_unassigned, unassigned_file_path, dir_path)\n",
    "\n",
    "    return raspored\n"
   ]
  },
  {
   "attachments": {},
   "cell_type": "markdown",
   "metadata": {},
   "source": [
    " ### Kreiranje **Google kalendar prikaza**\n",
    "\n",
    " - transformacija ```MeetingAssignment``` u ```GoogleCalendarPrikaz```"
   ]
  },
  {
   "cell_type": "code",
   "execution_count": 28,
   "metadata": {},
   "outputs": [],
   "source": [
    "from datetime import datetime, timedelta\n",
    "from copy import copy\n",
    "\n",
    "# pocetniDan mora biti u formatu '%d/%m/%Y'\n",
    "def meeting_assignment_to_predavac_google_red(\n",
    "        ma: MeetingAssignmentJoined,\n",
    "        grains_per_day: int, \n",
    "        start_hour: int, \n",
    "        pocetni_dan: str, \n",
    "        repeat_num: int = 1):\n",
    "    datum_format = '%d/%m/%Y'\n",
    "    # naslov\n",
    "    meeting = ma.meeting\n",
    "    tip_nastave = meeting.meetingTip\n",
    "    predmet_naziv = meeting.predmet.naziv\n",
    "    naslov = tip_nastave + ', ' + predmet_naziv\n",
    "\n",
    "    # datumi\n",
    "    pocetni_dan = datetime.strptime(pocetni_dan, datum_format).date()\n",
    "    dan_num = meeting_assignment_to_dan(ma)\n",
    "    datum_pocetka = (pocetni_dan + timedelta(days=dan_num)).strftime(datum_format)\n",
    "    datum_kraja = datum_pocetka\n",
    "\n",
    "    # vremena\n",
    "    start_time_grain = ma.startingTimeGrain.grainIndex\n",
    "    duration_in_grains = ma.meeting.durationInGrains\n",
    "    end_time_grain = start_time_grain + duration_in_grains - 1\n",
    "    vreme_pocetka = time_grain_index_to_time(start_time_grain, grains_per_day, start_hour)\n",
    "    vreme_kraja = time_grain_index_to_time(end_time_grain, grains_per_day, start_hour)\n",
    "\n",
    "    # opis\n",
    "    stud_grupe = meeting.studentskeGrupe\n",
    "    odsek = stud_grupe[0].studijskiProgram.naziv\n",
    "    godina = stud_grupe[0].godina\n",
    "    stud_grupa = stud_grupe_to_ispis(stud_grupe, meeting.biWeekly, tip_nastave)\n",
    "    opis = odsek + ', ' + str(godina) + '. godina, grupe: ' + stud_grupa\n",
    "\n",
    "    # lokacija\n",
    "    lokacija = ma.prostorija.oznaka\n",
    "\n",
    "    cal_prikaz = GoogleCalendarPrikaz(naslov, datum_pocetka, datum_kraja, vreme_pocetka, vreme_kraja, opis, lokacija, False, False)\n",
    "    # vrati listu termina * broj nedelja\n",
    "    # uvecaj datum za 7 dana za svaku nedelju\n",
    "    prikazi = [cal_prikaz]\n",
    "    for i in range(repeat_num - 1):\n",
    "        cal_next_prikaz = copy(cal_prikaz)\n",
    "        # (0 + 1) * 7 = pomera_nedelja_unapred\n",
    "        # pomeraj_nedelja_unapred + pomeraj_od_pocetnog_dana\n",
    "        sledeciDan = (pocetni_dan + timedelta(days=(i + 1) * 7 + dan_num)).strftime(datum_format)\n",
    "        cal_next_prikaz.datumPocetka = sledeciDan\n",
    "        cal_next_prikaz.datumKraja = sledeciDan\n",
    "        prikazi.append(cal_next_prikaz)\n",
    "    \n",
    "    return prikazi\n"
   ]
  },
  {
   "cell_type": "code",
   "execution_count": 29,
   "metadata": {},
   "outputs": [],
   "source": [
    "def meeting_assignments_to_predavac_google_calendar(\n",
    "        meeting_assignments: list[MeetingAssignmentJoined],\n",
    "        predavac_id: str,\n",
    "        pocetni_dan: str, \n",
    "        repeat_num: int,\n",
    "        grains_per_day: int, \n",
    "        start_hour: int\n",
    "):\n",
    "    raspored = []\n",
    "    for ma in meeting_assignments:\n",
    "        if ma.startingTimeGrain is None:\n",
    "            continue\n",
    "        predavac_ids = meeting_assignment_to_predavaci_ids(ma)\n",
    "        if predavac_id in predavac_ids:\n",
    "            raspored.extend(meeting_assignment_to_predavac_google_red(ma, grains_per_day, start_hour, pocetni_dan, repeat_num))\n",
    "    return raspored\n"
   ]
  },
  {
   "cell_type": "code",
   "execution_count": 30,
   "metadata": {},
   "outputs": [],
   "source": [
    "def write_google_calendar_csv(\n",
    "        filePath: str,\n",
    "        meeting_assignments: list[MeetingAssignmentJoined], \n",
    "        predavac_id: str, \n",
    "        pocetni_dan: str, \n",
    "        repeat_num: int, \n",
    "        grains_per_day: int, \n",
    "        start_hour: int\n",
    ") -> None:\n",
    "    # columns = ['Subject', 'Start Date', 'Start Time', 'End Date', 'End Time', 'All Day Event', 'Description', 'Location', 'Private']\n",
    "    raspored = meeting_assignments_to_predavac_google_calendar(\n",
    "        meeting_assignments, predavac_id, pocetni_dan, repeat_num, grains_per_day, start_hour)\n",
    "    df = pd.DataFrame.from_records([r.to_dict() for r in raspored])\n",
    "    df.to_csv(filePath, index=False)\n"
   ]
  },
  {
   "attachments": {},
   "cell_type": "markdown",
   "metadata": {},
   "source": [
    " ### Kreiranje prikaza za **Edit-ovanje**\n",
    "\n",
    " - zauzece prostorija po time-grains (podeoci od 15 minuta)\n",
    " - prikaz celog mitinga u svakom time-grain koji zauzima"
   ]
  },
  {
   "cell_type": "code",
   "execution_count": 26,
   "metadata": {},
   "outputs": [],
   "source": [
    "def generate_grains_per_day(\n",
    "        start_idx: int, \n",
    "        count_per_day: int\n",
    ") -> list[int]:\n",
    "    day = []\n",
    "    for j in range(count_per_day):\n",
    "        day.append(start_idx * count_per_day + j)\n",
    "    return day\n"
   ]
  },
  {
   "cell_type": "code",
   "execution_count": 27,
   "metadata": {},
   "outputs": [],
   "source": [
    "def generate_grains(\n",
    "        day_count: int, \n",
    "        count_per_day: int\n",
    ") -> tuple[list[int], list[int]]:\n",
    "    grains_per_day = []\n",
    "    all_grains = []\n",
    "    for i in range(day_count):\n",
    "        day = []\n",
    "        day = generate_grains_per_day(i, count_per_day)\n",
    "        grains_per_day.append(day)\n",
    "        all_grains.extend(day)\n",
    "    return grains_per_day, all_grains\n"
   ]
  },
  {
   "cell_type": "code",
   "execution_count": 28,
   "metadata": {},
   "outputs": [],
   "source": [
    "def meeting_assignments_to_edit_view(\n",
    "        meeting_assignments: list[MeetingAssignmentJoined], \n",
    "        day_num: int, \n",
    "        grains_per_day: int\n",
    ") -> dict[str, dict[int, EditPrikaz]]:\n",
    "    grains_per_day, all_grains = generate_grains(day_num, grains_per_day)\n",
    "    prostorija_odrzavanje = defaultdict(lambda: all_grains.copy())\n",
    "    for ma in meeting_assignments:\n",
    "        if ma.startingTimeGrain is None:\n",
    "            continue\n",
    "        zauzece = meeting_assignment_to_prostorija_zauzece(ma)\n",
    "        # dodajemo zauzece na odgovarajuci time grain\n",
    "        # -> vreme kada su slobodne ostaju indeksi\n",
    "        odrzavanje = meeting_assignment_to_edit_prikaz(ma)\n",
    "        for timeGrain in range(zauzece.firstTimeGrainIndex, zauzece.lastTimeGrainIndex):\n",
    "            prostorija_odrzavanje[zauzece.prostorijaOznaka][timeGrain] = odrzavanje\n",
    "    return prostorija_odrzavanje\n",
    "\n"
   ]
  },
  {
   "cell_type": "code",
   "execution_count": 29,
   "metadata": {},
   "outputs": [],
   "source": [
    "def unassigned_meeting_assignments_to_edit_view(\n",
    "        meeting_assignments: list[MeetingAssignmentJoined], \n",
    ") -> list[EditPrikaz]:\n",
    "    odrzavanja = []\n",
    "    for ma in meeting_assignments:\n",
    "        if ma.startingTimeGrain is None:\n",
    "            nedodeljeno_odrzavanje = unassigned_meeting_assignment_to_edit_prikaz(ma)\n",
    "            odrzavanja.append(nedodeljeno_odrzavanje)\n",
    "    return odrzavanja"
   ]
  },
  {
   "cell_type": "code",
   "execution_count": 30,
   "metadata": {},
   "outputs": [],
   "source": [
    "def create_columns(\n",
    "        grains_per_day: int, \n",
    "        start_hour: int\n",
    ") -> list[str]:\n",
    "    grains = generate_grains_per_day(0, grains_per_day)\n",
    "    # dodavanje kolone za oznaku\n",
    "    columns = ['Oznaka'] + [time_grain_index_to_time(grain, grains_per_day, start_hour) for grain in grains]\n",
    "    return columns\n"
   ]
  },
  {
   "cell_type": "code",
   "execution_count": 31,
   "metadata": {},
   "outputs": [],
   "source": [
    "def create_prostorija_row(\n",
    "        day_num: int, \n",
    "        grains_per_day: int, \n",
    "        weekly_zauzece\n",
    "):\n",
    "    # dobavi sve za odredjeni dan\n",
    "    start_grain = day_num * grains_per_day\n",
    "    end_grain = start_grain + grains_per_day\n",
    "    daily_zauzece = weekly_zauzece[start_grain:end_grain]\n",
    "    # napravi lep to string za objekat\n",
    "    daily_prikaz = [str(zauzece) if type(zauzece) != int else '' for zauzece in daily_zauzece]\n",
    "    return daily_prikaz\n"
   ]
  },
  {
   "cell_type": "code",
   "execution_count": 32,
   "metadata": {},
   "outputs": [],
   "source": [
    "def create_all_rows(\n",
    "        day_num: int, \n",
    "        grains_per_day: int, \n",
    "        all_zauzeca\n",
    "):\n",
    "    all_rows = []\n",
    "    for oznaka, prostorija_zauzece in all_zauzeca.items():\n",
    "        all_rows.append([str(oznaka)] + create_prostorija_row(day_num, grains_per_day, prostorija_zauzece))\n",
    "    return all_rows\n"
   ]
  },
  {
   "cell_type": "code",
   "execution_count": 33,
   "metadata": {},
   "outputs": [],
   "source": [
    "def create_day_edit(\n",
    "        day_num: int, \n",
    "        grains_per_day: int, \n",
    "        start_hour: int, \n",
    "        all_zauzeca\n",
    "):\n",
    "    columns = create_columns(grains_per_day, start_hour)\n",
    "    rows = create_all_rows(day_num, grains_per_day, all_zauzeca)\n",
    "    return columns, rows\n"
   ]
  },
  {
   "cell_type": "code",
   "execution_count": 85,
   "metadata": {},
   "outputs": [],
   "source": [
    "def style_cell(\n",
    "        value: str, \n",
    "        ok, warn, danger\n",
    "):\n",
    "    if 'prekoracenje: -1' in value:\n",
    "        return\n",
    "    if 'PRED' in value and 'prekoracenje: 0' not in value:\n",
    "        return warn\n",
    "    if ('AUD' in value or 'RAC' in value or 'LAB' in value) and 'prekoracenje: 0' not in value:\n",
    "        return danger\n",
    "    if 'prekoracenje: 0' in value:\n",
    "        return ok\n"
   ]
  },
  {
   "cell_type": "code",
   "execution_count": 35,
   "metadata": {},
   "outputs": [],
   "source": [
    "def style_workbook(\n",
    "        writer: pd.ExcelWriter,\n",
    "        dan: int\n",
    "):\n",
    "    # formatiranje\n",
    "    workbook = writer.book\n",
    "    # column width\n",
    "    worksheet = writer.sheets[dan]\n",
    "    worksheet.set_default_row(188.5)\n",
    "    worksheet.set_row(0, 14.5)\n",
    "    worksheet.set_column('B:BJ', 20)\n",
    "    # freeze header and first column\n",
    "    worksheet.freeze_panes(1, 1)\n",
    "    # merge cells\n",
    "    merge_ok_format = workbook.add_format({'align': 'center', 'valign': 'vcenter', 'bg_color': '#D8E4BC', 'border': 1, 'text_wrap': True})\n",
    "    merge_warn_format = workbook.add_format({'align': 'center', 'valign': 'vcenter', 'bg_color': '#FDE9D9', 'border': 1, 'text_wrap': True})\n",
    "    merge_danger_format = workbook.add_format({'align': 'center', 'valign': 'vcenter', 'bg_color': '#E6B8B7', 'border': 1, 'text_wrap': True})\n",
    "    return worksheet, merge_ok_format, merge_warn_format, merge_danger_format"
   ]
  },
  {
   "cell_type": "code",
   "execution_count": 78,
   "metadata": {},
   "outputs": [],
   "source": [
    "from copy import copy\n",
    "def write_nedodeljeni_edit_view(\n",
    "        nedodeljeno_odrzavanje: list[EditPrikaz],\n",
    "        grains_per_day: int,\n",
    "        start_hour: int,\n",
    "):\n",
    "    columns = create_columns(grains_per_day, start_hour)\n",
    "    rows = []\n",
    "    # red je prazna lista duzine broja kolona sa praznim stringovima\n",
    "    # u svaki red treba upisati po jedan nedodeljeni termin\n",
    "    # u duzini od prvog column do duzine trajanja\n",
    "    row = [''] * len(columns)\n",
    "    for odrzavanje in nedodeljeno_odrzavanje:\n",
    "        start_index = 1\n",
    "        end_index = start_index + odrzavanje.duzinaTrajanja\n",
    "        current_row = copy(row)\n",
    "        for time_grain in range(start_index, end_index):\n",
    "            current_row[time_grain] = str(odrzavanje)\n",
    "        rows.append(current_row)\n",
    "\n",
    "    return columns, rows"
   ]
  },
  {
   "cell_type": "code",
   "execution_count": 81,
   "metadata": {},
   "outputs": [],
   "source": [
    "def write_edit_view(\n",
    "        prostorija_odrzavanje,\n",
    "        nedodeljeno_odrzavanje: list[EditPrikaz],\n",
    "        file_name: str,\n",
    "        dir_path: str = '../out_data/'\n",
    "):\n",
    "    grains_per_day = 60 + 1 # 60 grains po danu + 1 za poslednju pauzu\n",
    "    start_hour = 7\n",
    "    dani = ['PON', 'UTO', 'SRE', 'CET', 'PET', 'SUB', 'NEDODELJENI']\n",
    "\n",
    "    # pravi ove normalne sheet-ove\n",
    "    # nova funkcija ce napraviti nedodeljeni sheet\n",
    "    with pd.ExcelWriter(dir_path + file_name + '.xlsx', engine='xlsxwriter') as writer:\n",
    "        for idx, dan in enumerate(dani):\n",
    "            if idx == 6:\n",
    "                columns, rows = write_nedodeljeni_edit_view(nedodeljeno_odrzavanje, grains_per_day, start_hour)\n",
    "            else:\n",
    "                columns, rows = create_day_edit(idx, grains_per_day, start_hour, prostorija_odrzavanje)\n",
    "            df = pd.DataFrame(rows, columns=columns)\n",
    "            df.to_excel(writer, sheet_name=dan, index=False)\n",
    "            # formatiranje celog dokumenta\n",
    "            worksheet, merge_ok_format, merge_warn_format, merge_danger_format = style_workbook(writer, dan)\n",
    "\n",
    "            for row_idx, row in enumerate(rows):\n",
    "                # print(row)\n",
    "                # print()\n",
    "                # za svaki red\n",
    "                current_meeting = ''\n",
    "                merge_start = 0\n",
    "                merge_end = 0\n",
    "                for col_idx, meeting in enumerate(row):\n",
    "                    # ignorisi prvu vrednost (ime prostorije)\n",
    "                    if col_idx == 0:\n",
    "                        continue\n",
    "                    # zapamti prvo pojavljivanje (ime i broj kolone -> B2)\n",
    "                    if current_meeting == '' and meeting != '':\n",
    "                        current_meeting = meeting\n",
    "                        merge_start = col_idx\n",
    "                        merge_end = merge_start\n",
    "                    \n",
    "                    # sve dok je isto, uvecavaj broj kolone (B2++)\n",
    "                    if current_meeting == meeting:\n",
    "                        merge_end = col_idx\n",
    "                    # naisao na novo\n",
    "                    else:\n",
    "                        # odradi merge\n",
    "                        style = style_cell(current_meeting, merge_ok_format, merge_warn_format, merge_danger_format)\n",
    "                        worksheet.merge_range(row_idx+1, merge_start, row_idx+1, merge_end, current_meeting, style)\n",
    "                        # resetuj vrednosti na novi\n",
    "                        current_meeting = meeting\n",
    "                        merge_start = col_idx\n",
    "                        merge_end = merge_start\n",
    "                # merge poslednjeg ako nije prazno\n",
    "                if current_meeting != '':\n",
    "                    style = style_cell(current_meeting, merge_ok_format, merge_warn_format, merge_danger_format)\n",
    "                    worksheet.merge_range(row_idx+1, merge_start, row_idx+1, merge_end, current_meeting, style)\n"
   ]
  },
  {
   "attachments": {},
   "cell_type": "markdown",
   "metadata": {},
   "source": [
    " #### Prikaz termina\n",
    " - 10_prikaz_termina.ipynb"
   ]
  },
  {
   "attachments": {},
   "cell_type": "markdown",
   "metadata": {},
   "source": [
    " #### Rad sa fajlovima\n",
    "\n",
    " - zapisivanje tekstualnog sadržaja u fajl\n",
    " - čitanje tekstualnog sadržaja iz fajla"
   ]
  },
  {
   "cell_type": "code",
   "execution_count": 38,
   "metadata": {},
   "outputs": [],
   "source": [
    "def write_to_file(\n",
    "        content: str,\n",
    "        file_name: str,\n",
    "        extension: str = 'html',\n",
    "        dir_path: str = '../out_data/'\n",
    ") -> None:\n",
    "    with open(dir_path + file_name + '.' + extension, 'w', encoding='utf-8') as out_file:\n",
    "        out_file.write(content)\n"
   ]
  },
  {
   "attachments": {},
   "cell_type": "markdown",
   "metadata": {},
   "source": [
    " #### Stilizovanje rasporeda\n",
    " - ```styles.css```"
   ]
  },
  {
   "attachments": {},
   "cell_type": "markdown",
   "metadata": {},
   "source": [
    " #### HTML to PDF"
   ]
  },
  {
   "cell_type": "code",
   "execution_count": 40,
   "metadata": {},
   "outputs": [],
   "source": [
    "import pdfkit\n",
    "from unidecode import unidecode"
   ]
  },
  {
   "cell_type": "code",
   "execution_count": 41,
   "metadata": {},
   "outputs": [],
   "source": [
    "def write_pdf_from_html(\n",
    "        file_name: str,\n",
    "        css_path: str,\n",
    "        dir_path: str = '../out_data/',\n",
    "        lib_path: str = r'C:\\Program Files\\wkhtmltopdf\\bin\\wkhtmltopdf.exe'\n",
    ") -> None:\n",
    "    file_path = dir_path + file_name + '.html'\n",
    "    out_path = dir_path + file_name + '.pdf'\n",
    "    config = pdfkit.configuration(wkhtmltopdf=lib_path)\n",
    "    options = {\n",
    "        \"enable-local-file-access\": \"\", \n",
    "        \"encoding\": \"UTF-8\",\n",
    "        \"page-size\": \"A4\", \n",
    "        \"title\": \"Raspored\",\n",
    "        \"margin-top\": \"10mm\", \n",
    "        \"margin-bottom\": \"10mm\",\n",
    "        \"margin-right\": \"10mm\",\n",
    "        \"margin-left\": \"10mm\"\n",
    "    }\n",
    "    pdfkit.from_file(file_path, options=options, css=css_path, output_path=out_path, configuration=config)\n"
   ]
  },
  {
   "attachments": {},
   "cell_type": "markdown",
   "metadata": {},
   "source": [
    " ### HTML raspored"
   ]
  },
  {
   "cell_type": "code",
   "execution_count": 42,
   "metadata": {},
   "outputs": [],
   "source": [
    "def dan_num_to_dan(\n",
    "        dan_num: int\n",
    ") -> str:\n",
    "    dani = {\n",
    "        0: \"ponedeljak\", \n",
    "        1: \"utorak\", \n",
    "        2: \"sreda\",\n",
    "        3: \"četvrtak\",\n",
    "        4: \"petak\",\n",
    "        5: \"subota\"\n",
    "    }\n",
    "    return dani[dan_num]\n"
   ]
  },
  {
   "cell_type": "code",
   "execution_count": 43,
   "metadata": {},
   "outputs": [],
   "source": [
    "def semestar_num_to_semestar(\n",
    "        semestar_num: int\n",
    ") -> str:\n",
    "    return str(semestar_num) + '. semestar'\n"
   ]
  },
  {
   "cell_type": "code",
   "execution_count": 44,
   "metadata": {},
   "outputs": [],
   "source": [
    "def oznaka_stepena_to_stepen_studija(\n",
    "        oznaka_stepena: str\n",
    ") -> str:\n",
    "    stepeni = {\n",
    "        \"oss\": \"osnovne strukovne studije\",\n",
    "        \"mss\": \"master strukovne studije\",\n",
    "        \"oas\": \"osnovne akademske studije\",\n",
    "        \"mas\": \"master akademske studije\"\n",
    "    }\n",
    "    return stepeni[oznaka_stepena]\n"
   ]
  },
  {
   "cell_type": "code",
   "execution_count": 45,
   "metadata": {},
   "outputs": [],
   "source": [
    "def vrsta_nastave_to_naziv_nastave(\n",
    "        vrsta_nastave: str\n",
    ") -> str:\n",
    "    vrste_nastave = {\n",
    "        \"PRED\": \"Pred.\",\n",
    "        \"AUD\": \"aud.vežbe\",\n",
    "        \"RAC\": \"rač.vežbe\",\n",
    "        \"LAB\": \"lab.vežbe\"\n",
    "    }\n",
    "    return vrste_nastave[vrsta_nastave]\n"
   ]
  },
  {
   "cell_type": "code",
   "execution_count": 46,
   "metadata": {},
   "outputs": [],
   "source": [
    "# Grupa-e\tOd\tDo\tUčionica\tVrsta nast.\tNaziv predmeta\tIzvođač\n",
    "def raspored_red_to_ispis(\n",
    "        red: RasporedRed\n",
    ") -> list[str]:\n",
    "    return [red.studGrupa, red.vremePocetka, red.vremeKraja, \\\n",
    "        red.prostorija, vrsta_nastave_to_naziv_nastave(red.vrstaNastave), \\\n",
    "        red.nazivPred, red.predavac]\n"
   ]
  },
  {
   "cell_type": "code",
   "execution_count": 47,
   "metadata": {},
   "outputs": [],
   "source": [
    "# Grupa-e\tOd\tDo\tOdsek\tSem.\tVrsta nast.\tNaziv Predmeta\tIzvođač\n",
    "def prostorija_red_to_ispis(\n",
    "        red: ProstorijaRed\n",
    ") -> list[str]:\n",
    "    return [red.studGrupa, red.vremePocetka, red.vremeKraja, \\\n",
    "        red.odsek, red.semestar, vrsta_nastave_to_naziv_nastave(red.vrstaNastave), \\\n",
    "        red.nazivPred, red.predavac]\n"
   ]
  },
  {
   "cell_type": "code",
   "execution_count": 48,
   "metadata": {},
   "outputs": [],
   "source": [
    "# Grupa-e\tOd\tDo\tUčionica\tOdsek\tSem.\tVrsta nast.\tNaziv Predmeta\n",
    "def predavac_red_to_ispis(\n",
    "        red: PredavacRed\n",
    ") -> list[str]:\n",
    "    return [red.studGrupa, red.vremePocetka, red.vremeKraja, \\\n",
    "        red.prostorija, red.odsek, red.semestar, \\\n",
    "        vrsta_nastave_to_naziv_nastave(red.vrstaNastave), red.nazivPred]\n"
   ]
  },
  {
   "cell_type": "code",
   "execution_count": 49,
   "metadata": {},
   "outputs": [],
   "source": [
    "def stud_program_header(\n",
    "        cols: int, \n",
    "        day: str\n",
    ") -> str:\n",
    "    # head\n",
    "    table = '  <thead>\\n'\n",
    "    # title\n",
    "    table += '    <tr><th colspan=\"' + str(cols) + '\" class=\"day\">' + day + '</th></tr>\\n'\n",
    "    # header\n",
    "    table += '    <tr><th>Grupa-e</th><th>Od</th><th>Do</th>' + \\\n",
    "            '<th>Učionica</th><th>Vrsta nast.</th>' + \\\n",
    "            '<th>Naziv predmeta</th><th>Izvođač</th></tr>\\n'\n",
    "    table += '  </thead>\\n'\n",
    "    return table\n"
   ]
  },
  {
   "cell_type": "code",
   "execution_count": 50,
   "metadata": {},
   "outputs": [],
   "source": [
    "def prostorija_header(\n",
    "        cols: int, \n",
    "        day: str\n",
    ") -> str:\n",
    "    # head\n",
    "    table = '  <thead>\\n'\n",
    "    # title\n",
    "    table += '    <tr><th colspan=\"' + str(cols) + '\" class=\"day\">' + day + '</th></tr>\\n'\n",
    "    # header\n",
    "    table += '    <tr><th>Grupa-e</th><th>Od</th><th>Do</th>' + \\\n",
    "            '<th>Odsek</th><th>Sem.</th><th>Vrsta nast.</th>' + \\\n",
    "            '<th>Naziv predmeta</th><th>Izvođač</th></tr>\\n'\n",
    "    table += '  </thead>\\n'\n",
    "    return table\n"
   ]
  },
  {
   "cell_type": "code",
   "execution_count": 51,
   "metadata": {},
   "outputs": [],
   "source": [
    "def predavac_header(\n",
    "        cols: int, \n",
    "        day: str\n",
    ") -> str:\n",
    "    # head\n",
    "    table = '  <thead>\\n'\n",
    "    # title\n",
    "    table += '    <tr><th colspan=\"' + str(cols) + '\" class=\"day\">' + day + '</th></tr>\\n'\n",
    "    # header\n",
    "    table += '    <tr><th>Grupa-e</th><th>Od</th><th>Do</th>' + \\\n",
    "            '<th>Učionica</th><th>Odsek</th><th>Sem.</th><th>Vrsta nast.</th>' + \\\n",
    "            '<th>Naziv predmeta</th></tr>\\n'\n",
    "    table += '  </thead>\\n'\n",
    "    return table\n"
   ]
  },
  {
   "cell_type": "code",
   "execution_count": 52,
   "metadata": {},
   "outputs": [],
   "source": [
    "def stud_program_colgroup() -> str:\n",
    "    # colgroup\n",
    "    table = '<colgroup>'\n",
    "    table += '<col class=\"eleven\" />'\n",
    "    table += '<col class=\"seven\" />'\n",
    "    table += '<col class=\"seven\" />'\n",
    "    table += '<col class=\"ten\" />'\n",
    "    table += '<col class=\"ten\" />'\n",
    "    table += '<col class=\"thirty\" />'\n",
    "    table += '<col class=\"twenty-five\" />'\n",
    "    table += '</colgroup>'\n",
    "    return table\n"
   ]
  },
  {
   "cell_type": "code",
   "execution_count": 53,
   "metadata": {},
   "outputs": [],
   "source": [
    "def prostorija_colgroup() -> str:\n",
    "    # colgroup\n",
    "    table = '<colgroup>'\n",
    "    table += '<col class=\"eleven\" />'\n",
    "    table += '<col class=\"seven\" />'\n",
    "    table += '<col class=\"seven\" />'\n",
    "    table += '<col class=\"fifteen\" />'\n",
    "    table += '<col class=\"five\" />'\n",
    "    table += '<col class=\"ten\" />'\n",
    "    table += '<col class=\"twenty-five\" />'\n",
    "    table += '<col class=\"twenty\" />'\n",
    "    table += '</colgroup>'\n",
    "    return table\n"
   ]
  },
  {
   "cell_type": "code",
   "execution_count": 54,
   "metadata": {},
   "outputs": [],
   "source": [
    "def predavac_colgroup() -> str:\n",
    "    # colgroup\n",
    "    table = '<colgroup>'\n",
    "    table += '<col class=\"eleven\" />'\n",
    "    table += '<col class=\"seven\" />'\n",
    "    table += '<col class=\"seven\" />'\n",
    "    table += '<col class=\"ten\" />'\n",
    "    table += '<col class=\"twenty\" />'\n",
    "    table += '<col class=\"five\" />'\n",
    "    table += '<col class=\"ten\" />'\n",
    "    table += '<col class=\"thirty\" />'\n",
    "    table += '</colgroup>'\n",
    "    return table\n"
   ]
  },
  {
   "cell_type": "code",
   "execution_count": 55,
   "metadata": {},
   "outputs": [],
   "source": [
    "def table_head(\n",
    "        day: int, \n",
    "        type: str\n",
    ") -> str:\n",
    "    if type == 'studProgram':\n",
    "        colgroup = stud_program_colgroup()\n",
    "        head = stud_program_header(7, day)\n",
    "    if type == 'prostorija':\n",
    "        colgroup = prostorija_colgroup()\n",
    "        head = prostorija_header(8, day)\n",
    "    if type == 'predavac':\n",
    "        colgroup = predavac_colgroup()\n",
    "        head = predavac_header(8, day)\n",
    "    return colgroup + head\n"
   ]
  },
  {
   "cell_type": "code",
   "execution_count": 56,
   "metadata": {},
   "outputs": [],
   "source": [
    "def html_table(\n",
    "        rows: list[str],\n",
    "        day: str,\n",
    "        type: str\n",
    ") -> str:\n",
    "    table = '<table>'\n",
    "    table += table_head(day, type)\n",
    "    # body\n",
    "    table += '  <tbody>\\n'\n",
    "    for row in rows:\n",
    "        table += '    <tr><td>'\n",
    "        table += '</td><td>'.join(row)\n",
    "        table += '</td></tr>\\n'\n",
    "    table += '  </tbody>\\n'\n",
    "    table += '</table>\\n'\n",
    "    return table\n"
   ]
  },
  {
   "cell_type": "code",
   "execution_count": 57,
   "metadata": {},
   "outputs": [],
   "source": [
    "def html_head() -> str:\n",
    "    html = '<html>'\n",
    "    # head\n",
    "    html += '<head>'\n",
    "    # utf-8\n",
    "    html += '<meta http-equiv=\"Content-type\" content=\"text/html; charset=utf-8\" />'\n",
    "    # stylesheet\n",
    "    html += '<link rel=\"stylesheet\" href=\"styles.css\">'\n",
    "    html += '</head>'\n",
    "    return html\n"
   ]
  },
  {
   "cell_type": "code",
   "execution_count": 58,
   "metadata": {},
   "outputs": [],
   "source": [
    "def stud_program_tables(\n",
    "        raspored: StudProgramiRaspored\n",
    ") -> str:\n",
    "    stud_program_tables = {}\n",
    "    for stud_program_id, stud_program in raspored.studProgrami.items():\n",
    "        html = ''\n",
    "        stud_program_naziv = stud_program.studProgramNaziv\n",
    "        stepen_studija = stud_program.studProgramStepenStudija\n",
    "        html += '<h1>Raspored predavanja - ' + oznaka_stepena_to_stepen_studija(stepen_studija)\n",
    "        html += '<h1>' + stud_program_naziv + '</h1>'\n",
    "        for semestar in stud_program.semestri.values():\n",
    "            semestar_num = semestar.semestarNum\n",
    "            semestar_html = ''\n",
    "            for dan in semestar.dani.values():\n",
    "                dani_html = ''\n",
    "                if len(dan.redovi) != 0:\n",
    "                    rows_list = [raspored_red_to_ispis(dan) for dan in dan.redovi]\n",
    "                    dani_html += html_table(rows_list, dan_num_to_dan(dan.danNum), 'studProgram')\n",
    "                    dani_html += '<br/>'\n",
    "                semestar_html += dani_html\n",
    "            if semestar_html:\n",
    "                semestar_html = '<div class=\"page\">' + semestar_html\n",
    "                semestar_html = '<h2 class=\"right\">' + semestar_num_to_semestar(semestar_num) + '</h2>' + semestar_html\n",
    "                semestar_html += '</div>'\n",
    "                semestar_html += '<br/>'\n",
    "            html += semestar_html\n",
    "        html += '<br/>'\n",
    "        stud_program_tables[stud_program_id] = html\n",
    "    return stud_program_tables\n"
   ]
  },
  {
   "cell_type": "code",
   "execution_count": 59,
   "metadata": {},
   "outputs": [],
   "source": [
    "def prostorija_table(\n",
    "        raspored: ProstorijaRaspored\n",
    ") -> str:\n",
    "    html = html_head()\n",
    "    prostorija_oznaka = raspored.prostorijaOznaka\n",
    "    html += '<h1>Zauzeće prostorije - ' + str(prostorija_oznaka) + '</h1>'\n",
    "    for dan in raspored.dani.values():\n",
    "        dani_html = ''\n",
    "        if len(dan.redovi) != 0:\n",
    "            rows_list = [prostorija_red_to_ispis(dan) for dan in dan.redovi]\n",
    "            dani_html += html_table(rows_list, dan_num_to_dan(dan.danNum), 'prostorija')\n",
    "            dani_html += '<br/>'\n",
    "        html += dani_html\n",
    "    html += '</body></html>'\n",
    "    return html\n"
   ]
  },
  {
   "cell_type": "code",
   "execution_count": 60,
   "metadata": {},
   "outputs": [],
   "source": [
    "def predavac_table(\n",
    "        raspored: PredavacRaspored\n",
    ") -> str:\n",
    "    html = html_head()\n",
    "    predavac_ime = raspored.predavacIme\n",
    "    html += '<h1>Raspored predavača - ' + predavac_ime + '</h1>'\n",
    "    for dan in raspored.dani.values():\n",
    "        dani_html = ''\n",
    "        if len(dan.redovi) != 0:\n",
    "            rowsList = [predavac_red_to_ispis(dan) for dan in dan.redovi]\n",
    "            dani_html += html_table(rowsList, dan_num_to_dan(dan.danNum), 'predavac')\n",
    "            dani_html += '<br/>'\n",
    "        html += dani_html\n",
    "    html += '</body></html>'\n",
    "    return html\n"
   ]
  },
  {
   "attachments": {},
   "cell_type": "markdown",
   "metadata": {},
   "source": [
    " ### Mapiranje rasporeda studijskih programa"
   ]
  },
  {
   "cell_type": "code",
   "execution_count": 61,
   "metadata": {},
   "outputs": [],
   "source": [
    "def html_generator(\n",
    "        stud_program_ids: list[str],\n",
    "        raspored: StudProgramiRaspored\n",
    ") -> str:\n",
    "    html = html_head()\n",
    "    # body\n",
    "    html += '<body>'\n",
    "    # studProgramId: htmlTabele\n",
    "    stud_program_tables_map = stud_program_tables(raspored)\n",
    "    # [studProgamId1, studProgramId2]\n",
    "    for stud_program_id in stud_program_ids:\n",
    "        # nadji u mapi po id-u i konkateniraj\n",
    "        if stud_program_id in stud_program_tables_map.keys():\n",
    "            html += stud_program_tables_map.get(stud_program_id)\n",
    "    html += '</body></html>'\n",
    "    return html\n"
   ]
  },
  {
   "cell_type": "code",
   "execution_count": 91,
   "metadata": {},
   "outputs": [],
   "source": [
    "def generate_all_rasporedi(\n",
    "        raspored: StudProgramiRaspored,\n",
    "        raspored_combinations: list[RasporedPrikaz],\n",
    "        dir_path: str = '../out_data/rasporedi/studenti/',\n",
    "        css: str = 'styles.css'\n",
    ") -> None:\n",
    "    css_file = dir_path + css\n",
    "\n",
    "    for combination in raspored_combinations:\n",
    "        html = html_generator(combination.studProgrami, raspored)\n",
    "        file_name = unidecode(combination.nazivRasporeda)\n",
    "        html_file = 'html'\n",
    "        write_to_file(html, file_name, html_file, dir_path)\n",
    "        write_pdf_from_html(file_name, css_file, dir_path)\n",
    "        print(combination.nazivRasporeda + ' DONE')\n"
   ]
  },
  {
   "attachments": {},
   "cell_type": "markdown",
   "metadata": {},
   "source": [
    " ### Mapiranje svih prostorija rasporeda"
   ]
  },
  {
   "cell_type": "code",
   "execution_count": 92,
   "metadata": {},
   "outputs": [],
   "source": [
    "def generate_all_prostorija_rasporedi(\n",
    "        raspored: ProstorijeRaspored,\n",
    "        dir_path: str = '../out_data/rasporedi/prostorije',\n",
    "        css: str = 'styles.css'\n",
    "):\n",
    "    css_file = dir_path + css\n",
    "\n",
    "    for prostorija in raspored.prostorije.values():\n",
    "        oznaka = str(prostorija.prostorijaOznaka)\n",
    "        oznaka_clean = oznaka.replace('.', ' ').replace('/', ' ')\n",
    "        file_name = unidecode(oznaka_clean)\n",
    "        html = prostorija_table(prostorija)\n",
    "        html_file = 'html'\n",
    "        write_to_file(html, file_name, html_file, dir_path)\n",
    "        write_pdf_from_html(file_name, css_file, dir_path)\n",
    "        print(oznaka + ' DONE')\n",
    "    \n"
   ]
  },
  {
   "attachments": {},
   "cell_type": "markdown",
   "metadata": {},
   "source": [
    " ### Mapiranje svih predavac rasporeda"
   ]
  },
  {
   "cell_type": "code",
   "execution_count": 93,
   "metadata": {},
   "outputs": [],
   "source": [
    "def generate_all_predavac_rasporedi(\n",
    "        raspored: PredavaciRaspored,\n",
    "        dir_path: str = '../out_data/rasporedi/predavaci',\n",
    "        css: str = 'styles.css'\n",
    "):\n",
    "    css_file = dir_path + css\n",
    "\n",
    "    for predavac in raspored.predavaci.values():\n",
    "        ime = predavac.predavacIme\n",
    "        file_name = unidecode(ime)\n",
    "        html = predavac_table(predavac)\n",
    "        html_file = 'html'\n",
    "        write_to_file(html, file_name, html_file, dir_path)\n",
    "        write_pdf_from_html(file_name, css_file, dir_path)\n",
    "        print(ime + ' DONE')\n",
    "\n"
   ]
  },
  {
   "attachments": {},
   "cell_type": "markdown",
   "metadata": {},
   "source": [
    " ### Primer izvršavanja\n",
    " - potrebno je ucitati celokupan MeetingSchedule (koji sadrzi liste entiteta)\n",
    "   - od listi entiteta su potrebne:\n",
    "       - studProgramList\n",
    "       - prostorijaList\n",
    "       - predavacList\n",
    "   - pored toga, potrebna informacija o semestru -> 'Z' ili 'L'\n",
    " (ako je jednostavnije, moze se izmeniti metoda tako da prima direktno liste i oznaku semestra -> da se ne bi kreirao ceo MeetingSchedule objekat)\n",
    " - potrebno je proslediti listu MeetingAssignment objekata koja se dobija od optimizatora\n",
    "   - mapiranje je pravljeno po izlazu iz optimizatora\n",
    " - BITNO I NOVO: potrebno je proslediti listu RasporedPrikaz objekata\n",
    "   - ovi objekti sadrze id-eve studijskih programa koji treba da budu u okviru istog rasporeda\n",
    "   - mogu se samo cuvati u bazi, mozemo racunati da se ne menjaju (nema potrebe za podrskom kroz UI)\n",
    " Kako bi se pokrenuo kod, neophodno je instalirati potrebne Python zavisnosti\n",
    "   - requirements.txt fajl\n",
    "   - zgodno kreirati virtuelno okruzenje i u okviru njega ih instalirati\n",
    " Potrebno je postaviti styles.css fajl u svim folderima u kojima ce biti zapisani fajlovi\n",
    "   - skripta ne vraca nista, samo kreira fajlove\n",
    " Za kreiranje PDF fajlova je potreban dodatni softver\n",
    "   - za rad lokalnog testiranja, mogu se samo zakomentarisati linije koje kreiraju PDF fajlove"
   ]
  },
  {
   "cell_type": "code",
   "execution_count": 90,
   "metadata": {},
   "outputs": [],
   "source": [
    "def generate_all(\n",
    "        schedule: MeetingSchedule,\n",
    "        meeting_assignments: list[MeetingAssignmentJoined],\n",
    "        raspored_combinations: list[RasporedPrikaz],\n",
    "        out_dir_path: str,\n",
    "        grains_per_day: int = 60,\n",
    "        start_hour: int = 7,\n",
    "        day_num: int = 6\n",
    "):\n",
    "    unassigned_file_name = 'nedodeljeni_termini'\n",
    "    # RASPORED\n",
    "    raspored = meeting_assignments_to_stud_programi_raspored(schedule.semestar, schedule.studProgramList, meeting_assignments, grains_per_day, start_hour, unassigned_file_name, out_dir_path)\n",
    "    generate_all_rasporedi(raspored, raspored_combinations, out_dir_path + 'studenti/')\n",
    "    # RASPORED ZA PROSTORIJE\n",
    "    prostorije_raspored = meeting_assignments_to_prostorije_raspored(schedule.semestar, schedule.prostorijaList, meeting_assignments, grains_per_day, start_hour, unassigned_file_name, out_dir_path)\n",
    "    generate_all_prostorija_rasporedi(prostorije_raspored, out_dir_path + 'prostorije/')\n",
    "    # RASPORED ZA PREDAVACE\n",
    "    predavaci_raspored = meeting_assignments_to_predavaci_raspored(schedule.semestar, schedule.predavacList, meeting_assignments, grains_per_day, start_hour, unassigned_file_name, out_dir_path)\n",
    "    generate_all_predavac_rasporedi(predavaci_raspored, out_dir_path + 'predavaci/')\n",
    "\n",
    "\n",
    "    # EDIT PRIKAZ\n",
    "    grains_per_day_edit = grains_per_day + 1\n",
    "    prostorija_odrzavanje = meeting_assignments_to_edit_view(meeting_assignments, day_num, grains_per_day_edit)\n",
    "    nedodeljeno_odrzavanje = unassigned_meeting_assignments_to_edit_view(meeting_assignments)\n",
    "    file_name = 'edit_raspored_prikaz'\n",
    "    write_edit_view(prostorija_odrzavanje, nedodeljeno_odrzavanje, file_name, out_dir_path)\n"
   ]
  },
  {
   "cell_type": "code",
   "execution_count": 92,
   "metadata": {},
   "outputs": [],
   "source": [
    "schedule = MeetingSchedule.read_entity_from_file('4_svi_fajlovi_spojeni')\n",
    "meeting_assignments = MeetingAssignmentJoined.read_list_from_file('8_optimized_oas')\n",
    "raspored_combinations = RasporedPrikaz.read_list_from_file('2_rasporedi_spajanje_plan')\n",
    "\n",
    "# meeting_assignments = MeetingAssignmentJoined.read_list_from_file('for_formatting/ma_oas')"
   ]
  },
  {
   "cell_type": "code",
   "execution_count": 86,
   "metadata": {},
   "outputs": [
    {
     "name": "stdout",
     "output_type": "stream",
     "text": [
      "=== FINISHED ===\n"
     ]
    }
   ],
   "source": [
    "generate_all(schedule, meeting_assignments, raspored_combinations, '../out_data/rasporedi/')\n",
    "\n",
    "# generate_all(None, meeting_assignments, None, '../out_data/rasporedi/')\n",
    "print('=== FINISHED ===')"
   ]
  },
  {
   "cell_type": "code",
   "execution_count": null,
   "metadata": {},
   "outputs": [],
   "source": []
  }
 ],
 "metadata": {
  "kernelspec": {
   "display_name": "venv",
   "language": "python",
   "name": "python3"
  },
  "language_info": {
   "codemirror_mode": {
    "name": "ipython",
    "version": 3
   },
   "file_extension": ".py",
   "mimetype": "text/x-python",
   "name": "python",
   "nbconvert_exporter": "python",
   "pygments_lexer": "ipython3",
   "version": "3.11.2"
  },
  "orig_nbformat": 4
 },
 "nbformat": 4,
 "nbformat_minor": 2
}
