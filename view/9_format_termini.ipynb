{
 "cells": [
  {
   "attachments": {},
   "cell_type": "markdown",
   "metadata": {},
   "source": [
    "### Formatiranje termina u model za prikazivanje"
   ]
  },
  {
   "attachments": {},
   "cell_type": "markdown",
   "metadata": {},
   "source": [
    "#### Metode za mapiranje"
   ]
  },
  {
   "cell_type": "code",
   "execution_count": 1,
   "metadata": {},
   "outputs": [],
   "source": [
    "from model_parser import ReadWrite, MeetingSchedule\n",
    "from model_joined import *\n",
    "from model_prikaz import *\n",
    "from parser_utils import *"
   ]
  },
  {
   "cell_type": "code",
   "execution_count": 2,
   "metadata": {},
   "outputs": [],
   "source": [
    "from collections import defaultdict"
   ]
  },
  {
   "cell_type": "code",
   "execution_count": 3,
   "metadata": {},
   "outputs": [],
   "source": [
    "import numpy as np\n",
    "import pandas as pd"
   ]
  },
  {
   "cell_type": "code",
   "execution_count": 4,
   "metadata": {},
   "outputs": [],
   "source": [
    "def time_grain_index_to_time(\n",
    "        grain_index: int,\n",
    "        grains_per_day: int, \n",
    "        start_hour: int\n",
    ") -> str:\n",
    "    while grain_index > grains_per_day:\n",
    "        grain_index -= (grains_per_day + 1)\n",
    "    start_time = start_hour * 60\n",
    "    time = start_time + grain_index * 15\n",
    "    hour = time // 60\n",
    "    minute = time % 60\n",
    "    return f'{hour:02d}:{minute:02d}'"
   ]
  },
  {
   "cell_type": "code",
   "execution_count": 5,
   "metadata": {},
   "outputs": [],
   "source": [
    "def minute_to_time(\n",
    "        minutes: int\n",
    ") -> str:\n",
    "    hour = minutes // 60\n",
    "    minute = minutes % 60\n",
    "    return f'{hour:02d}:{minute:02d}'"
   ]
  },
  {
   "cell_type": "code",
   "execution_count": 6,
   "metadata": {},
   "outputs": [],
   "source": [
    "def predavac_to_ispis(\n",
    "        predavac: Predavac\n",
    ") -> str:\n",
    "    if predavac.titula:\n",
    "        return f'{predavac.prezime} {predavac.titula} {predavac.ime}'\n",
    "    return f'{predavac.prezime} {predavac.ime}'"
   ]
  },
  {
   "cell_type": "code",
   "execution_count": 7,
   "metadata": {},
   "outputs": [],
   "source": [
    "def predavac_to_oznaka(\n",
    "        predavac: Predavac\n",
    ") -> str:\n",
    "    return str(predavac.oznaka)"
   ]
  },
  {
   "cell_type": "code",
   "execution_count": 8,
   "metadata": {},
   "outputs": [],
   "source": [
    "def stud_grupe_to_ispis(\n",
    "        stud_grupe: list[StudentskaGrupa],\n",
    "        bi_weekly: bool,\n",
    "        tip_nastave: str\n",
    ") -> str:\n",
    "    # TODO: preuzmi sve grupe za taj studijski program i tu godinu\n",
    "    # ako su iste duzine, vrati 'SVI', inace vrati spojen ispis grupa\n",
    "    # bitno da li je svake druge nedelje\n",
    "    # za sada vraca sve ako je predavanje jer nemamo izborne predmete\n",
    "    if tip_nastave == 'PRED':\n",
    "        return 'SVI'\n",
    "    oznake = [grupa.oznaka for grupa in stud_grupe]\n",
    "    if bi_weekly:\n",
    "        first_week = oznake[:len(oznake)//2]\n",
    "        second_week = oznake[len(oznake)//2:]\n",
    "        first_week = ', '.join(first_week)\n",
    "        second_week = ', '.join(second_week)\n",
    "        return f'{first_week}({second_week})'\n",
    "    else:\n",
    "        return ', '.join(oznake)"
   ]
  },
  {
   "cell_type": "code",
   "execution_count": 9,
   "metadata": {},
   "outputs": [],
   "source": [
    "def meeting_assignment_to_dan(\n",
    "        ma: MeetingAssignmentJoined\n",
    ") -> str:\n",
    "    return ma.startingTimeGrain.dan.danUNedelji"
   ]
  },
  {
   "cell_type": "code",
   "execution_count": 10,
   "metadata": {},
   "outputs": [],
   "source": [
    "def meeting_assignment_to_prostorija_id(\n",
    "        ma: MeetingAssignmentJoined\n",
    ") -> str:\n",
    "    return ma.prostorija.id"
   ]
  },
  {
   "cell_type": "code",
   "execution_count": 11,
   "metadata": {},
   "outputs": [],
   "source": [
    "def meeting_assignment_to_prostorija_zauzece(\n",
    "        ma: MeetingAssignmentJoined\n",
    ") -> ProstorijaZauzece:\n",
    "    prostorija_oznaka = ma.prostorija.oznaka\n",
    "    first_time_grain = ma.startingTimeGrain.grainIndex\n",
    "    duration_in_grains = ma.meeting.durationInGrains\n",
    "    last_time_grain = first_time_grain + duration_in_grains\n",
    "    return ProstorijaZauzece(prostorija_oznaka, first_time_grain, last_time_grain)"
   ]
  },
  {
   "cell_type": "code",
   "execution_count": 12,
   "metadata": {},
   "outputs": [],
   "source": [
    "def meeting_assignment_to_stud_grupe(\n",
    "        ma: MeetingAssignmentJoined\n",
    ") -> list[tuple[str, int]]:\n",
    "    # lista tuplova => [(studProgramId, godina)]\n",
    "    stud_program_godine = []\n",
    "    stud_grupe = ma.meeting.studentskeGrupe\n",
    "    stud_program_ids = set()\n",
    "    for grupa in stud_grupe:\n",
    "        stud_program_id = grupa.studijskiProgram.id\n",
    "        godina = grupa.godina\n",
    "        # samo jednom dodajemo informacije o studijskom programu i godini\n",
    "        if stud_program_id in stud_program_ids:\n",
    "            continue\n",
    "        stud_program_ids.add(stud_program_id)\n",
    "        stud_program_godine.append((stud_program_id, godina))\n",
    "    return stud_program_godine"
   ]
  },
  {
   "cell_type": "code",
   "execution_count": 13,
   "metadata": {},
   "outputs": [],
   "source": [
    "def meeting_assignment_to_predavaci_ids(\n",
    "        ma: MeetingAssignmentJoined\n",
    ") -> list[str]:\n",
    "    predavac_id = ma.meeting.predavac.id\n",
    "    ostali_predavaci = ma.meeting.ostaliPredavaci\n",
    "    predavaci_ids = [pred.id for pred in ostali_predavaci]\n",
    "    predavaci_ids.append(predavac_id)\n",
    "    return predavaci_ids"
   ]
  },
  {
   "cell_type": "code",
   "execution_count": 14,
   "metadata": {},
   "outputs": [],
   "source": [
    "def meeting_assignment_to_red(\n",
    "        ma: MeetingAssignmentJoined,\n",
    "        grains_per_day: int,\n",
    "        start_hour: int\n",
    ") -> Red:\n",
    "    start_time_grain = ma.startingTimeGrain\n",
    "    # ako optimizator nije uspeo da dodeli vreme\n",
    "    if start_time_grain is None:\n",
    "        return None\n",
    "    start_time_grain = start_time_grain.grainIndex\n",
    "    duration_in_grains = ma.meeting.durationInGrains\n",
    "    end_time_grain = start_time_grain + duration_in_grains - 1\n",
    "    tip_nastave = ma.meeting.meetingTip\n",
    "    predmet_naziv = ma.meeting.predmet.naziv\n",
    "\n",
    "    stud_grupa = stud_grupe_to_ispis(ma.meeting.studentskeGrupe, ma.meeting.biWeekly, tip_nastave)\n",
    "    vreme_pocetka = time_grain_index_to_time(start_time_grain, grains_per_day, start_hour)\n",
    "    vreme_kraja = time_grain_index_to_time(end_time_grain, grains_per_day, start_hour)\n",
    "    \n",
    "    return Red(stud_grupa, vreme_pocetka, vreme_kraja, tip_nastave, predmet_naziv)"
   ]
  },
  {
   "cell_type": "code",
   "execution_count": 15,
   "metadata": {},
   "outputs": [],
   "source": [
    "def meeting_assignment_to_prostorija_red(\n",
    "        ma: MeetingAssignmentJoined,\n",
    "        grains_per_day: int,\n",
    "        start_hour: int\n",
    ") -> ProstorijaRed:\n",
    "    red = meeting_assignment_to_red(ma, grains_per_day, start_hour)\n",
    "    if red is None:\n",
    "        return None\n",
    "    \n",
    "    stud_grupe = ma.meeting.studentskeGrupe\n",
    "    # moze za vezbe, za predavanja imamo spojene stud programe - ALI TO NIKOME NIJE BITNO\n",
    "    odsek = stud_grupe[0].studijskiProgram.naziv\n",
    "    godina = stud_grupe[0].godina\n",
    "    semestar_oznaka = stud_grupe[0].semestar\n",
    "    semestar = arabic_to_roman(godina * 2 - 1 if semestar_oznaka == 'Z' else godina * 2)\n",
    "    predavac = predavac_to_ispis(ma.meeting.predavac)\n",
    "    ostali_predavaci = [predavac_to_ispis(predavac) for predavac in ma.meeting.ostaliPredavaci]\n",
    "    if len(ostali_predavaci):\n",
    "        predavaci = f'{predavac}, ' + ', '.join(ostali_predavaci)\n",
    "    else:\n",
    "        predavaci = predavac\n",
    "    \n",
    "    red.odsek = odsek\n",
    "    red.semestar = semestar\n",
    "    red.predavac = predavaci\n",
    "    return ProstorijaRed(**vars(red))"
   ]
  },
  {
   "cell_type": "code",
   "execution_count": 16,
   "metadata": {},
   "outputs": [],
   "source": [
    "def meeting_assignment_to_predavac_red(\n",
    "        ma: MeetingAssignmentJoined,\n",
    "        grains_per_day: int,\n",
    "        start_hour: int\n",
    ") -> PredavacRed:\n",
    "    red = meeting_assignment_to_red(ma, grains_per_day, start_hour)\n",
    "    if red is None:\n",
    "        return None\n",
    "\n",
    "    prostorija = ma.prostorija.oznaka\n",
    "    stud_grupe = ma.meeting.studentskeGrupe\n",
    "    # moze za vezbe, za predavanja imamo spojene stud programe - ALI TO NIKOME NIJE BITNO\n",
    "    odsek = stud_grupe[0].studijskiProgram.naziv\n",
    "    godina = stud_grupe[0].godina\n",
    "    semestar_oznaka = stud_grupe[0].semestar\n",
    "    semestar = arabic_to_roman(godina * 2 - 1 if semestar_oznaka == 'Z' else godina * 2)\n",
    "    \n",
    "    red.prostorija = prostorija\n",
    "    red.odsek = odsek\n",
    "    red.semestar = semestar\n",
    "    return PredavacRed(**vars(red))"
   ]
  },
  {
   "cell_type": "code",
   "execution_count": 17,
   "metadata": {},
   "outputs": [],
   "source": [
    "def meeting_assignment_to_raspored_red(\n",
    "        ma: MeetingAssignmentJoined,\n",
    "        grains_per_day: int,\n",
    "        start_hour: int\n",
    ") -> RasporedRed:\n",
    "    red = meeting_assignment_to_red(ma, grains_per_day, start_hour)\n",
    "    if red is None:\n",
    "        return None\n",
    "\n",
    "    prostorija = ma.prostorija.oznaka\n",
    "    predavac = predavac_to_ispis(ma.meeting.predavac)\n",
    "    ostali_predavaci = [predavac_to_ispis(predavac) for predavac in ma.meeting.ostaliPredavaci]\n",
    "    if len(ostali_predavaci):\n",
    "        predavaci = f'{predavac}, ' + ', '.join(ostali_predavaci)\n",
    "    else:\n",
    "        predavaci = predavac\n",
    "    \n",
    "    red.prostorija = prostorija\n",
    "    red.predavac = predavaci\n",
    "    return RasporedRed(**vars(red))"
   ]
  },
  {
   "cell_type": "code",
   "execution_count": 18,
   "metadata": {},
   "outputs": [],
   "source": [
    "def meeting_assignment_to_edit_prikaz(\n",
    "        ma: MeetingAssignmentJoined\n",
    ") -> EditPrikaz:\n",
    "    meeting_id = ma.id\n",
    "\n",
    "    prostorija_kapacitet = ma.prostorija.kapacitet\n",
    "    potreban_kapacitet = ma.meeting.requiredCapacity\n",
    "    prekoracen_kapacitet = 0\n",
    "    if potreban_kapacitet > prostorija_kapacitet:\n",
    "        prekoracen_kapacitet = potreban_kapacitet - prostorija_kapacitet\n",
    "    \n",
    "    nastava_tip = ma.meeting.meetingTip\n",
    "    \n",
    "    predmet = ma.meeting.predmet\n",
    "    predmet_prikaz = PredmetPrikaz(predmet.id, predmet.oznaka, predmet.plan, predmet.naziv)\n",
    "    \n",
    "    predavac_fullname = predavac_to_ispis(ma.meeting.predavac)\n",
    "    predavac_prikaz = PredavacPrikaz(ma.meeting.predavac.id, predavac_fullname)\n",
    "\n",
    "    stud_grupe = ma.meeting.studentskeGrupe\n",
    "    stud_programi = set()\n",
    "    stud_grupe_list = []\n",
    "    for grupa in stud_grupe:\n",
    "        stud_program = grupa.studijskiProgram\n",
    "        stud_programi.add(StudProgram(stud_program.oznaka, stud_program.stepen, stud_program.nivo, grupa.godina))\n",
    "        stud_grupe_list.append(StudGrupa(grupa.id, grupa.oznaka))\n",
    "    \n",
    "    return EditPrikaz(meeting_id, nastava_tip, predmet_prikaz, predavac_prikaz, list(stud_programi), \n",
    "                        stud_grupe_list, potreban_kapacitet, prekoracen_kapacitet)"
   ]
  },
  {
   "attachments": {},
   "cell_type": "markdown",
   "metadata": {},
   "source": [
    "### Kreiranje **Raspored prikaza**\n",
    "\n",
    "- transformacija ```MeetingAssignment``` u ```StudProgramiRaspored```"
   ]
  },
  {
   "cell_type": "code",
   "execution_count": 19,
   "metadata": {},
   "outputs": [],
   "source": [
    "def stepen_nivo_to_stud_program_stepen_studija(\n",
    "        stepen: int, \n",
    "        nivo: int\n",
    ") -> str:\n",
    "    if stepen == 1 and nivo == 1:\n",
    "        stepen_studija = \"oas\"\n",
    "    if stepen == 1 and nivo == 2:\n",
    "        stepen_studija = \"oss\"\n",
    "    if stepen == 2 and nivo == 1:\n",
    "        stepen_studija = \"mas\"\n",
    "    if stepen == 2 and nivo == 5:\n",
    "        stepen_studija = \"mss\"\n",
    "    return stepen_studija"
   ]
  },
  {
   "cell_type": "code",
   "execution_count": 20,
   "metadata": {},
   "outputs": [],
   "source": [
    "# u slucaju novih 2-godisnjih master stud programa, dodati ga u listu\n",
    "# TODO: (izmena da informacija o tome da li je stud program cuva u samom programu)\n",
    "def is_dvogodisnji_master(\n",
    "        oznaka: str\n",
    ") -> bool:\n",
    "    return oznaka in [\"AI1\", \"AI2\", \"AI3\", \"AI4\", \"AI5\", \"AI6\", \"AI7\", \"AI8\"]"
   ]
  },
  {
   "cell_type": "code",
   "execution_count": 21,
   "metadata": {},
   "outputs": [],
   "source": [
    "def create_dani_dict():\n",
    "    dani = {}\n",
    "    for i in range(0, 6):\n",
    "        dani[i] = RasporedDan(i, [])\n",
    "    return dani"
   ]
  },
  {
   "cell_type": "code",
   "execution_count": 22,
   "metadata": {},
   "outputs": [],
   "source": [
    "def create_semestar(\n",
    "        semestar_num: int,\n",
    "        start_semestar: int\n",
    ") -> Semestar:\n",
    "    semestar = Semestar(start_semestar + (semestar_num - 1) *2, dict())\n",
    "    semestar.dani = create_dani_dict()\n",
    "    return semestar"
   ]
  },
  {
   "cell_type": "code",
   "execution_count": 23,
   "metadata": {},
   "outputs": [],
   "source": [
    "def create_semestri(\n",
    "        stud_program_raspored: StudProgramRaspored, \n",
    "        oznaka: str, \n",
    "        stepen: int, \n",
    "        nivo: int, \n",
    "        start_semestar: int\n",
    ") -> StudProgramRaspored:\n",
    "    # oas i oss\n",
    "    if stepen == 1:\n",
    "        # 4 semestra za oas, 3 za oss\n",
    "        for i in range(1, 5):\n",
    "            semestar = create_semestar(i, start_semestar)\n",
    "            # semestri[godina] = semestar\n",
    "            stud_program_raspored.semestri[i] = semestar\n",
    "            if nivo == 2 and i == 3:\n",
    "                break\n",
    "    # mas i mss\n",
    "    if stepen == 2:\n",
    "        # 1 semestar za jednogodisnje, 2 za dvogodisnje\n",
    "        for i in range(1, 3):\n",
    "            semestar = create_semestar(i, start_semestar)\n",
    "            # semestri[4+godina] = semestar jer su studentske grupe na masteru 5. i 6. godina\n",
    "            stud_program_raspored.semestri[4+i] = semestar\n",
    "            if nivo == 1 and i == 1 and not is_dvogodisnji_master(oznaka):\n",
    "                break\n",
    "    return stud_program_raspored"
   ]
  },
  {
   "cell_type": "code",
   "execution_count": 24,
   "metadata": {},
   "outputs": [],
   "source": [
    "def meeting_assignments_to_stud_programi_raspored(\n",
    "        semestar_oznaka: str, \n",
    "        stud_programi: list[StudijskiProgram], \n",
    "        meeting_assignments: list[MeetingAssignmentJoined],\n",
    "        grains_per_day: int, \n",
    "        start_hour: int, \n",
    "        unassigned_file_path: str,\n",
    "        dir_path: str = '../out_data/'\n",
    ") -> StudProgramiRaspored:\n",
    "    start_semestar = 1 if semestar_oznaka == \"Z\" else 2\n",
    "\n",
    "    # kreiranje strukture\n",
    "    raspored = StudProgramiRaspored(semestar_oznaka, dict())\n",
    "    for stud_program in stud_programi:\n",
    "        stepen_studija = stepen_nivo_to_stud_program_stepen_studija(stud_program.stepen, stud_program.nivo)\n",
    "        # kreiranje rasporeda za studijski program\n",
    "        stud_program_raspored = StudProgramRaspored(stud_program.naziv, stepen_studija, dict())\n",
    "        # dodavanje rasporeda za studijski program u sve rasporede\n",
    "        raspored.studProgrami[stud_program.id] = stud_program_raspored\n",
    "        # kreiranje semestara za studijski program\n",
    "        stud_program_raspored = create_semestri(stud_program_raspored, stud_program.oznaka, stud_program.stepen, stud_program.nivo, start_semestar)\n",
    "        \n",
    "    # dodavanje MeetingAssignment-a u dane\n",
    "    ma_unassigned = []\n",
    "    for ma in meeting_assignments:\n",
    "        raspored_red = meeting_assignment_to_raspored_red(ma, grains_per_day, start_hour)\n",
    "        if raspored_red is None:\n",
    "            ma_unassigned.append(ma)\n",
    "            continue\n",
    "        # neophodno naci u koje sve studijske programe treba dodati red\n",
    "        # (posto studentske grupe mogu biti iz vise studijskih programa)\n",
    "        dan_num = meeting_assignment_to_dan(ma)\n",
    "        stud_program_godine = meeting_assignment_to_stud_grupe(ma)\n",
    "        # programGodina => (studProgramId, godina)\n",
    "        for program_godina in stud_program_godine:\n",
    "            # dodavanje redova\n",
    "            stud_program_id = program_godina[0]\n",
    "            godina = program_godina[1]\n",
    "            stud_program_raspored = raspored.studProgrami[stud_program_id]\n",
    "            semestar = stud_program_raspored.semestri[godina]\n",
    "            semestar.dani[dan_num].redovi.append(raspored_red)\n",
    "    \n",
    "    # sortiranje po vremenu (9:00-20:00)\n",
    "    for stud_program_raspored in raspored.studProgrami.values():\n",
    "        for semestar in stud_program_raspored.semestri.values():\n",
    "            for dan in semestar.dani.values():\n",
    "                dan.redovi.sort(key=lambda red: red.vremePocetka)\n",
    "    \n",
    "    # zapisivanje nedodeljenih ma za rucnu dodelu\n",
    "    ReadWrite.write_to_file(ma_unassigned, unassigned_file_path, dir_path)\n",
    "\n",
    "    return raspored"
   ]
  },
  {
   "attachments": {},
   "cell_type": "markdown",
   "metadata": {},
   "source": [
    "### Kreiranje **Prostorije raspored prikaza**\n",
    "\n",
    "- transformacija ```MeetingAssignment``` u ```ProstorijeRaspored```"
   ]
  },
  {
   "cell_type": "code",
   "execution_count": 25,
   "metadata": {},
   "outputs": [],
   "source": [
    "def meeting_assignments_to_prostorije_raspored(\n",
    "        semestar: int, \n",
    "        prostorije: list[Prostorija], \n",
    "        meeting_assignments: list[MeetingAssignmentJoined], \n",
    "        grains_per_day: int, \n",
    "        start_hour: int, \n",
    "        unassigned_file_path: str,\n",
    "        dir_path: str = '../out_data/'\n",
    ") -> ProstorijeRaspored:\n",
    "    # kreiranje strukture\n",
    "    raspored = ProstorijeRaspored(semestar, dict())\n",
    "    for prostorija in prostorije:\n",
    "        prostorija_raspored = ProstorijaRaspored(prostorija.oznaka, create_dani_dict())\n",
    "        raspored.prostorije[prostorija.id] = prostorija_raspored\n",
    "\n",
    "    # dodavanje MeetingAssignment-a u dane\n",
    "    ma_unassigned = []\n",
    "    for ma in meeting_assignments:\n",
    "        prostorija_red = meeting_assignment_to_prostorija_red(ma, grains_per_day, start_hour)\n",
    "        if prostorija_red is None:\n",
    "            ma_unassigned.append(ma)\n",
    "            continue\n",
    "        # dodati red u odgovarajucu prostoriju za odgovarajuci dan\n",
    "        dan_num = meeting_assignment_to_dan(ma)\n",
    "        prostorija_id = meeting_assignment_to_prostorija_id(ma)\n",
    "        prostorija = raspored.prostorije[prostorija_id]\n",
    "        prostorija.dani[dan_num].redovi.append(prostorija_red)\n",
    "\n",
    "    # sortiranje po vremenu (9:00-20:00)\n",
    "    for prosotrija_raspored in raspored.prostorije.values():\n",
    "        for dan in prosotrija_raspored.dani.values():\n",
    "            dan.redovi.sort(key=lambda red: red.vremePocetka)\n",
    "    \n",
    "    # zapisivanje nedodeljenih ma za rucnu dodelu\n",
    "    ReadWrite.write_to_file(ma_unassigned, unassigned_file_path, dir_path)\n",
    "\n",
    "    return raspored"
   ]
  },
  {
   "attachments": {},
   "cell_type": "markdown",
   "metadata": {},
   "source": [
    "### Kreiranje **Predavaci raspored prikaza**\n",
    "\n",
    "- transformacija ```MeetingAssignment``` u ```PredavaciRaspored```"
   ]
  },
  {
   "cell_type": "code",
   "execution_count": 26,
   "metadata": {},
   "outputs": [],
   "source": [
    "def meeting_assignments_to_predavaci_raspored(\n",
    "        semestar: int, \n",
    "        predavaci: list[Predavac], \n",
    "        meeting_assignments: list[MeetingAssignmentJoined], \n",
    "        grains_per_day: int, \n",
    "        start_hour: int, \n",
    "        unassigned_file_path: str,\n",
    "        dir_path: str = '../out_data/'\n",
    ") -> PredavaciRaspored:\n",
    "    # kreiranje strukture\n",
    "    raspored = PredavaciRaspored(semestar, dict())\n",
    "    for predavac in predavaci:\n",
    "        predavac_raspored = PredavacRaspored(predavac_to_ispis(predavac), create_dani_dict())\n",
    "        raspored.predavaci[predavac.id] = predavac_raspored\n",
    "\n",
    "    # dodavanje MeetingAssignment-a u dane\n",
    "    ma_unassigned = []\n",
    "    for ma in meeting_assignments:\n",
    "        predavac_red = meeting_assignment_to_predavac_red(ma, grains_per_day, start_hour)\n",
    "        if predavac_red is None:\n",
    "            ma_unassigned.append(ma)\n",
    "            continue\n",
    "        # dodati red svim predavacima za odgovarajuci dan\n",
    "        dan_num = meeting_assignment_to_dan(ma)\n",
    "        predavac_ids = meeting_assignment_to_predavaci_ids(ma)\n",
    "        for predavac_id in predavac_ids:\n",
    "            predavac = raspored.predavaci[predavac_id]\n",
    "            predavac.dani[dan_num].redovi.append(predavac_red)\n",
    "\n",
    "    # sortiranje po vremenu (9:00-20:00)\n",
    "    for predavacRaspored in raspored.predavaci.values():\n",
    "        for dan in predavacRaspored.dani.values():\n",
    "            dan.redovi.sort(key=lambda red: red.vremePocetka)\n",
    "    \n",
    "    # zapisivanje nedodeljenih ma za rucnu dodelu\n",
    "    ReadWrite.write_to_file(ma_unassigned, unassigned_file_path, dir_path)\n",
    "\n",
    "    return raspored"
   ]
  },
  {
   "attachments": {},
   "cell_type": "markdown",
   "metadata": {},
   "source": [
    "### Kreiranje **Google kalendar prikaza**\n",
    "\n",
    "- transformacija ```MeetingAssignment``` u ```GoogleCalendarPrikaz```"
   ]
  },
  {
   "cell_type": "code",
   "execution_count": 27,
   "metadata": {},
   "outputs": [],
   "source": [
    "from datetime import datetime, timedelta\n",
    "from copy import copy\n",
    "\n",
    "# pocetniDan mora biti u formatu '%d/%m/%Y'\n",
    "def meeting_assignment_to_predavac_google_red(\n",
    "        ma: MeetingAssignmentJoined,\n",
    "        grains_per_day: int, \n",
    "        start_hour: int, \n",
    "        pocetni_dan: str, \n",
    "        repeat_num: int = 1):\n",
    "    datum_format = '%d/%m/%Y'\n",
    "    # naslov\n",
    "    meeting = ma.meeting\n",
    "    tip_nastave = meeting.meetingTip\n",
    "    predmet_naziv = meeting.predmet.naziv\n",
    "    naslov = tip_nastave + ', ' + predmet_naziv\n",
    "\n",
    "    # datumi\n",
    "    pocetni_dan = datetime.strptime(pocetni_dan, datum_format).date()\n",
    "    dan_num = meeting_assignment_to_dan(ma)\n",
    "    datum_pocetka = (pocetni_dan + timedelta(days=dan_num)).strftime(datum_format)\n",
    "    datum_kraja = datum_pocetka\n",
    "\n",
    "    # vremena\n",
    "    start_time_grain = ma.startingTimeGrain.grainIndex\n",
    "    duration_in_grains = ma.meeting.durationInGrains\n",
    "    end_time_grain = start_time_grain + duration_in_grains - 1\n",
    "    vreme_pocetka = time_grain_index_to_time(start_time_grain, grains_per_day, start_hour)\n",
    "    vreme_kraja = time_grain_index_to_time(end_time_grain, grains_per_day, start_hour)\n",
    "\n",
    "    # opis\n",
    "    stud_grupe = meeting.studentskeGrupe\n",
    "    odsek = stud_grupe[0].studijskiProgram.naziv\n",
    "    godina = stud_grupe[0].godina\n",
    "    stud_grupa = stud_grupe_to_ispis(stud_grupe, meeting.biWeekly, tip_nastave)\n",
    "    opis = odsek + ', ' + str(godina) + '. godina, grupe: ' + stud_grupa\n",
    "\n",
    "    # lokacija\n",
    "    lokacija = ma.prostorija.oznaka\n",
    "\n",
    "    cal_prikaz = GoogleCalendarPrikaz(naslov, datum_pocetka, datum_kraja, vreme_pocetka, vreme_kraja, opis, lokacija, False, False)\n",
    "    # vrati listu termina * broj nedelja\n",
    "    # uvecaj datum za 7 dana za svaku nedelju\n",
    "    prikazi = [cal_prikaz]\n",
    "    for i in range(repeat_num - 1):\n",
    "        cal_next_prikaz = copy(cal_prikaz)\n",
    "        # (0 + 1) * 7 = pomera_nedelja_unapred\n",
    "        # pomeraj_nedelja_unapred + pomeraj_od_pocetnog_dana\n",
    "        sledeciDan = (pocetni_dan + timedelta(days=(i + 1) * 7 + dan_num)).strftime(datum_format)\n",
    "        cal_next_prikaz.datumPocetka = sledeciDan\n",
    "        cal_next_prikaz.datumKraja = sledeciDan\n",
    "        prikazi.append(cal_next_prikaz)\n",
    "    \n",
    "    return prikazi"
   ]
  },
  {
   "cell_type": "code",
   "execution_count": 28,
   "metadata": {},
   "outputs": [],
   "source": [
    "def meeting_assignments_to_predavac_google_calendar(\n",
    "        meeting_assignments: list[MeetingAssignmentJoined],\n",
    "        predavac_id: str,\n",
    "        pocetni_dan: str, \n",
    "        repeat_num: int,\n",
    "        grains_per_day: int, \n",
    "        start_hour: int\n",
    "):\n",
    "    raspored = []\n",
    "    for ma in meeting_assignments:\n",
    "        if ma.startingTimeGrain is None:\n",
    "            continue\n",
    "        predavac_ids = meeting_assignment_to_predavaci_ids(ma)\n",
    "        if predavac_id in predavac_ids:\n",
    "            raspored.extend(meeting_assignment_to_predavac_google_red(ma, grains_per_day, start_hour, pocetni_dan, repeat_num))\n",
    "    return raspored"
   ]
  },
  {
   "cell_type": "code",
   "execution_count": 29,
   "metadata": {},
   "outputs": [],
   "source": [
    "def write_google_calendar_csv(\n",
    "        filePath: str,\n",
    "        meeting_assignments: list[MeetingAssignmentJoined], \n",
    "        predavac_id: str, \n",
    "        pocetni_dan: str, \n",
    "        repeat_num: int, \n",
    "        grains_per_day: int, \n",
    "        start_hour: int\n",
    ") -> None:\n",
    "    # columns = ['Subject', 'Start Date', 'Start Time', 'End Date', 'End Time', 'All Day Event', 'Description', 'Location', 'Private']\n",
    "    raspored = meeting_assignments_to_predavac_google_calendar(\n",
    "        meeting_assignments, predavac_id, pocetni_dan, repeat_num, grains_per_day, start_hour)\n",
    "    df = pd.DataFrame.from_records([r.to_dict() for r in raspored])\n",
    "    df.to_csv(filePath, index=False)"
   ]
  },
  {
   "attachments": {},
   "cell_type": "markdown",
   "metadata": {},
   "source": [
    "### Kreiranje prikaza za **Edit-ovanje**\n",
    "\n",
    "- zauzece prostorija po time-grains (podeoci od 15 minuta)\n",
    "- prikaz celog mitinga u svakom time-grain koji zauzima"
   ]
  },
  {
   "cell_type": "code",
   "execution_count": 30,
   "metadata": {},
   "outputs": [],
   "source": [
    "def generate_grains_per_day(\n",
    "        start_idx: int, \n",
    "        count_per_day: int\n",
    ") -> list[int]:\n",
    "    day = []\n",
    "    for j in range(count_per_day):\n",
    "        day.append(start_idx * count_per_day + j)\n",
    "    return day"
   ]
  },
  {
   "cell_type": "code",
   "execution_count": 31,
   "metadata": {},
   "outputs": [],
   "source": [
    "def generate_grains(\n",
    "        day_count: int, \n",
    "        count_per_day: int\n",
    ") -> tuple[list[int], list[int]]:\n",
    "    grains_per_day = []\n",
    "    all_grains = []\n",
    "    for i in range(day_count):\n",
    "        day = []\n",
    "        day = generate_grains_per_day(i, count_per_day)\n",
    "        grains_per_day.append(day)\n",
    "        all_grains.extend(day)\n",
    "    return grains_per_day, all_grains"
   ]
  },
  {
   "cell_type": "code",
   "execution_count": 42,
   "metadata": {},
   "outputs": [],
   "source": [
    "def meeting_assignments_to_edit_view(\n",
    "        meeting_assignments: list[MeetingAssignmentJoined], \n",
    "        day_num: int, \n",
    "        grains_per_day: int\n",
    ") -> dict[str, dict[int, EditPrikaz]]: # TODO: mozda i ne, proveriti da li ce to biti kreirano\n",
    "    grains_per_day, all_grains = generate_grains(day_num, grains_per_day)\n",
    "    prostorija_odrzavanje = defaultdict(lambda: all_grains.copy())\n",
    "    for ma in meeting_assignments:\n",
    "        if ma.startingTimeGrain is None:\n",
    "            continue\n",
    "        zauzece = meeting_assignment_to_prostorija_zauzece(ma)\n",
    "        # dodajemo zauzece na odgovarajuci time grain\n",
    "        # -> vreme kada su slobodne ostaju indeksi\n",
    "        odrzavanje = meeting_assignment_to_edit_prikaz(ma)\n",
    "        for timeGrain in range(zauzece.firstTimeGrainIndex, zauzece.lastTimeGrainIndex):\n",
    "            prostorija_odrzavanje[zauzece.prostorijaOznaka][timeGrain] = odrzavanje\n",
    "    return prostorija_odrzavanje\n"
   ]
  },
  {
   "cell_type": "code",
   "execution_count": 33,
   "metadata": {},
   "outputs": [],
   "source": [
    "def create_columns(\n",
    "        grains_per_day: int, \n",
    "        start_hour: int\n",
    ") -> list[str]:\n",
    "    grains = generate_grains_per_day(0, grains_per_day)\n",
    "    # dodavanje kolone za oznaku\n",
    "    columns = ['Oznaka'] + [time_grain_index_to_time(grain, grains_per_day, start_hour) for grain in grains]\n",
    "    return columns"
   ]
  },
  {
   "cell_type": "code",
   "execution_count": 34,
   "metadata": {},
   "outputs": [],
   "source": [
    "def create_prostorija_row(\n",
    "        day_num: int, \n",
    "        grains_per_day: int, \n",
    "        weekly_zauzece # TODO: sta si ti?\n",
    "): # TODO: sta ti vracas?\n",
    "    # dobavi sve za odredjeni dan\n",
    "    start_grain = day_num * grains_per_day\n",
    "    end_grain = start_grain + grains_per_day\n",
    "    daily_zauzece = weekly_zauzece[start_grain:end_grain]\n",
    "    # napravi lep to string za objekat\n",
    "    daily_prikaz = [str(zauzece) if type(zauzece) != int else '' for zauzece in daily_zauzece]\n",
    "    return daily_prikaz"
   ]
  },
  {
   "cell_type": "code",
   "execution_count": 35,
   "metadata": {},
   "outputs": [],
   "source": [
    "def create_all_rows(\n",
    "        day_num: int, \n",
    "        grains_per_day: int, \n",
    "        all_zauzeca # TODO: sta ste vi\n",
    "): # TODO: sta vracas\n",
    "    all_rows = []\n",
    "    for oznaka, prostorija_zauzece in all_zauzeca.items():\n",
    "        all_rows.append([str(oznaka)] + create_prostorija_row(day_num, grains_per_day, prostorija_zauzece))\n",
    "    return all_rows"
   ]
  },
  {
   "cell_type": "code",
   "execution_count": 36,
   "metadata": {},
   "outputs": [],
   "source": [
    "def create_day_edit(\n",
    "        day_num: int, \n",
    "        grains_per_day: int, \n",
    "        start_hour: int, \n",
    "        all_zauzeca # TODO: nesto\n",
    "): # TODO: vraca nesto\n",
    "    columns = create_columns(grains_per_day, start_hour)\n",
    "    rows = create_all_rows(day_num, grains_per_day, all_zauzeca)\n",
    "    return columns, rows"
   ]
  },
  {
   "cell_type": "code",
   "execution_count": 37,
   "metadata": {},
   "outputs": [],
   "source": [
    "def style_cell(\n",
    "        value: str, \n",
    "        ok, warn, danger # TODO: otkriti kog su tipa formati\n",
    "):\n",
    "    if 'PRED' in value and 'prekoracenje: 0' not in value:\n",
    "        return warn\n",
    "    if ('AUD' in value or 'RAC' in value or 'LAB' in value) and 'prekoracenje: 0' not in value:\n",
    "        return danger\n",
    "    if 'prekoracenje: 0' in value:\n",
    "        return ok"
   ]
  },
  {
   "cell_type": "code",
   "execution_count": 38,
   "metadata": {},
   "outputs": [],
   "source": [
    "def write_edit_view(\n",
    "        prostorija_odrzavanje, # nesto\n",
    "        file_name: str,\n",
    "        dir_path: str = '../out_data/'\n",
    "):\n",
    "    grains_per_day = 60 + 1 # 60 grains po danu + 1 za poslednju pauzu\n",
    "    start_hour = 7\n",
    "    dani = ['PON', 'UTO', 'SRE', 'CET', 'PET', 'SUB']\n",
    "\n",
    "    with pd.ExcelWriter(dir_path + file_name + '.xlsx', engine='xlsxwriter') as writer:\n",
    "        for idx, dan in enumerate(dani):\n",
    "            columns, rows = create_day_edit(idx, grains_per_day, start_hour, prostorija_odrzavanje)\n",
    "            df = pd.DataFrame(rows, columns=columns)\n",
    "            df.to_excel(writer, sheet_name=dan, index=False)\n",
    "            # formatiranje\n",
    "            workbook = writer.book\n",
    "            # column width\n",
    "            worksheet = writer.sheets[dan]\n",
    "            worksheet.set_default_row(188.5)\n",
    "            worksheet.set_row(0, 14.5)\n",
    "            worksheet.set_column('B:BJ', 20)\n",
    "            # freeze header and first column\n",
    "            worksheet.freeze_panes(1, 1)\n",
    "            # merge cells\n",
    "            merge_ok_format = workbook.add_format({'align': 'center', 'valign': 'vcenter', 'bg_color': '#D8E4BC', 'border': 1, 'text_wrap': True})\n",
    "            merge_warn_format = workbook.add_format({'align': 'center', 'valign': 'vcenter', 'bg_color': '#FDE9D9', 'border': 1, 'text_wrap': True})\n",
    "            merge_danger_format = workbook.add_format({'align': 'center', 'valign': 'vcenter', 'bg_color': '#E6B8B7', 'border': 1, 'text_wrap': True})\n",
    "\n",
    "            for row_idx, row in enumerate(rows):\n",
    "                # za svaki red\n",
    "                current_meeting = ''\n",
    "                merge_start = 0\n",
    "                merge_end = 0\n",
    "                for col_idx, meeting in enumerate(row):\n",
    "                    # ignorisi prvu vrednost (ime prostorije)\n",
    "                    if col_idx == 0:\n",
    "                        continue\n",
    "                    # zapamti prvo pojavljivanje (ime i broj kolone -> B2)\n",
    "                    if current_meeting == '' and meeting != '':\n",
    "                        current_meeting = meeting\n",
    "                        merge_start = col_idx\n",
    "                        merge_end = merge_start\n",
    "                    \n",
    "                    # sve dok je isto, uvecavaj broj kolone (B2++)\n",
    "                    if current_meeting == meeting:\n",
    "                        merge_end = col_idx\n",
    "                    # naisao na novo\n",
    "                    else:\n",
    "                        # odradi merge\n",
    "                        style = style_cell(current_meeting, merge_ok_format, merge_warn_format, merge_danger_format)\n",
    "                        worksheet.merge_range(row_idx+1, merge_start, row_idx+1, merge_end, current_meeting, style)\n",
    "                        # resetuj vrednosti na novi\n",
    "                        current_meeting = meeting\n",
    "                        merge_start = col_idx\n",
    "                        merge_end = merge_start\n",
    "                # merge poslednjeg ako nije prazno\n",
    "                if current_meeting != '':\n",
    "                    style = style_cell(current_meeting, merge_ok_format, merge_warn_format, merge_danger_format)\n",
    "                    worksheet.merge_range(row_idx+1, merge_start, row_idx+1, merge_end, current_meeting, style)"
   ]
  },
  {
   "attachments": {},
   "cell_type": "markdown",
   "metadata": {},
   "source": [
    "### Izvršavanje"
   ]
  },
  {
   "cell_type": "code",
   "execution_count": 50,
   "metadata": {},
   "outputs": [],
   "source": [
    "schedule = MeetingSchedule.read_entity_from_file('7_schedule_oas')\n",
    "meeting_assignments = MeetingAssignmentJoined.read_list_from_file('8_optimized_oas')"
   ]
  },
  {
   "cell_type": "code",
   "execution_count": 51,
   "metadata": {},
   "outputs": [],
   "source": [
    "unassigned_file_path = '9_unassigned_schedule_oas'\n",
    "grains_per_day = 60\n",
    "start_hour = 7\n",
    "# neki predavac do kog je stigla optimizacija\n",
    "predavac_id = next(predavac.id for predavac in schedule.predavacList if predavac.ime == 'Petar' and predavac.prezime == 'Trifunović')\n",
    "pocetni_dan = '16/10/2023'\n",
    "broj_nedelja = 2"
   ]
  },
  {
   "cell_type": "code",
   "execution_count": 52,
   "metadata": {},
   "outputs": [],
   "source": [
    "raspored = meeting_assignments_to_stud_programi_raspored('Z', schedule.studProgramList, meeting_assignments, grains_per_day, start_hour, unassigned_file_path)\n",
    "prostorije_raspored = meeting_assignments_to_prostorije_raspored('Z', schedule.prostorijaList, meeting_assignments, grains_per_day, start_hour, unassigned_file_path)\n",
    "predavaci_raspored = meeting_assignments_to_predavaci_raspored('Z', schedule.predavacList, meeting_assignments, grains_per_day, start_hour, unassigned_file_path)\n",
    "\n",
    "predavac_kalendar = meeting_assignments_to_predavac_google_calendar(meeting_assignments, predavac_id, pocetni_dan, broj_nedelja, grains_per_day, start_hour)\n",
    "\n",
    "# # TODO: proveriti sto je ovde veci broj\n",
    "day_num = 6\n",
    "grains_per_day = 61\n",
    "prostorija_odrzavanje = meeting_assignments_to_edit_view(meeting_assignments, day_num, grains_per_day)"
   ]
  },
  {
   "cell_type": "code",
   "execution_count": 53,
   "metadata": {},
   "outputs": [],
   "source": [
    "ReadWrite.write_to_file(raspored, '9_raspored')\n",
    "ReadWrite.write_to_file(prostorije_raspored, '9_prostorije_raspored')\n",
    "ReadWrite.write_to_file(predavaci_raspored, '9_predavaci_raspored')\n",
    "\n",
    "file_name = '9_editRasporedView'\n",
    "write_edit_view(prostorija_odrzavanje, file_name)"
   ]
  },
  {
   "cell_type": "code",
   "execution_count": 54,
   "metadata": {},
   "outputs": [
    {
     "name": "stdout",
     "output_type": "stream",
     "text": [
      "StudProgramRaspored(studProgramNaziv='Softversko inženjerstvo i informacione tehnologije', studProgramStepenStudija='oas', semestri={1: Semestar(semestarNum=1, dani={0: RasporedDan(danNum=0, redovi=[RasporedRed(studGrupa='3', vremePocetka='10:15', vremeKraja='12:45', vrstaNastave='RAC', nazivPred='Arhitektura računara', prostorija='MI A2-3', predavac='Trifunović Petar'), RasporedRed(studGrupa='3', vremePocetka='13:30', vremeKraja='16:00', vrstaNastave='RAC', nazivPred='Osnove programiranja', prostorija='MI B4-5A', predavac='Nikolić Lazar')]), 1: RasporedDan(danNum=1, redovi=[RasporedRed(studGrupa='SVI', vremePocetka='09:30', vremeKraja='11:15', vrstaNastave='PRED', nazivPred='Sociologija tehnike', prostorija='310', predavac='Nešić Tomašević dr Ana'), RasporedRed(studGrupa='2', vremePocetka='21:00', vremeKraja='08:15', vrstaNastave='RAC', nazivPred='Osnove programiranja', prostorija='NTP-309', predavac='Nikolić Lazar')]), 2: RasporedDan(danNum=2, redovi=[RasporedRed(studGrupa='2', vremePocetka='15:15', vremeKraja='17:45', vrstaNastave='RAC', nazivPred='Arhitektura računara', prostorija='NTP-316', predavac='Horvat Nebojša')]), 3: RasporedDan(danNum=3, redovi=[RasporedRed(studGrupa='3, 4, 5', vremePocetka='10:30', vremeKraja='15:15', vrstaNastave='AUD', nazivPred='Algebra', prostorija='102', predavac='Erić Mirjana'), RasporedRed(studGrupa='SVI', vremePocetka='17:45', vremeKraja='20:30', vrstaNastave='PRED', nazivPred='Osnove programiranja', prostorija='A2', predavac='Milosavljević dr Branko')]), 4: RasporedDan(danNum=4, redovi=[RasporedRed(studGrupa='4', vremePocetka='09:30', vremeKraja='12:00', vrstaNastave='RAC', nazivPred='Arhitektura računara', prostorija='MI A2-3', predavac='Horvat Nebojša'), RasporedRed(studGrupa='SVI', vremePocetka='13:15', vremeKraja='15:00', vrstaNastave='PRED', nazivPred='Algebra', prostorija='311', predavac='Doroslovački dr Ksenija')]), 5: RasporedDan(danNum=5, redovi=[])}), 2: Semestar(semestarNum=3, dani={0: RasporedDan(danNum=0, redovi=[RasporedRed(studGrupa='5', vremePocetka='07:45', vremeKraja='09:15', vrstaNastave='RAC', nazivPred='Organizacija podataka', prostorija='NTP-317', predavac='Ivković Vladimir')]), 1: RasporedDan(danNum=1, redovi=[RasporedRed(studGrupa='SVI', vremePocetka='07:45', vremeKraja='09:30', vrstaNastave='PRED', nazivPred='Nelinearno programiranje i evolutivni algoritmi', prostorija='208', predavac='Jeličić dr Zoran, Rapaić dr Milan'), RasporedRed(studGrupa='(1)', vremePocetka='10:15', vremeKraja='11:00', vrstaNastave='RAC', nazivPred='Nelinearno programiranje i evolutivni algoritmi', prostorija='NTP-415', predavac='Arsenović Jovana'), RasporedRed(studGrupa='3', vremePocetka='11:15', vremeKraja='13:45', vrstaNastave='RAC', nazivPred='Objektno orijentisano programiranje 2', prostorija='MI B4-1', predavac='Ivanović Sandra')]), 2: RasporedDan(danNum=2, redovi=[RasporedRed(studGrupa='2(3)', vremePocetka='09:00', vremeKraja='09:45', vrstaNastave='RAC', nazivPred='Nelinearno programiranje i evolutivni algoritmi', prostorija='MI A2-4A', predavac='Buljević Anja'), RasporedRed(studGrupa='4', vremePocetka='16:30', vremeKraja='19:00', vrstaNastave='RAC', nazivPred='Objektno orijentisano programiranje 2', prostorija='MI D4-A', predavac='Ivanović Sandra'), RasporedRed(studGrupa='3', vremePocetka='18:30', vremeKraja='20:00', vrstaNastave='RAC', nazivPred='Napredni algoritmi i strukture podataka', prostorija='L5 (RC)', predavac='Simić dr Miloš'), RasporedRed(studGrupa='1', vremePocetka='19:15', vremeKraja='21:45', vrstaNastave='RAC', nazivPred='Objektno orijentisano programiranje 2', prostorija='NTP-507', predavac='Kenjić Dušan')]), 3: RasporedDan(danNum=3, redovi=[RasporedRed(studGrupa='2', vremePocetka='11:15', vremeKraja='12:45', vrstaNastave='RAC', nazivPred='Organizacija podataka', prostorija='L6 (RC)', predavac='Todorović Nikola'), RasporedRed(studGrupa='SVI', vremePocetka='13:15', vremeKraja='16:00', vrstaNastave='PRED', nazivPred='Diskretna matematika', prostorija='310', predavac='Pantović dr Jovanka'), RasporedRed(studGrupa='1, 2', vremePocetka='18:45', vremeKraja='21:15', vrstaNastave='AUD', nazivPred='Diskretna matematika', prostorija='NTP-001', predavac='Ciganović Radojka')]), 4: RasporedDan(danNum=4, redovi=[RasporedRed(studGrupa='1', vremePocetka='11:00', vremeKraja='12:30', vrstaNastave='RAC', nazivPred='Napredni algoritmi i strukture podataka', prostorija='L2 (RC)', predavac='Ranković Tamara'), RasporedRed(studGrupa='SVI', vremePocetka='13:15', vremeKraja='15:00', vrstaNastave='PRED', nazivPred='Numerički algoritmi i numerički softver', prostorija='A1', predavac='Kovačević dr Aleksandar')]), 5: RasporedDan(danNum=5, redovi=[])}), 3: Semestar(semestarNum=5, dani={0: RasporedDan(danNum=0, redovi=[RasporedRed(studGrupa='1', vremePocetka='11:30', vremeKraja='13:00', vrstaNastave='RAC', nazivPred='Inženjerstvo klijentskog sloja', prostorija='NTP-307', predavac='Dorić Luka'), RasporedRed(studGrupa='3', vremePocetka='12:15', vremeKraja='13:45', vrstaNastave='RAC', nazivPred='Testiranje softvera', prostorija='L3 (RC)', predavac='Vejnović Mina'), RasporedRed(studGrupa='SVI', vremePocetka='15:15', vremeKraja='17:00', vrstaNastave='PRED', nazivPred='Inženjerstvo klijentskog sloja', prostorija='AH1B', predavac='Segedinac dr Milan')]), 1: RasporedDan(danNum=1, redovi=[RasporedRed(studGrupa='4', vremePocetka='12:15', vremeKraja='13:45', vrstaNastave='RAC', nazivPred='Metodologije razvoja softvera', prostorija='NTP-311', predavac='Trajković Anđela'), RasporedRed(studGrupa='1', vremePocetka='20:00', vremeKraja='21:30', vrstaNastave='RAC', nazivPred='Mobilne aplikacije', prostorija='MI B4-5', predavac='Antešević Svetlana')]), 2: RasporedDan(danNum=2, redovi=[RasporedRed(studGrupa='SVI', vremePocetka='07:15', vremeKraja='09:00', vrstaNastave='PRED', nazivPred='Inženjerstvo serverskog sloja', prostorija='205', predavac='Vidaković dr Milan'), RasporedRed(studGrupa='2', vremePocetka='19:45', vremeKraja='21:15', vrstaNastave='RAC', nazivPred='Metodologije razvoja softvera', prostorija='L4 (RC)', predavac='Saradnik Nov')]), 3: RasporedDan(danNum=3, redovi=[RasporedRed(studGrupa='2', vremePocetka='11:30', vremeKraja='13:00', vrstaNastave='RAC', nazivPred='Inženjerstvo klijentskog sloja', prostorija='NTP-309', predavac='Dorić Luka'), RasporedRed(studGrupa='3', vremePocetka='11:45', vremeKraja='14:15', vrstaNastave='RAC', nazivPred='Inženjerstvo serverskog sloja', prostorija='MI V3-5', predavac='Nikolić Lazar'), RasporedRed(studGrupa='2', vremePocetka='13:30', vremeKraja='15:00', vrstaNastave='RAC', nazivPred='Testiranje softvera', prostorija='L3 (RC)', predavac='Vejnović Mina'), RasporedRed(studGrupa='SVI', vremePocetka='17:30', vremeKraja='19:15', vrstaNastave='PRED', nazivPred='Testiranje softvera', prostorija='109A', predavac='Savić dr Goran')]), 4: RasporedDan(danNum=4, redovi=[RasporedRed(studGrupa='3', vremePocetka='11:15', vremeKraja='12:45', vrstaNastave='RAC', nazivPred='Inženjerstvo klijentskog sloja', prostorija='L5 (RC)', predavac='Dorić Luka'), RasporedRed(studGrupa='4', vremePocetka='11:45', vremeKraja='13:15', vrstaNastave='RAC', nazivPred='Mobilne aplikacije', prostorija='L3 (RC)', predavac='Matković Jelena')]), 5: RasporedDan(danNum=5, redovi=[])}), 4: Semestar(semestarNum=7, dani={0: RasporedDan(danNum=0, redovi=[]), 1: RasporedDan(danNum=1, redovi=[]), 2: RasporedDan(danNum=2, redovi=[]), 3: RasporedDan(danNum=3, redovi=[]), 4: RasporedDan(danNum=4, redovi=[]), 5: RasporedDan(danNum=5, redovi=[])})})\n",
      "PredavacRaspored(predavacIme='Trifunović Petar', dani={0: RasporedDan(danNum=0, redovi=[PredavacRed(studGrupa='3', vremePocetka='10:15', vremeKraja='12:45', vrstaNastave='RAC', nazivPred='Arhitektura računara', prostorija='MI A2-3', odsek='Softversko inženjerstvo i informacione tehnologije', semestar='II')]), 1: RasporedDan(danNum=1, redovi=[]), 2: RasporedDan(danNum=2, redovi=[]), 3: RasporedDan(danNum=3, redovi=[]), 4: RasporedDan(danNum=4, redovi=[]), 5: RasporedDan(danNum=5, redovi=[])})\n",
      "[GoogleCalendarPrikaz(naslov='RAC, Arhitektura računara', datumPocetka='16/10/2023', datumKraja='16/10/2023', vremePocetka='10:15', vremeKraja='12:45', opis='Softversko inženjerstvo i informacione tehnologije, 1. godina, grupe: 3', lokacija='MI A2-3', ceoDan=False, privatan=False), GoogleCalendarPrikaz(naslov='RAC, Arhitektura računara', datumPocetka='23/10/2023', datumKraja='23/10/2023', vremePocetka='10:15', vremeKraja='12:45', opis='Softversko inženjerstvo i informacione tehnologije, 1. godina, grupe: 3', lokacija='MI A2-3', ceoDan=False, privatan=False)]\n"
     ]
    }
   ],
   "source": [
    "siit_id = next(x.id for x in schedule.studProgramList if x.naziv == 'Softversko inženjerstvo i informacione tehnologije')\n",
    "siit = raspored.studProgrami[siit_id]\n",
    "print(siit)\n",
    "\n",
    "predavac = predavaci_raspored.predavaci[predavac_id]\n",
    "print(predavac)\n",
    "\n",
    "print(predavac_kalendar)"
   ]
  },
  {
   "cell_type": "code",
   "execution_count": null,
   "metadata": {},
   "outputs": [],
   "source": []
  }
 ],
 "metadata": {
  "kernelspec": {
   "display_name": "venv",
   "language": "python",
   "name": "python3"
  },
  "language_info": {
   "codemirror_mode": {
    "name": "ipython",
    "version": 3
   },
   "file_extension": ".py",
   "mimetype": "text/x-python",
   "name": "python",
   "nbconvert_exporter": "python",
   "pygments_lexer": "ipython3",
   "version": "3.11.2"
  },
  "orig_nbformat": 4
 },
 "nbformat": 4,
 "nbformat_minor": 2
}
